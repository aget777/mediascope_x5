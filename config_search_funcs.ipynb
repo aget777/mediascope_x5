{
 "cells": [
  {
   "cell_type": "code",
   "execution_count": 1,
   "id": "65a2ba0b-d6c9-4507-8b1f-41081c09f2f8",
   "metadata": {},
   "outputs": [],
   "source": [
    "import pandas as pd\n",
    "\n",
    "import config\n",
    "import config_media_costs\n",
    "from db_funcs import get_mssql_russian_chars, get_mssql_table"
   ]
  },
  {
   "cell_type": "code",
   "execution_count": 2,
   "id": "acb2eef1-e2ab-4fa6-a44e-26709e9b082a",
   "metadata": {},
   "outputs": [],
   "source": [
    "\"\"\"\n",
    "нам необходимо из базы Медиаскоп инвестиции получить уникальные ИД суббрендов по УЗКОМУ фильтру t10.sid2 in (2272,2277) начиная с 01.01.2020\n",
    "далее в запросе для получения статистики мы возьмем более широкий фильтр для t10.sid2 in (2277, 2272, 3972, -11, -126)\n",
    "и добавим к нему условие, что суббренды нас интересуют только из полученных здесь\n",
    "таким образом мы сможем уменьшить размер ответа из широкого фильтра\n",
    "\n",
    "При этом нам нужен общий список суббрендов НЕ зависимо от типа Медиа\n",
    "т.е. по итогу при получении статистики по ТВ мы будем в т.ч. учитывать ИД суббрендов из прессы, радио и тд.\n",
    "\n",
    "Эта функция работает при каждом обновлении таким образом, в нее постоянно добавляются новые ИД суббрендов\n",
    "так же используем ее для каждого типа медиа\n",
    "\"\"\"\n",
    "\n",
    "def get_subbrand_id_str(mon_num='360'):\n",
    "    media_type_lst=['tv', 'ra', 'od', 'pr']\n",
    "    result = pd.DataFrame()\n",
    "    for media_type in media_type_lst:\n",
    "        # создаем фильтр, который будем применять во воложенном запросе для фильтрации ВСЕХ ТАБЛИЦ по ВСЕМ ИСТОЧНИКАМ\n",
    "        # этот фильтр используем в ТВ, Радио, ООН, Пресса\n",
    "        # Префикс для фильтруемой таблицы задан с запасом = t10\n",
    "        query = f\"\"\"\n",
    "        select sbid, name from Subbrand\n",
    "        where sbid in (\n",
    "        select distinct t3.sbid from\n",
    "        (select distinct t10.sid2, t10.sbid  from {media_type}_Ad_month t1\n",
    "        left join {media_type}_Appendix t10\n",
    "        on t1.vid=t10.vid\n",
    "        where t1.mon>=360 and t10.sid2 in (2272,2277)) t3)\n",
    "        \"\"\"\n",
    "        # отправляем запрос в БД Медиа инвестиции\n",
    "        \n",
    "        df = get_mssql_russian_chars(config.investments_db_name, query=query, conn_lst=config.conn_lst)\n",
    "\n",
    "        result = pd.concat([result, df])\n",
    "        \n",
    "    result =set(result['sbid']) #result.drop_duplicates(['sbid'])\n",
    "    subbrand_id_str = config.get_lst_to_str(result)\n",
    "\n",
    "    return subbrand_id_str"
   ]
  },
  {
   "cell_type": "code",
   "execution_count": 3,
   "id": "913c5bab-873e-4db4-8bac-2311de7125ef",
   "metadata": {},
   "outputs": [],
   "source": [
    "\n",
    "def get_outdoor_regions():\n",
    "    # забираем названия городов из гугл докса\n",
    "    media_tyte_detail_link = config_media_costs.media_type_detail_dict['outdoor']\n",
    "    df = pd.read_csv(media_tyte_detail_link)\n",
    "    df['Region'] = df['Region'].str.strip().str.upper()    \n",
    "    # удалем дубликаты\n",
    "    regions_name_tup = tuple(set(df['Region']))  \n",
    "    # отправляем запрос в БД Медиа инвестиции\n",
    "    query = f\"select distinct rid from Region where name in {regions_name_tup}\"\n",
    "    df = get_mssql_russian_chars(config.investments_db_name, query=query, conn_lst=config.conn_lst)\n",
    "    # оставляем уникальные ИД городов\n",
    "    regions_id = set(df['rid'])\n",
    "    return regions_id"
   ]
  }
 ],
 "metadata": {
  "kernelspec": {
   "display_name": "Python 3 (ipykernel)",
   "language": "python",
   "name": "python3"
  },
  "language_info": {
   "codemirror_mode": {
    "name": "ipython",
    "version": 3
   },
   "file_extension": ".py",
   "mimetype": "text/x-python",
   "name": "python",
   "nbconvert_exporter": "python",
   "pygments_lexer": "ipython3",
   "version": "3.11.7"
  }
 },
 "nbformat": 4,
 "nbformat_minor": 5
}
