{
 "cells": [
  {
   "cell_type": "code",
   "execution_count": 1,
   "id": "affc2c39-685f-46bc-9d10-1aa9fc48230a",
   "metadata": {},
   "outputs": [
    {
     "name": "stdout",
     "output_type": "stream",
     "text": [
      "Все ок. Подключились!\n",
      "Загрузка завершена успешно\n",
      "Запрошены записи: 0 - 314\n",
      "Всего найдено записей: 314\n",
      "\n",
      "Запрошены записи: 0 - 314\n",
      "Всего найдено записей: 314\n",
      "\n",
      "Запрошены записи: 0 - 314\n",
      "Всего найдено записей: 314\n",
      "\n",
      "Запрошены записи: 0 - 314\n",
      "Всего найдено записей: 314\n",
      "\n",
      "База данных для записи: mediascope_x5\n"
     ]
    }
   ],
   "source": [
    "import os\n",
    "\n",
    "from time import sleep\n",
    "import config\n",
    "import config_tv_index\n",
    "from config_search_funcs import get_subbrand_id_str\n",
    "from nat_tv_ratings import get_nat_tv_reports, update_nat_tv_fact\n",
    "from create_dicts_tv_index import update_tv_index_dicts, update_nat_tv_ad_dict\n",
    "from google_connector import append_ads_to_google, query_for_google\n",
    "\n",
    "start_date = '2025-05-10' # если дата начала НЕ указана, то start_date = Сегодня минус 3 дня минус 17 дней\n",
    "end_date = '' #'2025-02-09' #- ВКЛЮЧИТЕЛЬНО / если дата окончания НЕ указана, то end_date = Сегодня минус 3 дня\n",
    "\n",
    "flag='regular' #first / regular\n",
    "\n",
    "\n",
    "print(f'База данных для записи: {config.db_name}')"
   ]
  },
  {
   "cell_type": "code",
   "execution_count": null,
   "id": "894e1f9f-a923-4939-b656-d7619b81da04",
   "metadata": {},
   "outputs": [],
   "source": [
    "# ПЕРЕД загрузкой Обновляем все справочники из ТВ Индекс\n",
    "# и ПОСЛЕ тоже обновим\n",
    "update_tv_index_dicts()\n",
    "sleep(10)\n",
    "# Обновляем основной справочник объявлений\n",
    "update_nat_tv_ad_dict()"
   ]
  },
  {
   "cell_type": "code",
   "execution_count": null,
   "id": "dcae3931-38a0-4ada-8e65-306fb27bc26f",
   "metadata": {},
   "outputs": [],
   "source": [
    "# Если флаг first - создаем набор пустых таблиц-справочников / \n",
    "# забираем статистику / заполняем таблицы фактов и справочник nat_tv_ad_dict\n",
    "# Если флаг regular - то грузим статистику и обновляем справочники\n",
    "# если start_date(дата начала) НЕ указана, то \n",
    "# удаляем из БД - последние 17(сегодня-14-3) дней\n",
    "# перезаисываем статистику за этот период\n",
    "# если НЕ указана end_date(дата окончания) - ВКЛЮЧИТЕЛЬНО, то грузим данные до сегодня-3 дня\n",
    "# получаем статистику по отчету Simple и Buying\n",
    "get_nat_tv_reports(start_date=start_date, end_date=end_date, flag=flag)\n",
    "# get_nat_tv_reports(flag=flag)\n",
    "\n",
    "# ПОСЛЕ загрузки данных Обновляем все справочники из ТВ Индекс\n",
    "update_tv_index_dicts()\n",
    "sleep(10)\n",
    "# Обновляем основной справочник объявлений\n",
    "update_nat_tv_ad_dict()\n",
    "\n",
    "# загружаем в гугл докс Чистка список объяалений с флагом=2\n",
    "\n",
    "query = query_for_google(report='ratings')\n",
    "worksheet = config_tv_index.google_new_ads_nat_tv['worksheet']\n",
    "\n",
    "append_ads_to_google(query=query, worksheet=worksheet)"
   ]
  },
  {
   "cell_type": "code",
   "execution_count": null,
   "id": "fe5c31c1-b6b0-4a1f-97cc-620666988a5e",
   "metadata": {},
   "outputs": [],
   "source": []
  },
  {
   "cell_type": "code",
   "execution_count": null,
   "id": "ef84d6ff-158d-4a15-85ef-b2887bc57c25",
   "metadata": {},
   "outputs": [],
   "source": []
  },
  {
   "cell_type": "code",
   "execution_count": null,
   "id": "f3eb9edd-7ded-43f8-8e24-ab4f53134f9a",
   "metadata": {},
   "outputs": [],
   "source": [
    "# # Может возникнуть необходимость перезаписать кастомные поля в таблицах ТВ индекс\n",
    "# # например - пересмотрели размер дисконта / изменили правила опеределения одной из кастомных колонок и тд.\n",
    "# # В этом случае забираем из нашей БД из каждой таблицы расходов колонки, которые мы взяли из ТВ индекс\n",
    "# # И пропускаем по тем же шагам обработки, которые применялись в первоначальной загрузке\n",
    "# # По итогу - удаляем существующую таблицу в БД и на ее место записываем таблицу с новуми данными\n",
    "\n",
    "\n",
    "# update_nat_tv_fact(report='simple')\n",
    "# sleep(20)\n",
    "# update_nat_tv_fact(report='buying')"
   ]
  },
  {
   "cell_type": "code",
   "execution_count": null,
   "id": "e2ce1b16-d771-4511-96c2-05c52407af3d",
   "metadata": {},
   "outputs": [],
   "source": []
  },
  {
   "cell_type": "code",
   "execution_count": null,
   "id": "9a4857c7-0860-410e-9ba3-288f52cfa0da",
   "metadata": {},
   "outputs": [],
   "source": []
  },
  {
   "cell_type": "code",
   "execution_count": null,
   "id": "99eb0366-4a9d-4bd5-b491-0360bd3691b4",
   "metadata": {},
   "outputs": [],
   "source": []
  },
  {
   "cell_type": "code",
   "execution_count": null,
   "id": "200e7b8c-c1d5-4c31-9c7e-e664e59862c6",
   "metadata": {},
   "outputs": [],
   "source": []
  }
 ],
 "metadata": {
  "kernelspec": {
   "display_name": "Python 3 (ipykernel)",
   "language": "python",
   "name": "python3"
  },
  "language_info": {
   "codemirror_mode": {
    "name": "ipython",
    "version": 3
   },
   "file_extension": ".py",
   "mimetype": "text/x-python",
   "name": "python",
   "nbconvert_exporter": "python",
   "pygments_lexer": "ipython3",
   "version": "3.11.7"
  }
 },
 "nbformat": 4,
 "nbformat_minor": 5
}
