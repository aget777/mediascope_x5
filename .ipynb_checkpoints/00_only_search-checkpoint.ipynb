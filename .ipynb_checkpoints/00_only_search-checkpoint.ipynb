{
 "cells": [
  {
   "cell_type": "code",
   "execution_count": 1,
   "id": "d5ee4a0b",
   "metadata": {},
   "outputs": [
    {
     "name": "stdout",
     "output_type": "stream",
     "text": [
      "Запрошены записи: 0 - 314\n",
      "Всего найдено записей: 314\n",
      "\n",
      "Запрошены записи: 0 - 314\n",
      "Всего найдено записей: 314\n",
      "\n"
     ]
    }
   ],
   "source": [
    "%reload_ext autoreload\n",
    "%autoreload 2\n",
    "\n",
    "import sys\n",
    "import os\n",
    "import re\n",
    "import json\n",
    "import datetime\n",
    "import time\n",
    "import pandas as pd\n",
    "import numpy as np\n",
    "from IPython.display import JSON\n",
    "\n",
    "from mediascope_api.core import net as mscore\n",
    "from mediascope_api.mediavortex import tasks as cwt\n",
    "from mediascope_api.mediavortex import catalogs as cwc\n",
    "\n",
    "# Включаем отображение всех колонок\n",
    "pd.set_option('display.max_columns', None)\n",
    "\n",
    "# Cоздаем объекты для работы с TVI API\n",
    "mnet = mscore.MediascopeApiNetwork()\n",
    "mtask = cwt.MediaVortexTask()\n",
    "cats = cwc.MediaVortexCats()"
   ]
  },
  {
   "cell_type": "code",
   "execution_count": 2,
   "id": "8a401d14",
   "metadata": {},
   "outputs": [],
   "source": [
    "# Включаем отображение всех колонок\n",
    "pd.set_option('display.max_columns', None)\n",
    "\n",
    "# Задаем ширину столбцов по контенту\n",
    "pd.set_option('display.max_colwidth', None)\n",
    "\n",
    "pd.set_option('display.max_rows', None)"
   ]
  },
  {
   "cell_type": "code",
   "execution_count": 4,
   "id": "7dda3f9e",
   "metadata": {},
   "outputs": [
    {
     "name": "stdout",
     "output_type": "stream",
     "text": [
      "Запрошены записи: 0 - 314\n",
      "Всего найдено записей: 314\n",
      "\n"
     ]
    },
    {
     "data": {
      "text/html": [
       "<div>\n",
       "<style scoped>\n",
       "    .dataframe tbody tr th:only-of-type {\n",
       "        vertical-align: middle;\n",
       "    }\n",
       "\n",
       "    .dataframe tbody tr th {\n",
       "        vertical-align: top;\n",
       "    }\n",
       "\n",
       "    .dataframe thead th {\n",
       "        text-align: right;\n",
       "    }\n",
       "</style>\n",
       "<table border=\"1\" class=\"dataframe\">\n",
       "  <thead>\n",
       "    <tr style=\"text-align: right;\">\n",
       "      <th></th>\n",
       "      <th>id</th>\n",
       "      <th>name</th>\n",
       "      <th>entityName</th>\n",
       "      <th>valueId</th>\n",
       "      <th>valueName</th>\n",
       "    </tr>\n",
       "  </thead>\n",
       "  <tbody>\n",
       "    <tr>\n",
       "      <th>0</th>\n",
       "      <td>1</td>\n",
       "      <td>Пол</td>\n",
       "      <td>sex</td>\n",
       "      <td>1</td>\n",
       "      <td>Мужчины</td>\n",
       "    </tr>\n",
       "    <tr>\n",
       "      <th>1</th>\n",
       "      <td>1</td>\n",
       "      <td>Пол</td>\n",
       "      <td>sex</td>\n",
       "      <td>2</td>\n",
       "      <td>Женщины</td>\n",
       "    </tr>\n",
       "    <tr>\n",
       "      <th>2</th>\n",
       "      <td>2</td>\n",
       "      <td>Возраст</td>\n",
       "      <td>age</td>\n",
       "      <td>4</td>\n",
       "      <td>4</td>\n",
       "    </tr>\n",
       "    <tr>\n",
       "      <th>3</th>\n",
       "      <td>2</td>\n",
       "      <td>Возраст</td>\n",
       "      <td>age</td>\n",
       "      <td>5</td>\n",
       "      <td>5</td>\n",
       "    </tr>\n",
       "    <tr>\n",
       "      <th>4</th>\n",
       "      <td>2</td>\n",
       "      <td>Возраст</td>\n",
       "      <td>age</td>\n",
       "      <td>6</td>\n",
       "      <td>6</td>\n",
       "    </tr>\n",
       "  </tbody>\n",
       "</table>\n",
       "</div>"
      ],
      "text/plain": [
       "   id     name entityName  valueId valueName\n",
       "0   1      Пол        sex        1   Мужчины\n",
       "1   1      Пол        sex        2   Женщины\n",
       "2   2  Возраст        age        4         4\n",
       "3   2  Возраст        age        5         5\n",
       "4   2  Возраст        age        6         6"
      ]
     },
     "execution_count": 4,
     "metadata": {},
     "output_type": "execute_result"
    }
   ],
   "source": [
    "# Проверим ИД бренда ВТБ\n",
    "# test = cats.get_tv_grp_type() #баинговые аудитории\n",
    "# test = cats.get_tv_ad_position()\n",
    "# test = cats.get_tv_ad()  #'4316312, 3882515'\n",
    "demo_cats = cats.get_tv_demo_attribute()\n",
    "demo_cats.head()"
   ]
  },
  {
   "cell_type": "code",
   "execution_count": 10,
   "id": "b61ccdb4-6fc3-436c-96ce-6feb6dabec44",
   "metadata": {},
   "outputs": [],
   "source": [
    "import os\n",
    "file_path = r'C:\\Users\\o.bogomolov\\Downloads\\Telegram'\n",
    "file_name = 'demo_attribute.csv'\n",
    "\n",
    "demo_cats.to_csv(os.path.join(file_path, file_name), encoding='cp1251')"
   ]
  },
  {
   "cell_type": "code",
   "execution_count": 3,
   "id": "9a2ac9dc-6e09-4168-bace-34270765d097",
   "metadata": {},
   "outputs": [
    {
     "name": "stdout",
     "output_type": "stream",
     "text": [
      "Запрошены записи: 0 - 49\n",
      "Всего найдено записей: 49\n",
      "\n"
     ]
    },
    {
     "data": {
      "text/html": [
       "<div>\n",
       "<style scoped>\n",
       "    .dataframe tbody tr th:only-of-type {\n",
       "        vertical-align: middle;\n",
       "    }\n",
       "\n",
       "    .dataframe tbody tr th {\n",
       "        vertical-align: top;\n",
       "    }\n",
       "\n",
       "    .dataframe thead th {\n",
       "        text-align: right;\n",
       "    }\n",
       "</style>\n",
       "<table border=\"1\" class=\"dataframe\">\n",
       "  <thead>\n",
       "    <tr style=\"text-align: right;\">\n",
       "      <th></th>\n",
       "      <th>id</th>\n",
       "      <th>name</th>\n",
       "      <th>ename</th>\n",
       "      <th>notes</th>\n",
       "      <th>expression</th>\n",
       "    </tr>\n",
       "  </thead>\n",
       "  <tbody>\n",
       "    <tr>\n",
       "      <th>0</th>\n",
       "      <td>223</td>\n",
       "      <td>10-45 Cit</td>\n",
       "      <td>10-45 Cit</td>\n",
       "      <td>10-45 Панель города</td>\n",
       "      <td>AGE IN 10..45</td>\n",
       "    </tr>\n",
       "    <tr>\n",
       "      <th>1</th>\n",
       "      <td>23</td>\n",
       "      <td>10-45 Msk</td>\n",
       "      <td>10-45 Msk</td>\n",
       "      <td>10-45 Московская панель</td>\n",
       "      <td>AGE IN 10..45</td>\n",
       "    </tr>\n",
       "    <tr>\n",
       "      <th>2</th>\n",
       "      <td>123</td>\n",
       "      <td>10-45 Rus</td>\n",
       "      <td>10-45 Rus</td>\n",
       "      <td>10-45 Российская панель</td>\n",
       "      <td>AGE IN 10..45</td>\n",
       "    </tr>\n",
       "    <tr>\n",
       "      <th>3</th>\n",
       "      <td>212</td>\n",
       "      <td>11-34 Cit</td>\n",
       "      <td>11-34 Cit</td>\n",
       "      <td>11-34 Панель города</td>\n",
       "      <td>AGE IN 11..34</td>\n",
       "    </tr>\n",
       "    <tr>\n",
       "      <th>4</th>\n",
       "      <td>12</td>\n",
       "      <td>11-34 Msk</td>\n",
       "      <td>11-34 Msk</td>\n",
       "      <td>11-34 Московская панель</td>\n",
       "      <td>AGE IN 11..34</td>\n",
       "    </tr>\n",
       "  </tbody>\n",
       "</table>\n",
       "</div>"
      ],
      "text/plain": [
       "    id       name      ename                    notes     expression\n",
       "0  223  10-45 Cit  10-45 Cit      10-45 Панель города  AGE IN 10..45\n",
       "1   23  10-45 Msk  10-45 Msk  10-45 Московская панель  AGE IN 10..45\n",
       "2  123  10-45 Rus  10-45 Rus  10-45 Российская панель  AGE IN 10..45\n",
       "3  212  11-34 Cit  11-34 Cit      11-34 Панель города  AGE IN 11..34\n",
       "4   12  11-34 Msk  11-34 Msk  11-34 Московская панель  AGE IN 11..34"
      ]
     },
     "execution_count": 3,
     "metadata": {},
     "output_type": "execute_result"
    }
   ],
   "source": [
    "# Проверим ИД бренда ВТБ\n",
    "test2 = cats.get_tv_grp_type() #tv/breaks  tv/article\n",
    "test2.head()"
   ]
  },
  {
   "cell_type": "code",
   "execution_count": 12,
   "id": "a6f49223-ebc6-4eda-a6c3-867757ae3c0c",
   "metadata": {},
   "outputs": [],
   "source": [
    "import os\n",
    "file_path = r'C:\\Users\\o.bogomolov\\Downloads\\Telegram'\n",
    "file_name = 'tv_grp_type.csv'\n",
    "\n",
    "test2.to_csv(os.path.join(file_path, file_name), encoding='cp1251')"
   ]
  },
  {
   "cell_type": "code",
   "execution_count": 12,
   "id": "1f0b7f6b-f617-4086-90a5-6681b34c124d",
   "metadata": {},
   "outputs": [
    {
     "data": {
      "text/html": [
       "<div>\n",
       "<style scoped>\n",
       "    .dataframe tbody tr th:only-of-type {\n",
       "        vertical-align: middle;\n",
       "    }\n",
       "\n",
       "    .dataframe tbody tr th {\n",
       "        vertical-align: top;\n",
       "    }\n",
       "\n",
       "    .dataframe thead th {\n",
       "        text-align: right;\n",
       "    }\n",
       "</style>\n",
       "<table border=\"1\" class=\"dataframe\">\n",
       "  <thead>\n",
       "    <tr style=\"text-align: right;\">\n",
       "      <th></th>\n",
       "      <th>id</th>\n",
       "      <th>name</th>\n",
       "      <th>entityName</th>\n",
       "      <th>valueId</th>\n",
       "      <th>valueName</th>\n",
       "    </tr>\n",
       "  </thead>\n",
       "  <tbody>\n",
       "    <tr>\n",
       "      <th>159</th>\n",
       "      <td>9</td>\n",
       "      <td>Группа дохода по России</td>\n",
       "      <td>incomeGroupRussia</td>\n",
       "      <td>1</td>\n",
       "      <td>A</td>\n",
       "    </tr>\n",
       "    <tr>\n",
       "      <th>160</th>\n",
       "      <td>9</td>\n",
       "      <td>Группа дохода по России</td>\n",
       "      <td>incomeGroupRussia</td>\n",
       "      <td>2</td>\n",
       "      <td>B</td>\n",
       "    </tr>\n",
       "    <tr>\n",
       "      <th>161</th>\n",
       "      <td>9</td>\n",
       "      <td>Группа дохода по России</td>\n",
       "      <td>incomeGroupRussia</td>\n",
       "      <td>3</td>\n",
       "      <td>C</td>\n",
       "    </tr>\n",
       "    <tr>\n",
       "      <th>162</th>\n",
       "      <td>9</td>\n",
       "      <td>Группа дохода по России</td>\n",
       "      <td>incomeGroupRussia</td>\n",
       "      <td>4</td>\n",
       "      <td>N/a</td>\n",
       "    </tr>\n",
       "  </tbody>\n",
       "</table>\n",
       "</div>"
      ],
      "text/plain": [
       "     id                     name         entityName  valueId valueName\n",
       "159   9  Группа дохода по России  incomeGroupRussia        1         A\n",
       "160   9  Группа дохода по России  incomeGroupRussia        2         B\n",
       "161   9  Группа дохода по России  incomeGroupRussia        3         C\n",
       "162   9  Группа дохода по России  incomeGroupRussia        4       N/a"
      ]
     },
     "execution_count": 12,
     "metadata": {},
     "output_type": "execute_result"
    }
   ],
   "source": [
    "demo_cats[demo_cats['entityName']=='incomeGroupRussia']"
   ]
  },
  {
   "cell_type": "code",
   "execution_count": 54,
   "id": "9a07cbd0-f5ea-43fd-9a69-b21cc718f02d",
   "metadata": {},
   "outputs": [
    {
     "name": "stdout",
     "output_type": "stream",
     "text": [
      "Запрошены записи: 0 - 2033\n",
      "Всего найдено записей: 2033\n",
      "\n",
      "2408, 4780, 4926, 5028\n"
     ]
    }
   ],
   "source": [
    "# Article LEVEL\n",
    "article_cats = cats.get_tv_article()\n",
    "\n",
    "search_lst = ['СУПЕРМАРКЕТЫ', 'ИНТЕРНЕТ-СУПЕРМАРКЕТЫ', 'ДОСТАВКА ГОТОВОЙ ЕДЫ', 'ИНТЕРНЕТ-АГРЕГАТОРЫ ДОСТАВКИ ЕДЫ']\n",
    "search_lst = [i.upper() for i in search_lst]\n",
    "\n",
    "search_filter = list(article_cats.query('name in @search_lst')['id'])\n",
    "search_filter = ', '.join(str(i) for i in search_filter)\n",
    "\n",
    "print(search_filter)"
   ]
  },
  {
   "cell_type": "code",
   "execution_count": null,
   "id": "5aa46398-f724-4617-9084-1cb9185fb208",
   "metadata": {},
   "outputs": [],
   "source": []
  },
  {
   "cell_type": "code",
   "execution_count": 53,
   "id": "9f81c5c9-d7f8-497d-9290-a85a9b59aa67",
   "metadata": {},
   "outputs": [
    {
     "data": {
      "text/html": [
       "<div>\n",
       "<style scoped>\n",
       "    .dataframe tbody tr th:only-of-type {\n",
       "        vertical-align: middle;\n",
       "    }\n",
       "\n",
       "    .dataframe tbody tr th {\n",
       "        vertical-align: top;\n",
       "    }\n",
       "\n",
       "    .dataframe thead th {\n",
       "        text-align: right;\n",
       "    }\n",
       "</style>\n",
       "<table border=\"1\" class=\"dataframe\">\n",
       "  <thead>\n",
       "    <tr style=\"text-align: right;\">\n",
       "      <th></th>\n",
       "      <th>id</th>\n",
       "      <th>name</th>\n",
       "      <th>ename</th>\n",
       "      <th>level</th>\n",
       "      <th>parentId</th>\n",
       "      <th>notes</th>\n",
       "    </tr>\n",
       "  </thead>\n",
       "  <tbody>\n",
       "    <tr>\n",
       "      <th>1130</th>\n",
       "      <td>2408</td>\n",
       "      <td>ДОСТАВКА ГОТОВОЙ ЕДЫ</td>\n",
       "      <td>READY-TO-EAT FOOD DELIVERY</td>\n",
       "      <td>4</td>\n",
       "      <td>2321</td>\n",
       "      <td>Доставка пиццы, готовых блюд и наборов для готовки, сервсис доставки еды из ресторанов</td>\n",
       "    </tr>\n",
       "    <tr>\n",
       "      <th>1784</th>\n",
       "      <td>4780</td>\n",
       "      <td>СУПЕРМАРКЕТЫ</td>\n",
       "      <td>SUPERMARKETS</td>\n",
       "      <td>4</td>\n",
       "      <td>2583</td>\n",
       "      <td>продуктовые магазины, гипермаркеты, супермаркеты, основной ассортимент которых продуктовый; кулинарии, хлебные и бакалейные магазины, кондитерские, овощные и пр.; специализированные магазины чая и кофе, магазины продуктов пчеловодства, даров природы</td>\n",
       "    </tr>\n",
       "    <tr>\n",
       "      <th>1920</th>\n",
       "      <td>4926</td>\n",
       "      <td>ИНТЕРНЕТ-СУПЕРМАРКЕТЫ</td>\n",
       "      <td>INTERNET SUPERMARKETS</td>\n",
       "      <td>4</td>\n",
       "      <td>4892</td>\n",
       "      <td>интернет-магазины, основной ассортимент которых продуктовый; кондитерские интернет-магазины.; специализированные интернет-магазины чая и кофе, продуктов пчеловодства, в т.ч. доставка продуктов из них</td>\n",
       "    </tr>\n",
       "    <tr>\n",
       "      <th>2007</th>\n",
       "      <td>5028</td>\n",
       "      <td>ИНТЕРНЕТ-АГРЕГАТОРЫ ДОСТАВКИ ЕДЫ</td>\n",
       "      <td>INTERNET FOOD DELIVERY AGGREGATORS</td>\n",
       "      <td>4</td>\n",
       "      <td>2321</td>\n",
       "      <td></td>\n",
       "    </tr>\n",
       "  </tbody>\n",
       "</table>\n",
       "</div>"
      ],
      "text/plain": [
       "        id                              name  \\\n",
       "1130  2408              ДОСТАВКА ГОТОВОЙ ЕДЫ   \n",
       "1784  4780                      СУПЕРМАРКЕТЫ   \n",
       "1920  4926             ИНТЕРНЕТ-СУПЕРМАРКЕТЫ   \n",
       "2007  5028  ИНТЕРНЕТ-АГРЕГАТОРЫ ДОСТАВКИ ЕДЫ   \n",
       "\n",
       "                                   ename  level  parentId  \\\n",
       "1130          READY-TO-EAT FOOD DELIVERY      4      2321   \n",
       "1784                        SUPERMARKETS      4      2583   \n",
       "1920               INTERNET SUPERMARKETS      4      4892   \n",
       "2007  INTERNET FOOD DELIVERY AGGREGATORS      4      2321   \n",
       "\n",
       "                                                                                                                                                                                                                                                          notes  \n",
       "1130                                                                                                                                                                     Доставка пиццы, готовых блюд и наборов для готовки, сервсис доставки еды из ресторанов  \n",
       "1784  продуктовые магазины, гипермаркеты, супермаркеты, основной ассортимент которых продуктовый; кулинарии, хлебные и бакалейные магазины, кондитерские, овощные и пр.; специализированные магазины чая и кофе, магазины продуктов пчеловодства, даров природы  \n",
       "1920                                                    интернет-магазины, основной ассортимент которых продуктовый; кондитерские интернет-магазины.; специализированные интернет-магазины чая и кофе, продуктов пчеловодства, в т.ч. доставка продуктов из них  \n",
       "2007                                                                                                                                                                                                                                                             "
      ]
     },
     "execution_count": 53,
     "metadata": {},
     "output_type": "execute_result"
    }
   ],
   "source": [
    "article_cats.query('name in @search_lst')"
   ]
  },
  {
   "cell_type": "code",
   "execution_count": 49,
   "id": "20ee9c25-8567-43eb-bcce-6946a6358045",
   "metadata": {},
   "outputs": [
    {
     "name": "stdout",
     "output_type": "stream",
     "text": [
      "Запрошены записи: 0 - 10774\n",
      "Всего найдено записей: 10774\n",
      "\n",
      "190, 659, 26922, 47130\n"
     ]
    }
   ],
   "source": [
    "# Article LIST 4\n",
    "article_list4 = cats.get_tv_article_list4()\n",
    "\n",
    "search_lst = ['СУПЕРМАРКЕТЫ', 'ИНТЕРНЕТ-СУПЕРМАРКЕТЫ', 'ДОСТАВКА ГОТОВОЙ ЕДЫ', 'ИНТЕРНЕТ-АГРЕГАТОРЫ ДОСТАВКИ ЕДЫ']\n",
    "search_lst = [i.upper() for i in search_lst]\n",
    "\n",
    "search_filter = list(article_list4.query('name in @search_lst')['id'])\n",
    "search_filter = ', '.join(str(i) for i in search_filter)\n",
    "\n",
    "print(search_filter)"
   ]
  },
  {
   "cell_type": "code",
   "execution_count": 23,
   "id": "88008c8c",
   "metadata": {},
   "outputs": [
    {
     "data": {
      "text/html": [
       "<div>\n",
       "<style scoped>\n",
       "    .dataframe tbody tr th:only-of-type {\n",
       "        vertical-align: middle;\n",
       "    }\n",
       "\n",
       "    .dataframe tbody tr th {\n",
       "        vertical-align: top;\n",
       "    }\n",
       "\n",
       "    .dataframe thead th {\n",
       "        text-align: right;\n",
       "    }\n",
       "</style>\n",
       "<table border=\"1\" class=\"dataframe\">\n",
       "  <thead>\n",
       "    <tr style=\"text-align: right;\">\n",
       "      <th></th>\n",
       "      <th>id</th>\n",
       "      <th>name</th>\n",
       "      <th>ename</th>\n",
       "      <th>level</th>\n",
       "      <th>parentId</th>\n",
       "      <th>notes</th>\n",
       "    </tr>\n",
       "  </thead>\n",
       "  <tbody>\n",
       "    <tr>\n",
       "      <th>1130</th>\n",
       "      <td>2408</td>\n",
       "      <td>ДОСТАВКА ГОТОВОЙ ЕДЫ</td>\n",
       "      <td>READY-TO-EAT FOOD DELIVERY</td>\n",
       "      <td>4</td>\n",
       "      <td>2321</td>\n",
       "      <td>Доставка пиццы, готовых блюд и наборов для готовки, сервсис доставки еды из ресторанов</td>\n",
       "    </tr>\n",
       "    <tr>\n",
       "      <th>1784</th>\n",
       "      <td>4780</td>\n",
       "      <td>СУПЕРМАРКЕТЫ</td>\n",
       "      <td>SUPERMARKETS</td>\n",
       "      <td>4</td>\n",
       "      <td>2583</td>\n",
       "      <td>продуктовые магазины, гипермаркеты, супермаркеты, основной ассортимент которых продуктовый; кулинарии, хлебные и бакалейные магазины, кондитерские, овощные и пр.; специализированные магазины чая и кофе, магазины продуктов пчеловодства, даров природы</td>\n",
       "    </tr>\n",
       "    <tr>\n",
       "      <th>1920</th>\n",
       "      <td>4926</td>\n",
       "      <td>ИНТЕРНЕТ-СУПЕРМАРКЕТЫ</td>\n",
       "      <td>INTERNET SUPERMARKETS</td>\n",
       "      <td>4</td>\n",
       "      <td>4892</td>\n",
       "      <td>интернет-магазины, основной ассортимент которых продуктовый; кондитерские интернет-магазины.; специализированные интернет-магазины чая и кофе, продуктов пчеловодства, в т.ч. доставка продуктов из них</td>\n",
       "    </tr>\n",
       "    <tr>\n",
       "      <th>2007</th>\n",
       "      <td>5028</td>\n",
       "      <td>ИНТЕРНЕТ-АГРЕГАТОРЫ ДОСТАВКИ ЕДЫ</td>\n",
       "      <td>INTERNET FOOD DELIVERY AGGREGATORS</td>\n",
       "      <td>4</td>\n",
       "      <td>2321</td>\n",
       "      <td></td>\n",
       "    </tr>\n",
       "  </tbody>\n",
       "</table>\n",
       "</div>"
      ],
      "text/plain": [
       "        id                              name  \\\n",
       "1130  2408              ДОСТАВКА ГОТОВОЙ ЕДЫ   \n",
       "1784  4780                      СУПЕРМАРКЕТЫ   \n",
       "1920  4926             ИНТЕРНЕТ-СУПЕРМАРКЕТЫ   \n",
       "2007  5028  ИНТЕРНЕТ-АГРЕГАТОРЫ ДОСТАВКИ ЕДЫ   \n",
       "\n",
       "                                   ename  level  parentId  \\\n",
       "1130          READY-TO-EAT FOOD DELIVERY      4      2321   \n",
       "1784                        SUPERMARKETS      4      2583   \n",
       "1920               INTERNET SUPERMARKETS      4      4892   \n",
       "2007  INTERNET FOOD DELIVERY AGGREGATORS      4      2321   \n",
       "\n",
       "                                                                                                                                                                                                                                                          notes  \n",
       "1130                                                                                                                                                                     Доставка пиццы, готовых блюд и наборов для готовки, сервсис доставки еды из ресторанов  \n",
       "1784  продуктовые магазины, гипермаркеты, супермаркеты, основной ассортимент которых продуктовый; кулинарии, хлебные и бакалейные магазины, кондитерские, овощные и пр.; специализированные магазины чая и кофе, магазины продуктов пчеловодства, даров природы  \n",
       "1920                                                    интернет-магазины, основной ассортимент которых продуктовый; кондитерские интернет-магазины.; специализированные интернет-магазины чая и кофе, продуктов пчеловодства, в т.ч. доставка продуктов из них  \n",
       "2007                                                                                                                                                                                                                                                             "
      ]
     },
     "execution_count": 23,
     "metadata": {},
     "output_type": "execute_result"
    }
   ],
   "source": []
  },
  {
   "cell_type": "code",
   "execution_count": 4,
   "id": "faae4163-1191-41a0-8806-0749213ba4dd",
   "metadata": {},
   "outputs": [
    {
     "name": "stdout",
     "output_type": "stream",
     "text": [
      "Запрошены записи: 0 - 59082\n",
      "Всего найдено записей: 59082\n",
      "\n",
      "137166, 489562, 494633, 556193, 872285, 966983, 1155675, 1245528\n"
     ]
    }
   ],
   "source": [
    "subbrand_cats = cats.get_tv_subbrand()\n",
    "subbrand_cats.head()\n",
    "\n",
    "search_lst = ['Fix Price', 'МегаМаркет', 'Ozon Fresh', 'Яндекс.Маркет', 'Магнит Маркет', 'OZON', 'wildberries', 'КРАСНОЕ & БЕЛОЕ']\n",
    "search_lst = [i.upper() for i in search_lst]\n",
    "\n",
    "search_filter = list(subbrand_cats.query('name in @search_lst')['id'])\n",
    "search_filter = ', '.join(str(i) for i in search_filter)\n",
    "\n",
    "print(search_filter)"
   ]
  },
  {
   "cell_type": "code",
   "execution_count": 90,
   "id": "7e1f8645",
   "metadata": {},
   "outputs": [
    {
     "name": "stdout",
     "output_type": "stream",
     "text": [
      "Запрошены записи: 0 - 3\n",
      "Всего найдено записей: 3\n",
      "\n"
     ]
    },
    {
     "data": {
      "text/html": [
       "<div>\n",
       "<style scoped>\n",
       "    .dataframe tbody tr th:only-of-type {\n",
       "        vertical-align: middle;\n",
       "    }\n",
       "\n",
       "    .dataframe tbody tr th {\n",
       "        vertical-align: top;\n",
       "    }\n",
       "\n",
       "    .dataframe thead th {\n",
       "        text-align: right;\n",
       "    }\n",
       "</style>\n",
       "<table border=\"1\" class=\"dataframe\">\n",
       "  <thead>\n",
       "    <tr style=\"text-align: right;\">\n",
       "      <th></th>\n",
       "      <th>advertiserListId</th>\n",
       "      <th>advertiserListName</th>\n",
       "      <th>advertiserListEName</th>\n",
       "    </tr>\n",
       "  </thead>\n",
       "  <tbody>\n",
       "    <tr>\n",
       "      <th>0</th>\n",
       "      <td>1</td>\n",
       "      <td>N/A</td>\n",
       "      <td>N/A</td>\n",
       "    </tr>\n",
       "    <tr>\n",
       "      <th>1</th>\n",
       "      <td>4</td>\n",
       "      <td>PANASONIC CORPORATION</td>\n",
       "      <td>PANASONIC CORPORATION</td>\n",
       "    </tr>\n",
       "    <tr>\n",
       "      <th>2</th>\n",
       "      <td>954</td>\n",
       "      <td>СБЕР</td>\n",
       "      <td>SBER</td>\n",
       "    </tr>\n",
       "  </tbody>\n",
       "</table>\n",
       "</div>"
      ],
      "text/plain": [
       "   advertiserListId     advertiserListName    advertiserListEName\n",
       "0                 1                    N/A                    N/A\n",
       "1                 4  PANASONIC CORPORATION  PANASONIC CORPORATION\n",
       "2               954                   СБЕР                   SBER"
      ]
     },
     "execution_count": 90,
     "metadata": {},
     "output_type": "execute_result"
    }
   ],
   "source": [
    "# Получить список Адвертайсер листов - через запятую будут перечислены все рекламодатели \n",
    "# имеющие отношение к рекламному роику\n",
    "search_lst = ['954', '1', '4']\n",
    "advertiser_list = cats.get_tv_advertiser_list(search_lst)\n",
    "advertiser_list = advertiser_list.rename(columns={'id': 'advertiserListId','name': 'advertiserListName', 'ename': 'advertiserListEName'})\n",
    "\n",
    "advertiser_list.head()"
   ]
  },
  {
   "cell_type": "code",
   "execution_count": 104,
   "id": "fb15c36c-3d75-4852-90ef-ed64e533f4cb",
   "metadata": {},
   "outputs": [
    {
     "name": "stdout",
     "output_type": "stream",
     "text": [
      "Запрошены записи: 0 - 23758\n",
      "Всего найдено записей: 23758\n",
      "\n",
      "макс ИД: 329232\n",
      "Макс длина строки: 138\n"
     ]
    }
   ],
   "source": [
    "df = cats.get_tv_advertiser_list()\n",
    "print(f\"макс ИД: {df['id'].max()}\")\n",
    "print(f\"Макс длина строки: {df['name'].str.len().max()}\")"
   ]
  },
  {
   "cell_type": "code",
   "execution_count": 91,
   "id": "6f28c7ea-0848-4069-a00f-ae6f5c7cd6f7",
   "metadata": {},
   "outputs": [
    {
     "name": "stdout",
     "output_type": "stream",
     "text": [
      "Запрошены записи: 0 - 2\n",
      "Всего найдено записей: 2\n",
      "\n"
     ]
    },
    {
     "data": {
      "text/html": [
       "<div>\n",
       "<style scoped>\n",
       "    .dataframe tbody tr th:only-of-type {\n",
       "        vertical-align: middle;\n",
       "    }\n",
       "\n",
       "    .dataframe tbody tr th {\n",
       "        vertical-align: top;\n",
       "    }\n",
       "\n",
       "    .dataframe thead th {\n",
       "        text-align: right;\n",
       "    }\n",
       "</style>\n",
       "<table border=\"1\" class=\"dataframe\">\n",
       "  <thead>\n",
       "    <tr style=\"text-align: right;\">\n",
       "      <th></th>\n",
       "      <th>brandListId</th>\n",
       "      <th>brandListName</th>\n",
       "      <th>brandListEName</th>\n",
       "    </tr>\n",
       "  </thead>\n",
       "  <tbody>\n",
       "    <tr>\n",
       "      <th>0</th>\n",
       "      <td>546034</td>\n",
       "      <td>TEFAL; МЕГАМАРКЕТ</td>\n",
       "      <td>MEGAMARKET; TEFAL</td>\n",
       "    </tr>\n",
       "    <tr>\n",
       "      <th>1</th>\n",
       "      <td>546456</td>\n",
       "      <td>PHILIPS; МЕГАМАРКЕТ</td>\n",
       "      <td>MEGAMARKET; PHILIPS</td>\n",
       "    </tr>\n",
       "  </tbody>\n",
       "</table>\n",
       "</div>"
      ],
      "text/plain": [
       "   brandListId        brandListName       brandListEName\n",
       "0       546034    TEFAL; МЕГАМАРКЕТ    MEGAMARKET; TEFAL\n",
       "1       546456  PHILIPS; МЕГАМАРКЕТ  MEGAMARKET; PHILIPS"
      ]
     },
     "execution_count": 91,
     "metadata": {},
     "output_type": "execute_result"
    }
   ],
   "source": [
    "# Получить список Бренд листов - через запятую будут перечислены все Бренды \n",
    "# имеющие отношение к рекламному роику\n",
    "search_lst = ['546034', '546456', '546456']\n",
    "df = cats.get_tv_brand_list(search_lst)\n",
    "df = df.rename(columns={'id': 'brandListId', 'name': 'brandListName', 'ename': 'brandListEName'})\n",
    "\n",
    "df.head()"
   ]
  },
  {
   "cell_type": "code",
   "execution_count": 105,
   "id": "149a1756-bb78-46fb-abbe-36fe902bcc3e",
   "metadata": {},
   "outputs": [
    {
     "name": "stdout",
     "output_type": "stream",
     "text": [
      "Запрошены записи: 0 - 82258\n",
      "Всего найдено записей: 82258\n",
      "\n",
      "макс ИД: 676111\n",
      "Макс длина строки: 212\n"
     ]
    }
   ],
   "source": [
    "df = cats.get_tv_brand_list()\n",
    "print(f\"макс ИД: {df['id'].max()}\")\n",
    "print(f\"Макс длина строки: {df['name'].str.len().max()}\")"
   ]
  },
  {
   "cell_type": "code",
   "execution_count": 4,
   "id": "0da01ab1-6580-43fe-bf34-b0000d0c7aa9",
   "metadata": {},
   "outputs": [
    {
     "name": "stdout",
     "output_type": "stream",
     "text": [
      "Запрошены записи: 0 - 1\n",
      "Всего найдено записей: 1\n",
      "\n"
     ]
    },
    {
     "data": {
      "text/html": [
       "<div>\n",
       "<style scoped>\n",
       "    .dataframe tbody tr th:only-of-type {\n",
       "        vertical-align: middle;\n",
       "    }\n",
       "\n",
       "    .dataframe tbody tr th {\n",
       "        vertical-align: top;\n",
       "    }\n",
       "\n",
       "    .dataframe thead th {\n",
       "        text-align: right;\n",
       "    }\n",
       "</style>\n",
       "<table border=\"1\" class=\"dataframe\">\n",
       "  <thead>\n",
       "    <tr style=\"text-align: right;\">\n",
       "      <th></th>\n",
       "      <th>id</th>\n",
       "      <th>name</th>\n",
       "      <th>ename</th>\n",
       "    </tr>\n",
       "  </thead>\n",
       "  <tbody>\n",
       "    <tr>\n",
       "      <th>0</th>\n",
       "      <td>713209</td>\n",
       "      <td>ВЭБ.РФ; ЗНАЙ НАШИХ (КОНКУРС)</td>\n",
       "      <td>VEB.RF; ZNAY NASHIKH (CONTEST)</td>\n",
       "    </tr>\n",
       "  </tbody>\n",
       "</table>\n",
       "</div>"
      ],
      "text/plain": [
       "       id                          name                           ename\n",
       "0  713209  ВЭБ.РФ; ЗНАЙ НАШИХ (КОНКУРС)  VEB.RF; ZNAY NASHIKH (CONTEST)"
      ]
     },
     "execution_count": 4,
     "metadata": {},
     "output_type": "execute_result"
    }
   ],
   "source": [
    "# Получить список СубБренд листов - через запятую будут перечислены все СубБренды \n",
    "# имеющие отношение к рекламному роику\n",
    "search_lst = ['713209']#['585326', '585328', '586043']\n",
    "df = cats.get_tv_subbrand_list(search_lst)\n",
    "# df = df.rename(columns={'id': 'subbrandListId', 'name': 'subbrandListName', 'ename': 'subbrandListEName'})\n",
    "\n",
    "df.head()"
   ]
  },
  {
   "cell_type": "code",
   "execution_count": 106,
   "id": "555da0f2-e297-4d32-86ad-a95a6afef821",
   "metadata": {},
   "outputs": [
    {
     "name": "stdout",
     "output_type": "stream",
     "text": [
      "Запрошены записи: 0 - 88098\n",
      "Всего найдено записей: 88098\n",
      "\n",
      "макс ИД: 731351\n",
      "Макс длина строки: 255\n"
     ]
    }
   ],
   "source": [
    "df = cats.get_tv_subbrand_list()\n",
    "print(f\"макс ИД: {df['id'].max()}\")\n",
    "print(f\"Макс длина строки: {df['name'].str.len().max()}\")"
   ]
  },
  {
   "cell_type": "code",
   "execution_count": 95,
   "id": "bacd64b4-4285-4f69-a810-222c65d60991",
   "metadata": {},
   "outputs": [
    {
     "name": "stdout",
     "output_type": "stream",
     "text": [
      "Запрошены записи: 0 - 3\n",
      "Всего найдено записей: 3\n",
      "\n"
     ]
    },
    {
     "data": {
      "text/html": [
       "<div>\n",
       "<style scoped>\n",
       "    .dataframe tbody tr th:only-of-type {\n",
       "        vertical-align: middle;\n",
       "    }\n",
       "\n",
       "    .dataframe tbody tr th {\n",
       "        vertical-align: top;\n",
       "    }\n",
       "\n",
       "    .dataframe thead th {\n",
       "        text-align: right;\n",
       "    }\n",
       "</style>\n",
       "<table border=\"1\" class=\"dataframe\">\n",
       "  <thead>\n",
       "    <tr style=\"text-align: right;\">\n",
       "      <th></th>\n",
       "      <th>modelListId</th>\n",
       "      <th>modelListName</th>\n",
       "      <th>modelListEName</th>\n",
       "    </tr>\n",
       "  </thead>\n",
       "  <tbody>\n",
       "    <tr>\n",
       "      <th>0</th>\n",
       "      <td>778052</td>\n",
       "      <td>МЕГАМАРКЕТ МАРКЕТПЛЕЙС; МЕГАМАРКЕТ МОБИЛЬНОЕ ПРИЛОЖЕНИЕ</td>\n",
       "      <td>MEGAMARKET MARKETPLACE; MEGAMARKET MOBILE APPLICATION</td>\n",
       "    </tr>\n",
       "    <tr>\n",
       "      <th>1</th>\n",
       "      <td>844968</td>\n",
       "      <td>МЕГАМАРКЕТ МАРКЕТПЛЕЙС; МЕГАМАРКЕТ МОБИЛЬНОЕ ПРИЛОЖЕНИЕ; СБЕР БАНК СПАСИБО БОНУСНАЯ ПРОГРАММА</td>\n",
       "      <td>MEGAMARKET MARKETPLACE; MEGAMARKET MOBILE APPLICATION; SBER BANK SPASIBO BONUS PROGRAM</td>\n",
       "    </tr>\n",
       "    <tr>\n",
       "      <th>2</th>\n",
       "      <td>859222</td>\n",
       "      <td>МЕГАМАРКЕТ МАРКЕТПЛЕЙС; МЕГАМАРКЕТ МОБИЛЬНОЕ ПРИЛОЖЕНИЕ; РЯБА МАЙОНЕЗ</td>\n",
       "      <td>MEGAMARKET MARKETPLACE; MEGAMARKET MOBILE APPLICATION; RYABA MAYONNAISE</td>\n",
       "    </tr>\n",
       "  </tbody>\n",
       "</table>\n",
       "</div>"
      ],
      "text/plain": [
       "   modelListId  \\\n",
       "0       778052   \n",
       "1       844968   \n",
       "2       859222   \n",
       "\n",
       "                                                                                   modelListName  \\\n",
       "0                                        МЕГАМАРКЕТ МАРКЕТПЛЕЙС; МЕГАМАРКЕТ МОБИЛЬНОЕ ПРИЛОЖЕНИЕ   \n",
       "1  МЕГАМАРКЕТ МАРКЕТПЛЕЙС; МЕГАМАРКЕТ МОБИЛЬНОЕ ПРИЛОЖЕНИЕ; СБЕР БАНК СПАСИБО БОНУСНАЯ ПРОГРАММА   \n",
       "2                          МЕГАМАРКЕТ МАРКЕТПЛЕЙС; МЕГАМАРКЕТ МОБИЛЬНОЕ ПРИЛОЖЕНИЕ; РЯБА МАЙОНЕЗ   \n",
       "\n",
       "                                                                           modelListEName  \n",
       "0                                   MEGAMARKET MARKETPLACE; MEGAMARKET MOBILE APPLICATION  \n",
       "1  MEGAMARKET MARKETPLACE; MEGAMARKET MOBILE APPLICATION; SBER BANK SPASIBO BONUS PROGRAM  \n",
       "2                 MEGAMARKET MARKETPLACE; MEGAMARKET MOBILE APPLICATION; RYABA MAYONNAISE  "
      ]
     },
     "execution_count": 95,
     "metadata": {},
     "output_type": "execute_result"
    }
   ],
   "source": [
    "# Получить список Модел листов - через запятую будут перечислены все Модел листы \n",
    "# имеющие отношение к рекламному роику\n",
    "search_lst = ['778052', '844968', '859222']\n",
    "df = cats.get_tv_model_list(search_lst)\n",
    "df = df.rename(columns={'id': 'modelListId', 'name': 'modelListName', 'ename': 'modelListEName'})\n",
    "\n",
    "df.head()"
   ]
  },
  {
   "cell_type": "code",
   "execution_count": 107,
   "id": "142905be-730f-4cfa-a3c6-db129c343633",
   "metadata": {},
   "outputs": [
    {
     "name": "stdout",
     "output_type": "stream",
     "text": [
      "Запрошены записи: 0 - 125128\n",
      "Всего найдено записей: 125128\n",
      "\n",
      "макс ИД: 909083\n",
      "Макс длина строки: 255\n"
     ]
    }
   ],
   "source": [
    "df = cats.get_tv_model_list()\n",
    "print(f\"макс ИД: {df['id'].max()}\")\n",
    "print(f\"Макс длина строки: {df['name'].str.len().max()}\")"
   ]
  },
  {
   "cell_type": "code",
   "execution_count": 98,
   "id": "be67f627-9960-4db3-8ee0-eadcbac92402",
   "metadata": {},
   "outputs": [
    {
     "name": "stdout",
     "output_type": "stream",
     "text": [
      "Запрошены записи: 0 - 3\n",
      "Всего найдено записей: 3\n",
      "\n"
     ]
    },
    {
     "data": {
      "text/html": [
       "<div>\n",
       "<style scoped>\n",
       "    .dataframe tbody tr th:only-of-type {\n",
       "        vertical-align: middle;\n",
       "    }\n",
       "\n",
       "    .dataframe tbody tr th {\n",
       "        vertical-align: top;\n",
       "    }\n",
       "\n",
       "    .dataframe thead th {\n",
       "        text-align: right;\n",
       "    }\n",
       "</style>\n",
       "<table border=\"1\" class=\"dataframe\">\n",
       "  <thead>\n",
       "    <tr style=\"text-align: right;\">\n",
       "      <th></th>\n",
       "      <th>articleList2Id</th>\n",
       "      <th>articleList2Name</th>\n",
       "      <th>articleList2EName</th>\n",
       "    </tr>\n",
       "  </thead>\n",
       "  <tbody>\n",
       "    <tr>\n",
       "      <th>0</th>\n",
       "      <td>283</td>\n",
       "      <td>СРЕДСТВА МАССОВОЙ ИНФОРМАЦИИ; УСЛУГИ В ОБЛАСТИ ТОРГОВЛИ</td>\n",
       "      <td>MASS MEDIA; TRADE SERVICES</td>\n",
       "    </tr>\n",
       "    <tr>\n",
       "      <th>1</th>\n",
       "      <td>339</td>\n",
       "      <td>СРЕДСТВА МАССОВОЙ ИНФОРМАЦИИ; УСЛУГИ В ОБЛАСТИ ТОРГОВЛИ; ЧАСЫ, ЮВЕЛИРНЫЕ ИЗДЕЛИЯ</td>\n",
       "      <td>MASS MEDIA; TRADE SERVICES; WATCHES &amp; CLOCKS, JEWELRY ARTICLES</td>\n",
       "    </tr>\n",
       "    <tr>\n",
       "      <th>2</th>\n",
       "      <td>435</td>\n",
       "      <td>СРЕДСТВА МАССОВОЙ ИНФОРМАЦИИ; УСЛУГИ В ОБЛАСТИ ТОРГОВЛИ; УСЛУГИ ФИНАНСОВЫЕ</td>\n",
       "      <td>FINANCIAL SERVICES; MASS MEDIA; TRADE SERVICES</td>\n",
       "    </tr>\n",
       "  </tbody>\n",
       "</table>\n",
       "</div>"
      ],
      "text/plain": [
       "   articleList2Id  \\\n",
       "0             283   \n",
       "1             339   \n",
       "2             435   \n",
       "\n",
       "                                                                   articleList2Name  \\\n",
       "0                           СРЕДСТВА МАССОВОЙ ИНФОРМАЦИИ; УСЛУГИ В ОБЛАСТИ ТОРГОВЛИ   \n",
       "1  СРЕДСТВА МАССОВОЙ ИНФОРМАЦИИ; УСЛУГИ В ОБЛАСТИ ТОРГОВЛИ; ЧАСЫ, ЮВЕЛИРНЫЕ ИЗДЕЛИЯ   \n",
       "2        СРЕДСТВА МАССОВОЙ ИНФОРМАЦИИ; УСЛУГИ В ОБЛАСТИ ТОРГОВЛИ; УСЛУГИ ФИНАНСОВЫЕ   \n",
       "\n",
       "                                                articleList2EName  \n",
       "0                                      MASS MEDIA; TRADE SERVICES  \n",
       "1  MASS MEDIA; TRADE SERVICES; WATCHES & CLOCKS, JEWELRY ARTICLES  \n",
       "2                  FINANCIAL SERVICES; MASS MEDIA; TRADE SERVICES  "
      ]
     },
     "execution_count": 98,
     "metadata": {},
     "output_type": "execute_result"
    }
   ],
   "source": [
    "# Получить список ArticleList2 \n",
    "# имеющие отношение к рекламному роику\n",
    "search_lst = ['283', '339', '435']\n",
    "df = cats.get_tv_article_list2(search_lst)\n",
    "df = df.rename(columns={'id': 'articleList2Id', 'name': 'articleList2Name', 'ename': 'articleList2EName'})\n",
    "\n",
    "df.head()"
   ]
  },
  {
   "cell_type": "code",
   "execution_count": 103,
   "id": "03caa833-6362-4b99-953f-d6f1500b4191",
   "metadata": {},
   "outputs": [
    {
     "name": "stdout",
     "output_type": "stream",
     "text": [
      "Запрошены записи: 0 - 1329\n",
      "Всего найдено записей: 1329\n",
      "\n",
      "макс ИД: 5308\n",
      "Макс длина строки: 205\n"
     ]
    }
   ],
   "source": [
    "df = cats.get_tv_article_list2()\n",
    "print(f\"макс ИД: {df['id'].max()}\")\n",
    "print(f\"Макс длина строки: {df['name'].str.len().max()}\")"
   ]
  },
  {
   "cell_type": "code",
   "execution_count": 109,
   "id": "0b889aba-87c3-4fe8-9ed6-bc2b1f053a8a",
   "metadata": {},
   "outputs": [
    {
     "name": "stdout",
     "output_type": "stream",
     "text": [
      "Запрошены записи: 0 - 3\n",
      "Всего найдено записей: 3\n",
      "\n"
     ]
    },
    {
     "data": {
      "text/html": [
       "<div>\n",
       "<style scoped>\n",
       "    .dataframe tbody tr th:only-of-type {\n",
       "        vertical-align: middle;\n",
       "    }\n",
       "\n",
       "    .dataframe tbody tr th {\n",
       "        vertical-align: top;\n",
       "    }\n",
       "\n",
       "    .dataframe thead th {\n",
       "        text-align: right;\n",
       "    }\n",
       "</style>\n",
       "<table border=\"1\" class=\"dataframe\">\n",
       "  <thead>\n",
       "    <tr style=\"text-align: right;\">\n",
       "      <th></th>\n",
       "      <th>articleList3Id</th>\n",
       "      <th>articleList3Name</th>\n",
       "      <th>articleList3EName</th>\n",
       "    </tr>\n",
       "  </thead>\n",
       "  <tbody>\n",
       "    <tr>\n",
       "      <th>0</th>\n",
       "      <td>14267</td>\n",
       "      <td>ИНТЕРНЕТ-ТОРГОВЛЯ; РЕСУРСЫ В ИНТЕРНЕТЕ; ТОРГОВЫЕ ОРГАНИЗАЦИИ</td>\n",
       "      <td>INTERNET TRADING; RESOURCES ON THE INTERNET; TRADE ORGANIZATIONS</td>\n",
       "    </tr>\n",
       "    <tr>\n",
       "      <th>1</th>\n",
       "      <td>14363</td>\n",
       "      <td>ИНТЕРНЕТ-ТОРГОВЛЯ; РЕСУРСЫ В ИНТЕРНЕТЕ</td>\n",
       "      <td>INTERNET TRADING; RESOURCES ON THE INTERNET</td>\n",
       "    </tr>\n",
       "    <tr>\n",
       "      <th>2</th>\n",
       "      <td>16311</td>\n",
       "      <td>ИНТЕРНЕТ-ТОРГОВЛЯ; РЕСУРСЫ В ИНТЕРНЕТЕ; УСЛУГИ ОБЩЕСТВЕННОГО ПИТАНИЯ</td>\n",
       "      <td>INTERNET TRADING; PUBLIC CATERING SERVICES; RESOURCES ON THE INTERNET</td>\n",
       "    </tr>\n",
       "  </tbody>\n",
       "</table>\n",
       "</div>"
      ],
      "text/plain": [
       "   articleList3Id  \\\n",
       "0           14267   \n",
       "1           14363   \n",
       "2           16311   \n",
       "\n",
       "                                                       articleList3Name  \\\n",
       "0          ИНТЕРНЕТ-ТОРГОВЛЯ; РЕСУРСЫ В ИНТЕРНЕТЕ; ТОРГОВЫЕ ОРГАНИЗАЦИИ   \n",
       "1                                ИНТЕРНЕТ-ТОРГОВЛЯ; РЕСУРСЫ В ИНТЕРНЕТЕ   \n",
       "2  ИНТЕРНЕТ-ТОРГОВЛЯ; РЕСУРСЫ В ИНТЕРНЕТЕ; УСЛУГИ ОБЩЕСТВЕННОГО ПИТАНИЯ   \n",
       "\n",
       "                                                       articleList3EName  \n",
       "0       INTERNET TRADING; RESOURCES ON THE INTERNET; TRADE ORGANIZATIONS  \n",
       "1                            INTERNET TRADING; RESOURCES ON THE INTERNET  \n",
       "2  INTERNET TRADING; PUBLIC CATERING SERVICES; RESOURCES ON THE INTERNET  "
      ]
     },
     "execution_count": 109,
     "metadata": {},
     "output_type": "execute_result"
    }
   ],
   "source": [
    "# Получить список ArticleList3 \n",
    "# имеющие отношение к рекламному роику\n",
    "search_lst = ['14267', '14363', '16311']\n",
    "df = cats.get_tv_article_list3(search_lst)\n",
    "df = df.rename(columns={'id': 'articleList3Id', 'name': 'articleList3Name', 'ename': 'articleList3EName'})\n",
    "\n",
    "df.head()"
   ]
  },
  {
   "cell_type": "code",
   "execution_count": 110,
   "id": "872d48f3-7425-4753-a551-941bb82ad820",
   "metadata": {},
   "outputs": [
    {
     "name": "stdout",
     "output_type": "stream",
     "text": [
      "Запрошены записи: 0 - 3987\n",
      "Всего найдено записей: 3987\n",
      "\n",
      "макс ИД: 19213\n",
      "Макс длина строки: 238\n"
     ]
    }
   ],
   "source": [
    "df = cats.get_tv_article_list3()\n",
    "print(f\"макс ИД: {df['id'].max()}\")\n",
    "print(f\"Макс длина строки: {df['name'].str.len().max()}\")"
   ]
  },
  {
   "cell_type": "code",
   "execution_count": 112,
   "id": "aae1de48-7baa-4dc8-9859-eb4ad8e22e06",
   "metadata": {},
   "outputs": [
    {
     "name": "stdout",
     "output_type": "stream",
     "text": [
      "Запрошены записи: 0 - 3\n",
      "Всего найдено записей: 3\n",
      "\n"
     ]
    },
    {
     "data": {
      "text/html": [
       "<div>\n",
       "<style scoped>\n",
       "    .dataframe tbody tr th:only-of-type {\n",
       "        vertical-align: middle;\n",
       "    }\n",
       "\n",
       "    .dataframe tbody tr th {\n",
       "        vertical-align: top;\n",
       "    }\n",
       "\n",
       "    .dataframe thead th {\n",
       "        text-align: right;\n",
       "    }\n",
       "</style>\n",
       "<table border=\"1\" class=\"dataframe\">\n",
       "  <thead>\n",
       "    <tr style=\"text-align: right;\">\n",
       "      <th></th>\n",
       "      <th>articleList4Id</th>\n",
       "      <th>articleList4Name</th>\n",
       "      <th>articleList4EName</th>\n",
       "    </tr>\n",
       "  </thead>\n",
       "  <tbody>\n",
       "    <tr>\n",
       "      <th>0</th>\n",
       "      <td>45301</td>\n",
       "      <td>МАРКЕТПЛЕЙСЫ; МОБИЛЬНЫЕ ПРИЛОЖЕНИЯ</td>\n",
       "      <td>MARKETPLACES; MOBILE APPLICATIONS</td>\n",
       "    </tr>\n",
       "    <tr>\n",
       "      <th>1</th>\n",
       "      <td>45308</td>\n",
       "      <td>КОСВЕННАЯ РЕКЛАМА; МАРКЕТПЛЕЙСЫ; МОБИЛЬНЫЕ ПРИЛОЖЕНИЯ</td>\n",
       "      <td>INDIRECT ADVERTISING; MARKETPLACES; MOBILE APPLICATIONS</td>\n",
       "    </tr>\n",
       "    <tr>\n",
       "      <th>2</th>\n",
       "      <td>45312</td>\n",
       "      <td>ГЕЛЬ ДЛЯ ДУША; МАРКЕТПЛЕЙСЫ; МОБИЛЬНЫЕ ПРИЛОЖЕНИЯ</td>\n",
       "      <td>MARKETPLACES; MOBILE APPLICATIONS; SHOWER GEL</td>\n",
       "    </tr>\n",
       "  </tbody>\n",
       "</table>\n",
       "</div>"
      ],
      "text/plain": [
       "   articleList4Id                                       articleList4Name  \\\n",
       "0           45301                     МАРКЕТПЛЕЙСЫ; МОБИЛЬНЫЕ ПРИЛОЖЕНИЯ   \n",
       "1           45308  КОСВЕННАЯ РЕКЛАМА; МАРКЕТПЛЕЙСЫ; МОБИЛЬНЫЕ ПРИЛОЖЕНИЯ   \n",
       "2           45312      ГЕЛЬ ДЛЯ ДУША; МАРКЕТПЛЕЙСЫ; МОБИЛЬНЫЕ ПРИЛОЖЕНИЯ   \n",
       "\n",
       "                                         articleList4EName  \n",
       "0                        MARKETPLACES; MOBILE APPLICATIONS  \n",
       "1  INDIRECT ADVERTISING; MARKETPLACES; MOBILE APPLICATIONS  \n",
       "2            MARKETPLACES; MOBILE APPLICATIONS; SHOWER GEL  "
      ]
     },
     "execution_count": 112,
     "metadata": {},
     "output_type": "execute_result"
    }
   ],
   "source": [
    "# Получить список ArticleList4 \n",
    "# имеющие отношение к рекламному роику\n",
    "search_lst = ['45301', '45308', '45312']\n",
    "df = cats.get_tv_article_list4(search_lst)\n",
    "df = df.rename(columns={'id': 'articleList4Id', 'name': 'articleList4Name', 'ename': 'articleList4EName'})\n",
    "\n",
    "df.head()"
   ]
  },
  {
   "cell_type": "code",
   "execution_count": 113,
   "id": "47d0b7d1-521c-4b3e-811c-2e6cbd283530",
   "metadata": {},
   "outputs": [
    {
     "name": "stdout",
     "output_type": "stream",
     "text": [
      "Запрошены записи: 0 - 10777\n",
      "Всего найдено записей: 10777\n",
      "\n",
      "макс ИД: 55561\n",
      "Макс длина строки: 255\n"
     ]
    }
   ],
   "source": [
    "df = cats.get_tv_article_list4()\n",
    "print(f\"макс ИД: {df['id'].max()}\")\n",
    "print(f\"Макс длина строки: {df['name'].str.len().max()}\")"
   ]
  },
  {
   "cell_type": "code",
   "execution_count": 3,
   "id": "3ce0876b-a918-461f-b367-28b88cf7b4b7",
   "metadata": {},
   "outputs": [
    {
     "name": "stdout",
     "output_type": "stream",
     "text": [
      "Запрошены записи: 0 - 1\n",
      "Всего найдено записей: 1\n",
      "\n"
     ]
    },
    {
     "data": {
      "text/html": [
       "<div>\n",
       "<style scoped>\n",
       "    .dataframe tbody tr th:only-of-type {\n",
       "        vertical-align: middle;\n",
       "    }\n",
       "\n",
       "    .dataframe tbody tr th {\n",
       "        vertical-align: top;\n",
       "    }\n",
       "\n",
       "    .dataframe thead th {\n",
       "        text-align: right;\n",
       "    }\n",
       "</style>\n",
       "<table border=\"1\" class=\"dataframe\">\n",
       "  <thead>\n",
       "    <tr style=\"text-align: right;\">\n",
       "      <th></th>\n",
       "      <th>id</th>\n",
       "      <th>adTypeId</th>\n",
       "      <th>name</th>\n",
       "      <th>ename</th>\n",
       "      <th>notes</th>\n",
       "      <th>standardDuration</th>\n",
       "      <th>adStyleId</th>\n",
       "      <th>sloganAudioId</th>\n",
       "      <th>sloganVideoId</th>\n",
       "      <th>firstIssueDate</th>\n",
       "      <th>advertiserListId</th>\n",
       "      <th>brandListId</th>\n",
       "      <th>subbrandListId</th>\n",
       "      <th>modelListId</th>\n",
       "      <th>articleList_2Id</th>\n",
       "      <th>articleList_3Id</th>\n",
       "      <th>articleList_4Id</th>\n",
       "      <th>advertiserListMainId</th>\n",
       "      <th>brandListMainId</th>\n",
       "      <th>subbrandListMainId</th>\n",
       "      <th>modelListMainId</th>\n",
       "      <th>articleList_2MainId</th>\n",
       "      <th>articleList_3MainId</th>\n",
       "      <th>articleList_4MainId</th>\n",
       "      <th>ageRestrictionId</th>\n",
       "      <th>tvArea</th>\n",
       "    </tr>\n",
       "  </thead>\n",
       "  <tbody>\n",
       "    <tr>\n",
       "      <th>0</th>\n",
       "      <td>4573069</td>\n",
       "      <td>1</td>\n",
       "      <td>ЗНАЙ НАШИХ конкурс растущих российских брендов (5 номинаций) (18+ ВНЗ справа)</td>\n",
       "      <td>ZNAY NASHIKH contest of growing Russian brands (5 nominations) (18+ BEL to the right)</td>\n",
       "      <td>Название конкурса, правила участия, условия, дата проведения, сайт.</td>\n",
       "      <td>30</td>\n",
       "      <td>0</td>\n",
       "      <td>1</td>\n",
       "      <td>1</td>\n",
       "      <td>2024-01-20</td>\n",
       "      <td>320901</td>\n",
       "      <td>660379</td>\n",
       "      <td>713209</td>\n",
       "      <td>883223</td>\n",
       "      <td>195</td>\n",
       "      <td>446</td>\n",
       "      <td>2798</td>\n",
       "      <td>320901</td>\n",
       "      <td>660379</td>\n",
       "      <td>713209</td>\n",
       "      <td>883223</td>\n",
       "      <td>195</td>\n",
       "      <td>446</td>\n",
       "      <td>2798</td>\n",
       "      <td>5</td>\n",
       "      <td>3</td>\n",
       "    </tr>\n",
       "  </tbody>\n",
       "</table>\n",
       "</div>"
      ],
      "text/plain": [
       "        id  adTypeId  \\\n",
       "0  4573069         1   \n",
       "\n",
       "                                                                            name  \\\n",
       "0  ЗНАЙ НАШИХ конкурс растущих российских брендов (5 номинаций) (18+ ВНЗ справа)   \n",
       "\n",
       "                                                                                   ename  \\\n",
       "0  ZNAY NASHIKH contest of growing Russian brands (5 nominations) (18+ BEL to the right)   \n",
       "\n",
       "                                                                 notes  \\\n",
       "0  Название конкурса, правила участия, условия, дата проведения, сайт.   \n",
       "\n",
       "   standardDuration  adStyleId  sloganAudioId  sloganVideoId firstIssueDate  \\\n",
       "0                30          0              1              1     2024-01-20   \n",
       "\n",
       "   advertiserListId  brandListId  subbrandListId  modelListId  \\\n",
       "0            320901       660379          713209       883223   \n",
       "\n",
       "   articleList_2Id  articleList_3Id  articleList_4Id  advertiserListMainId  \\\n",
       "0              195              446             2798                320901   \n",
       "\n",
       "   brandListMainId  subbrandListMainId  modelListMainId  articleList_2MainId  \\\n",
       "0           660379              713209           883223                  195   \n",
       "\n",
       "   articleList_3MainId  articleList_4MainId  ageRestrictionId  tvArea  \n",
       "0                  446                 2798                 5       3  "
      ]
     },
     "execution_count": 3,
     "metadata": {},
     "output_type": "execute_result"
    }
   ],
   "source": [
    "# Получить список Названий роликов\n",
    "# имеющие отношение к рекламному роику\n",
    "search_lst = ['4573069']\n",
    "df = cats.get_tv_ad(search_lst)\n",
    "# df = df.rename(columns={'id': 'adId', 'name': 'adName', 'ename': 'adEName'})\n",
    "\n",
    "df.head()"
   ]
  },
  {
   "cell_type": "code",
   "execution_count": 118,
   "id": "7b53c9dc-9976-4d2a-8b84-861bbbde4559",
   "metadata": {},
   "outputs": [
    {
     "data": {
      "text/html": [
       "<div>\n",
       "<style scoped>\n",
       "    .dataframe tbody tr th:only-of-type {\n",
       "        vertical-align: middle;\n",
       "    }\n",
       "\n",
       "    .dataframe tbody tr th {\n",
       "        vertical-align: top;\n",
       "    }\n",
       "\n",
       "    .dataframe thead th {\n",
       "        text-align: right;\n",
       "    }\n",
       "</style>\n",
       "<table border=\"1\" class=\"dataframe\">\n",
       "  <thead>\n",
       "    <tr style=\"text-align: right;\">\n",
       "      <th></th>\n",
       "      <th>id</th>\n",
       "      <th>name</th>\n",
       "      <th>ename</th>\n",
       "    </tr>\n",
       "  </thead>\n",
       "  <tbody>\n",
       "    <tr>\n",
       "      <th>0</th>\n",
       "      <td>1</td>\n",
       "      <td>N/A</td>\n",
       "      <td>N/A</td>\n",
       "    </tr>\n",
       "  </tbody>\n",
       "</table>\n",
       "</div>"
      ],
      "text/plain": [
       "   id name ename\n",
       "0   1  N/A   N/A"
      ]
     },
     "execution_count": 118,
     "metadata": {},
     "output_type": "execute_result"
    }
   ],
   "source": [
    "df.head(1)"
   ]
  },
  {
   "cell_type": "code",
   "execution_count": 116,
   "id": "4d41c969-07ad-4291-959b-706abfd5e139",
   "metadata": {},
   "outputs": [
    {
     "name": "stdout",
     "output_type": "stream",
     "text": [
      "макс ИД: 55561\n",
      "Макс длина строки: 255\n"
     ]
    }
   ],
   "source": [
    "df = cats.get_tv_ad()\n",
    "print(f\"макс ИД: {df['id'].max()}\")\n",
    "print(f\"Макс длина строки: {df['name'].str.len().max()}\")"
   ]
  },
  {
   "cell_type": "code",
   "execution_count": null,
   "id": "62f7797b-3232-4bbf-94c0-b59e2e6b3762",
   "metadata": {},
   "outputs": [],
   "source": []
  },
  {
   "cell_type": "code",
   "execution_count": 8,
   "id": "f627c371-d050-41f2-9c09-22a037e20ba1",
   "metadata": {},
   "outputs": [
    {
     "name": "stdout",
     "output_type": "stream",
     "text": [
      "Запрошены записи: 0 - 1\n",
      "Всего найдено записей: 1\n",
      "\n"
     ]
    },
    {
     "data": {
      "text/html": [
       "<div>\n",
       "<style scoped>\n",
       "    .dataframe tbody tr th:only-of-type {\n",
       "        vertical-align: middle;\n",
       "    }\n",
       "\n",
       "    .dataframe tbody tr th {\n",
       "        vertical-align: top;\n",
       "    }\n",
       "\n",
       "    .dataframe thead th {\n",
       "        text-align: right;\n",
       "    }\n",
       "</style>\n",
       "<table border=\"1\" class=\"dataframe\">\n",
       "  <thead>\n",
       "    <tr style=\"text-align: right;\">\n",
       "      <th></th>\n",
       "      <th>adSloganAudioId</th>\n",
       "      <th>adSloganAudioName</th>\n",
       "      <th>adSloganAudioNotes</th>\n",
       "    </tr>\n",
       "  </thead>\n",
       "  <tbody>\n",
       "    <tr>\n",
       "      <th>0</th>\n",
       "      <td>1</td>\n",
       "      <td>N/A</td>\n",
       "      <td>Для реклам без слоганов</td>\n",
       "    </tr>\n",
       "  </tbody>\n",
       "</table>\n",
       "</div>"
      ],
      "text/plain": [
       "   adSloganAudioId adSloganAudioName       adSloganAudioNotes\n",
       "0                1               N/A  Для реклам без слоганов"
      ]
     },
     "execution_count": 8,
     "metadata": {},
     "output_type": "execute_result"
    }
   ],
   "source": [
    "# Получить список Аудио слоганов ролика\n",
    "# имеющие отношение к рекламному роику\n",
    "search_lst = ['1']\n",
    "df = cats.get_tv_ad_slogan_audio(search_lst)\n",
    "df = df.rename(columns={'id': 'adSloganAudioId', 'name': 'adSloganAudioName', 'notes': 'adSloganAudioNotes'})\n",
    "\n",
    "df.head()"
   ]
  },
  {
   "cell_type": "code",
   "execution_count": 10,
   "id": "3f4f7a20-be60-44d3-926f-af34143ffcfc",
   "metadata": {},
   "outputs": [
    {
     "name": "stdout",
     "output_type": "stream",
     "text": [
      "Запрошены записи: 0 - 11491\n",
      "Всего найдено записей: 11491\n",
      "\n",
      "макс ИД: 94553\n",
      "Макс длина строки Name: 75\n",
      "Макс длина строки Notes: 23\n"
     ]
    }
   ],
   "source": [
    "df = cats.get_tv_ad_slogan_audio()\n",
    "\n",
    "print(f\"макс ИД: {df['id'].max()}\")\n",
    "print(f\"Макс длина строки Name: {df['name'].str.len().max()}\")\n",
    "print(f\"Макс длина строки Notes: {df['notes'].str.len().max()}\")"
   ]
  },
  {
   "cell_type": "code",
   "execution_count": 129,
   "id": "6ce62bf6-9bc0-4e7c-8d1d-6d17a7162a6f",
   "metadata": {},
   "outputs": [
    {
     "name": "stdout",
     "output_type": "stream",
     "text": [
      "Запрошены записи: 0 - 1\n",
      "Всего найдено записей: 1\n",
      "\n"
     ]
    },
    {
     "data": {
      "text/html": [
       "<div>\n",
       "<style scoped>\n",
       "    .dataframe tbody tr th:only-of-type {\n",
       "        vertical-align: middle;\n",
       "    }\n",
       "\n",
       "    .dataframe tbody tr th {\n",
       "        vertical-align: top;\n",
       "    }\n",
       "\n",
       "    .dataframe thead th {\n",
       "        text-align: right;\n",
       "    }\n",
       "</style>\n",
       "<table border=\"1\" class=\"dataframe\">\n",
       "  <thead>\n",
       "    <tr style=\"text-align: right;\">\n",
       "      <th></th>\n",
       "      <th>adSloganVideoId</th>\n",
       "      <th>adSloganVideoName</th>\n",
       "      <th>adSloganVideoNotes</th>\n",
       "    </tr>\n",
       "  </thead>\n",
       "  <tbody>\n",
       "    <tr>\n",
       "      <th>0</th>\n",
       "      <td>1</td>\n",
       "      <td>N/A</td>\n",
       "      <td>Для реклам без слоганов</td>\n",
       "    </tr>\n",
       "  </tbody>\n",
       "</table>\n",
       "</div>"
      ],
      "text/plain": [
       "   adSloganVideoId adSloganVideoName       adSloganVideoNotes\n",
       "0                1               N/A  Для реклам без слоганов"
      ]
     },
     "execution_count": 129,
     "metadata": {},
     "output_type": "execute_result"
    }
   ],
   "source": [
    "# Получить список Видео слоганов ролика\n",
    "# имеющие отношение к рекламному роику\n",
    "search_lst = ['1']\n",
    "df = cats.get_tv_ad_slogan_video(search_lst)\n",
    "df = df.rename(columns={'id': 'adSloganVideoId', 'name': 'adSloganVideoName', 'notes': 'adSloganVideoNotes'})\n",
    "\n",
    "df.head()"
   ]
  },
  {
   "cell_type": "code",
   "execution_count": 127,
   "id": "d33daae8-1943-47b3-ba0f-8e8b7b7eee91",
   "metadata": {},
   "outputs": [
    {
     "name": "stdout",
     "output_type": "stream",
     "text": [
      "Запрошены записи: 0 - 10395\n",
      "Всего найдено записей: 10395\n",
      "\n",
      "макс ИД: 71365\n",
      "Макс длина строки: 74\n"
     ]
    }
   ],
   "source": [
    "df = cats.get_tv_ad_slogan_video()\n",
    "print(f\"макс ИД: {df['id'].max()}\")\n",
    "print(f\"Макс длина строки: {df['name'].str.len().max()}\")"
   ]
  },
  {
   "cell_type": "code",
   "execution_count": 3,
   "id": "cb7ec567-5779-4b91-8f11-0a67a4a20156",
   "metadata": {},
   "outputs": [
    {
     "name": "stdout",
     "output_type": "stream",
     "text": [
      "Запрошены записи: 0 - 3\n",
      "Всего найдено записей: 3\n",
      "\n"
     ]
    },
    {
     "data": {
      "text/html": [
       "<div>\n",
       "<style scoped>\n",
       "    .dataframe tbody tr th:only-of-type {\n",
       "        vertical-align: middle;\n",
       "    }\n",
       "\n",
       "    .dataframe tbody tr th {\n",
       "        vertical-align: top;\n",
       "    }\n",
       "\n",
       "    .dataframe thead th {\n",
       "        text-align: right;\n",
       "    }\n",
       "</style>\n",
       "<table border=\"1\" class=\"dataframe\">\n",
       "  <thead>\n",
       "    <tr style=\"text-align: right;\">\n",
       "      <th></th>\n",
       "      <th>regionId</th>\n",
       "      <th>regionName</th>\n",
       "      <th>regionEName</th>\n",
       "    </tr>\n",
       "  </thead>\n",
       "  <tbody>\n",
       "    <tr>\n",
       "      <th>0</th>\n",
       "      <td>1</td>\n",
       "      <td>МОСКВА</td>\n",
       "      <td>Moscow</td>\n",
       "    </tr>\n",
       "    <tr>\n",
       "      <th>1</th>\n",
       "      <td>2</td>\n",
       "      <td>САНКТ-ПЕТЕРБУРГ</td>\n",
       "      <td>Saint-Petersburg</td>\n",
       "    </tr>\n",
       "    <tr>\n",
       "      <th>2</th>\n",
       "      <td>99</td>\n",
       "      <td>СЕТЕВОЕ ВЕЩАНИЕ</td>\n",
       "      <td>Network broadcasting</td>\n",
       "    </tr>\n",
       "  </tbody>\n",
       "</table>\n",
       "</div>"
      ],
      "text/plain": [
       "   regionId       regionName           regionEName\n",
       "0         1           МОСКВА                Moscow\n",
       "1         2  САНКТ-ПЕТЕРБУРГ      Saint-Petersburg\n",
       "2        99  СЕТЕВОЕ ВЕЩАНИЕ  Network broadcasting"
      ]
     },
     "execution_count": 3,
     "metadata": {},
     "output_type": "execute_result"
    }
   ],
   "source": [
    "# Получить список Регионов, либо Сетевое вещание\n",
    "# имеющие отношение к рекламному роику\n",
    "search_lst = ['1', '2', '99']\n",
    "df = cats.get_tv_region(search_lst)\n",
    "df = df.rename(columns={'id': 'regionId', 'name': 'regionName', 'ename': 'regionEName'})\n",
    "\n",
    "df.head()"
   ]
  },
  {
   "cell_type": "code",
   "execution_count": 5,
   "id": "f19ae74c-1567-4df5-ae12-f3d68d08293a",
   "metadata": {},
   "outputs": [
    {
     "name": "stdout",
     "output_type": "stream",
     "text": [
      "Запрошены записи: 0 - 28\n",
      "Всего найдено записей: 28\n",
      "\n",
      "макс ИД: 99\n",
      "Макс длина строки: 15\n"
     ]
    }
   ],
   "source": [
    "df = cats.get_tv_region()\n",
    "print(f\"макс ИД: {df['id'].max()}\")\n",
    "print(f\"Макс длина строки: {df['name'].str.len().max()}\")"
   ]
  },
  {
   "cell_type": "code",
   "execution_count": 6,
   "id": "b497c0b5-cd5f-49ce-800b-a73d8673597c",
   "metadata": {},
   "outputs": [
    {
     "data": {
      "text/html": [
       "<div>\n",
       "<style scoped>\n",
       "    .dataframe tbody tr th:only-of-type {\n",
       "        vertical-align: middle;\n",
       "    }\n",
       "\n",
       "    .dataframe tbody tr th {\n",
       "        vertical-align: top;\n",
       "    }\n",
       "\n",
       "    .dataframe thead th {\n",
       "        text-align: right;\n",
       "    }\n",
       "</style>\n",
       "<table border=\"1\" class=\"dataframe\">\n",
       "  <thead>\n",
       "    <tr style=\"text-align: right;\">\n",
       "      <th></th>\n",
       "      <th>id</th>\n",
       "      <th>name</th>\n",
       "      <th>ename</th>\n",
       "    </tr>\n",
       "  </thead>\n",
       "  <tbody>\n",
       "    <tr>\n",
       "      <th>0</th>\n",
       "      <td>1</td>\n",
       "      <td>МОСКВА</td>\n",
       "      <td>Moscow</td>\n",
       "    </tr>\n",
       "    <tr>\n",
       "      <th>1</th>\n",
       "      <td>2</td>\n",
       "      <td>САНКТ-ПЕТЕРБУРГ</td>\n",
       "      <td>Saint-Petersburg</td>\n",
       "    </tr>\n",
       "    <tr>\n",
       "      <th>2</th>\n",
       "      <td>3</td>\n",
       "      <td>ТВЕРЬ</td>\n",
       "      <td>Tver</td>\n",
       "    </tr>\n",
       "    <tr>\n",
       "      <th>3</th>\n",
       "      <td>4</td>\n",
       "      <td>НИЖНИЙ НОВГОРОД</td>\n",
       "      <td>Nizhniy Novgorod</td>\n",
       "    </tr>\n",
       "    <tr>\n",
       "      <th>4</th>\n",
       "      <td>5</td>\n",
       "      <td>ВОЛГОГРАД</td>\n",
       "      <td>Volgograd</td>\n",
       "    </tr>\n",
       "    <tr>\n",
       "      <th>5</th>\n",
       "      <td>6</td>\n",
       "      <td>САМАРА</td>\n",
       "      <td>Samara</td>\n",
       "    </tr>\n",
       "    <tr>\n",
       "      <th>6</th>\n",
       "      <td>7</td>\n",
       "      <td>ЯРОСЛАВЛЬ</td>\n",
       "      <td>Yaroslavl</td>\n",
       "    </tr>\n",
       "    <tr>\n",
       "      <th>7</th>\n",
       "      <td>8</td>\n",
       "      <td>ВОРОНЕЖ</td>\n",
       "      <td>Voronezh</td>\n",
       "    </tr>\n",
       "    <tr>\n",
       "      <th>8</th>\n",
       "      <td>9</td>\n",
       "      <td>РОСТОВ-НА-ДОНУ</td>\n",
       "      <td>Rostov-On-Don</td>\n",
       "    </tr>\n",
       "    <tr>\n",
       "      <th>9</th>\n",
       "      <td>10</td>\n",
       "      <td>САРАТОВ</td>\n",
       "      <td>Saratov</td>\n",
       "    </tr>\n",
       "    <tr>\n",
       "      <th>10</th>\n",
       "      <td>12</td>\n",
       "      <td>ЕКАТЕРИНБУРГ</td>\n",
       "      <td>Ekaterinburg</td>\n",
       "    </tr>\n",
       "    <tr>\n",
       "      <th>11</th>\n",
       "      <td>13</td>\n",
       "      <td>ЧЕЛЯБИНСК</td>\n",
       "      <td>Chelyabinsk</td>\n",
       "    </tr>\n",
       "    <tr>\n",
       "      <th>12</th>\n",
       "      <td>14</td>\n",
       "      <td>ПЕРМЬ</td>\n",
       "      <td>Perm</td>\n",
       "    </tr>\n",
       "    <tr>\n",
       "      <th>13</th>\n",
       "      <td>15</td>\n",
       "      <td>НОВОСИБИРСК</td>\n",
       "      <td>Novosibirsk</td>\n",
       "    </tr>\n",
       "    <tr>\n",
       "      <th>14</th>\n",
       "      <td>16</td>\n",
       "      <td>ТЮМЕНЬ</td>\n",
       "      <td>Tyumen</td>\n",
       "    </tr>\n",
       "    <tr>\n",
       "      <th>15</th>\n",
       "      <td>17</td>\n",
       "      <td>КРАСНОЯРСК</td>\n",
       "      <td>Krasnoyarsk</td>\n",
       "    </tr>\n",
       "    <tr>\n",
       "      <th>16</th>\n",
       "      <td>18</td>\n",
       "      <td>ВЛАДИВОСТОК</td>\n",
       "      <td>Vladivostok</td>\n",
       "    </tr>\n",
       "    <tr>\n",
       "      <th>17</th>\n",
       "      <td>19</td>\n",
       "      <td>КАЗАНЬ</td>\n",
       "      <td>Kazan</td>\n",
       "    </tr>\n",
       "    <tr>\n",
       "      <th>18</th>\n",
       "      <td>20</td>\n",
       "      <td>УФА</td>\n",
       "      <td>Ufa</td>\n",
       "    </tr>\n",
       "    <tr>\n",
       "      <th>19</th>\n",
       "      <td>21</td>\n",
       "      <td>ОМСК</td>\n",
       "      <td>Omsk</td>\n",
       "    </tr>\n",
       "    <tr>\n",
       "      <th>20</th>\n",
       "      <td>23</td>\n",
       "      <td>КРАСНОДАР</td>\n",
       "      <td>Krasnodar</td>\n",
       "    </tr>\n",
       "    <tr>\n",
       "      <th>21</th>\n",
       "      <td>25</td>\n",
       "      <td>ИРКУТСК</td>\n",
       "      <td>Irkutsk</td>\n",
       "    </tr>\n",
       "    <tr>\n",
       "      <th>22</th>\n",
       "      <td>26</td>\n",
       "      <td>ХАБАРОВСК</td>\n",
       "      <td>Khabarovsk</td>\n",
       "    </tr>\n",
       "    <tr>\n",
       "      <th>23</th>\n",
       "      <td>39</td>\n",
       "      <td>СТАВРОПОЛЬ</td>\n",
       "      <td>Stavropol</td>\n",
       "    </tr>\n",
       "    <tr>\n",
       "      <th>24</th>\n",
       "      <td>40</td>\n",
       "      <td>БАРНАУЛ</td>\n",
       "      <td>Barnaul</td>\n",
       "    </tr>\n",
       "    <tr>\n",
       "      <th>25</th>\n",
       "      <td>45</td>\n",
       "      <td>КЕМЕРОВО</td>\n",
       "      <td>Kemerovo</td>\n",
       "    </tr>\n",
       "    <tr>\n",
       "      <th>26</th>\n",
       "      <td>55</td>\n",
       "      <td>ТОМСК</td>\n",
       "      <td>Tomsk</td>\n",
       "    </tr>\n",
       "    <tr>\n",
       "      <th>27</th>\n",
       "      <td>99</td>\n",
       "      <td>СЕТЕВОЕ ВЕЩАНИЕ</td>\n",
       "      <td>Network broadcasting</td>\n",
       "    </tr>\n",
       "  </tbody>\n",
       "</table>\n",
       "</div>"
      ],
      "text/plain": [
       "    id             name                 ename\n",
       "0    1           МОСКВА                Moscow\n",
       "1    2  САНКТ-ПЕТЕРБУРГ      Saint-Petersburg\n",
       "2    3            ТВЕРЬ                  Tver\n",
       "3    4  НИЖНИЙ НОВГОРОД      Nizhniy Novgorod\n",
       "4    5        ВОЛГОГРАД             Volgograd\n",
       "5    6           САМАРА                Samara\n",
       "6    7        ЯРОСЛАВЛЬ             Yaroslavl\n",
       "7    8          ВОРОНЕЖ              Voronezh\n",
       "8    9   РОСТОВ-НА-ДОНУ         Rostov-On-Don\n",
       "9   10          САРАТОВ               Saratov\n",
       "10  12     ЕКАТЕРИНБУРГ          Ekaterinburg\n",
       "11  13        ЧЕЛЯБИНСК           Chelyabinsk\n",
       "12  14            ПЕРМЬ                  Perm\n",
       "13  15      НОВОСИБИРСК           Novosibirsk\n",
       "14  16           ТЮМЕНЬ                Tyumen\n",
       "15  17       КРАСНОЯРСК           Krasnoyarsk\n",
       "16  18      ВЛАДИВОСТОК           Vladivostok\n",
       "17  19           КАЗАНЬ                 Kazan\n",
       "18  20              УФА                   Ufa\n",
       "19  21             ОМСК                  Omsk\n",
       "20  23        КРАСНОДАР             Krasnodar\n",
       "21  25          ИРКУТСК               Irkutsk\n",
       "22  26        ХАБАРОВСК            Khabarovsk\n",
       "23  39       СТАВРОПОЛЬ             Stavropol\n",
       "24  40          БАРНАУЛ               Barnaul\n",
       "25  45         КЕМЕРОВО              Kemerovo\n",
       "26  55            ТОМСК                 Tomsk\n",
       "27  99  СЕТЕВОЕ ВЕЩАНИЕ  Network broadcasting"
      ]
     },
     "execution_count": 6,
     "metadata": {},
     "output_type": "execute_result"
    }
   ],
   "source": [
    "df"
   ]
  },
  {
   "cell_type": "code",
   "execution_count": 133,
   "id": "71eadb1e-a1fc-4e50-b8a5-8f9e96ab4ee8",
   "metadata": {},
   "outputs": [
    {
     "name": "stdout",
     "output_type": "stream",
     "text": [
      "Запрошены записи: 0 - 4\n",
      "Всего найдено записей: 4\n",
      "\n",
      "макс ИД: U\n",
      "Макс длина строки: 11\n"
     ]
    }
   ],
   "source": [
    "# Тип вещания\n",
    "df = cats.get_tv_breaks_distribution()\n",
    "print(f\"макс ИД: {df['id'].max()}\")\n",
    "print(f\"Макс длина строки: {df['name'].str.len().max()}\")"
   ]
  },
  {
   "cell_type": "code",
   "execution_count": 134,
   "id": "dd3ea94f-ecc7-4605-aaf5-8a040897834c",
   "metadata": {},
   "outputs": [
    {
     "data": {
      "text/html": [
       "<div>\n",
       "<style scoped>\n",
       "    .dataframe tbody tr th:only-of-type {\n",
       "        vertical-align: middle;\n",
       "    }\n",
       "\n",
       "    .dataframe tbody tr th {\n",
       "        vertical-align: top;\n",
       "    }\n",
       "\n",
       "    .dataframe thead th {\n",
       "        text-align: right;\n",
       "    }\n",
       "</style>\n",
       "<table border=\"1\" class=\"dataframe\">\n",
       "  <thead>\n",
       "    <tr style=\"text-align: right;\">\n",
       "      <th></th>\n",
       "      <th>id</th>\n",
       "      <th>name</th>\n",
       "      <th>ename</th>\n",
       "    </tr>\n",
       "  </thead>\n",
       "  <tbody>\n",
       "    <tr>\n",
       "      <th>0</th>\n",
       "      <td>L</td>\n",
       "      <td>Локальный</td>\n",
       "      <td>Local</td>\n",
       "    </tr>\n",
       "    <tr>\n",
       "      <th>1</th>\n",
       "      <td>N</td>\n",
       "      <td>Сетевой</td>\n",
       "      <td>Network</td>\n",
       "    </tr>\n",
       "    <tr>\n",
       "      <th>2</th>\n",
       "      <td>O</td>\n",
       "      <td>Орбитальный</td>\n",
       "      <td>Orbital</td>\n",
       "    </tr>\n",
       "    <tr>\n",
       "      <th>3</th>\n",
       "      <td>U</td>\n",
       "      <td>N/A</td>\n",
       "      <td>N/A</td>\n",
       "    </tr>\n",
       "  </tbody>\n",
       "</table>\n",
       "</div>"
      ],
      "text/plain": [
       "  id         name    ename\n",
       "0  L    Локальный    Local\n",
       "1  N      Сетевой  Network\n",
       "2  O  Орбитальный  Orbital\n",
       "3  U          N/A      N/A"
      ]
     },
     "execution_count": 134,
     "metadata": {},
     "output_type": "execute_result"
    }
   ],
   "source": [
    "df"
   ]
  },
  {
   "cell_type": "code",
   "execution_count": 135,
   "id": "f6bd78e6-bc4b-49d7-b613-0efc22e056cf",
   "metadata": {},
   "outputs": [
    {
     "name": "stdout",
     "output_type": "stream",
     "text": [
      "Запрошены записи: 0 - 44\n",
      "Всего найдено записей: 44\n",
      "\n",
      "макс ИД: 573\n",
      "Макс длина строки: 33\n"
     ]
    }
   ],
   "source": [
    "# Название сети вещания\n",
    "df = cats.get_tv_net()\n",
    "print(f\"макс ИД: {df['id'].max()}\")\n",
    "print(f\"Макс длина строки: {df['name'].str.len().max()}\")"
   ]
  },
  {
   "cell_type": "code",
   "execution_count": 136,
   "id": "02f97711-641c-45e1-8f3b-08e14c117721",
   "metadata": {},
   "outputs": [
    {
     "data": {
      "text/html": [
       "<div>\n",
       "<style scoped>\n",
       "    .dataframe tbody tr th:only-of-type {\n",
       "        vertical-align: middle;\n",
       "    }\n",
       "\n",
       "    .dataframe tbody tr th {\n",
       "        vertical-align: top;\n",
       "    }\n",
       "\n",
       "    .dataframe thead th {\n",
       "        text-align: right;\n",
       "    }\n",
       "</style>\n",
       "<table border=\"1\" class=\"dataframe\">\n",
       "  <thead>\n",
       "    <tr style=\"text-align: right;\">\n",
       "      <th></th>\n",
       "      <th>id</th>\n",
       "      <th>name</th>\n",
       "      <th>ename</th>\n",
       "    </tr>\n",
       "  </thead>\n",
       "  <tbody>\n",
       "    <tr>\n",
       "      <th>0</th>\n",
       "      <td>1</td>\n",
       "      <td>ПЕРВЫЙ КАНАЛ</td>\n",
       "      <td>PERVY KANAL</td>\n",
       "    </tr>\n",
       "    <tr>\n",
       "      <th>1</th>\n",
       "      <td>2</td>\n",
       "      <td>РОССИЯ 1</td>\n",
       "      <td>ROSSIYA 1</td>\n",
       "    </tr>\n",
       "    <tr>\n",
       "      <th>2</th>\n",
       "      <td>4</td>\n",
       "      <td>НТВ</td>\n",
       "      <td>NTV</td>\n",
       "    </tr>\n",
       "    <tr>\n",
       "      <th>3</th>\n",
       "      <td>10</td>\n",
       "      <td>МИР</td>\n",
       "      <td>MIR</td>\n",
       "    </tr>\n",
       "    <tr>\n",
       "      <th>4</th>\n",
       "      <td>11</td>\n",
       "      <td>СТС</td>\n",
       "      <td>STS</td>\n",
       "    </tr>\n",
       "  </tbody>\n",
       "</table>\n",
       "</div>"
      ],
      "text/plain": [
       "   id          name        ename\n",
       "0   1  ПЕРВЫЙ КАНАЛ  PERVY KANAL\n",
       "1   2      РОССИЯ 1    ROSSIYA 1\n",
       "2   4           НТВ          NTV\n",
       "3  10           МИР          MIR\n",
       "4  11           СТС          STS"
      ]
     },
     "execution_count": 136,
     "metadata": {},
     "output_type": "execute_result"
    }
   ],
   "source": [
    "df.head()"
   ]
  },
  {
   "cell_type": "code",
   "execution_count": 139,
   "id": "e1b5940c-bf28-45ec-9423-b920a4bc6b5c",
   "metadata": {},
   "outputs": [
    {
     "name": "stdout",
     "output_type": "stream",
     "text": [
      "Запрошены записи: 0 - 3\n",
      "Всего найдено записей: 3\n",
      "\n"
     ]
    },
    {
     "data": {
      "text/html": [
       "<div>\n",
       "<style scoped>\n",
       "    .dataframe tbody tr th:only-of-type {\n",
       "        vertical-align: middle;\n",
       "    }\n",
       "\n",
       "    .dataframe tbody tr th {\n",
       "        vertical-align: top;\n",
       "    }\n",
       "\n",
       "    .dataframe thead th {\n",
       "        text-align: right;\n",
       "    }\n",
       "</style>\n",
       "<table border=\"1\" class=\"dataframe\">\n",
       "  <thead>\n",
       "    <tr style=\"text-align: right;\">\n",
       "      <th></th>\n",
       "      <th>tvCompanyId</th>\n",
       "      <th>tvCompanyName</th>\n",
       "      <th>tvCompanyEName</th>\n",
       "      <th>tvNetId</th>\n",
       "      <th>regionId</th>\n",
       "      <th>tvCompanyHoldingId</th>\n",
       "      <th>tvCompanyMediaHoldingId</th>\n",
       "      <th>tvThematicId</th>\n",
       "      <th>tvCompanyGroupId</th>\n",
       "      <th>tvCompanyCategoryId</th>\n",
       "      <th>tvCompanyMediaType</th>\n",
       "      <th>information</th>\n",
       "    </tr>\n",
       "  </thead>\n",
       "  <tbody>\n",
       "    <tr>\n",
       "      <th>0</th>\n",
       "      <td>1377</td>\n",
       "      <td>ТНТ 4 (МОСКВА)</td>\n",
       "      <td>TNT 4 (MOSCOW)</td>\n",
       "      <td>329</td>\n",
       "      <td>1</td>\n",
       "      <td>1000017</td>\n",
       "      <td>8</td>\n",
       "      <td>8</td>\n",
       "      <td>0</td>\n",
       "      <td>0</td>\n",
       "      <td>T</td>\n",
       "      <td></td>\n",
       "    </tr>\n",
       "    <tr>\n",
       "      <th>1</th>\n",
       "      <td>1384</td>\n",
       "      <td>ТНТ 4 / ДОП (МОСКВА)</td>\n",
       "      <td>TNT 4 / EXT (MOSCOW)</td>\n",
       "      <td>329</td>\n",
       "      <td>1</td>\n",
       "      <td>1000017</td>\n",
       "      <td>8</td>\n",
       "      <td>8</td>\n",
       "      <td>0</td>\n",
       "      <td>0</td>\n",
       "      <td>T</td>\n",
       "      <td></td>\n",
       "    </tr>\n",
       "    <tr>\n",
       "      <th>2</th>\n",
       "      <td>2716</td>\n",
       "      <td>2X2 (СЕТЕВОЕ ВЕЩАНИЕ)</td>\n",
       "      <td>2X2 (NETWORK BROADCASTING)</td>\n",
       "      <td>286</td>\n",
       "      <td>99</td>\n",
       "      <td>1000017</td>\n",
       "      <td>8</td>\n",
       "      <td>8</td>\n",
       "      <td>0</td>\n",
       "      <td>0</td>\n",
       "      <td>T</td>\n",
       "      <td></td>\n",
       "    </tr>\n",
       "  </tbody>\n",
       "</table>\n",
       "</div>"
      ],
      "text/plain": [
       "   tvCompanyId          tvCompanyName              tvCompanyEName  tvNetId  \\\n",
       "0         1377         ТНТ 4 (МОСКВА)              TNT 4 (MOSCOW)      329   \n",
       "1         1384   ТНТ 4 / ДОП (МОСКВА)        TNT 4 / EXT (MOSCOW)      329   \n",
       "2         2716  2X2 (СЕТЕВОЕ ВЕЩАНИЕ)  2X2 (NETWORK BROADCASTING)      286   \n",
       "\n",
       "   regionId  tvCompanyHoldingId  tvCompanyMediaHoldingId  tvThematicId  \\\n",
       "0         1             1000017                        8             8   \n",
       "1         1             1000017                        8             8   \n",
       "2        99             1000017                        8             8   \n",
       "\n",
       "   tvCompanyGroupId  tvCompanyCategoryId tvCompanyMediaType information  \n",
       "0                 0                    0                  T              \n",
       "1                 0                    0                  T              \n",
       "2                 0                    0                  T              "
      ]
     },
     "execution_count": 139,
     "metadata": {},
     "output_type": "execute_result"
    }
   ],
   "source": [
    "# Получить список Названий телеканалов\n",
    "# имеющие отношение к рекламному роику\n",
    "search_lst = ['2716', '1377', '1384']\n",
    "df = cats.get_tv_company(search_lst)\n",
    "df = df.rename(columns={'id': 'tvCompanyId', 'name': 'tvCompanyName', 'ename': 'tvCompanyEName'})\n",
    "\n",
    "df.head()"
   ]
  },
  {
   "cell_type": "code",
   "execution_count": 11,
   "id": "f770ff28-a94b-4832-8bac-6eb7bf6c03fa",
   "metadata": {},
   "outputs": [
    {
     "name": "stdout",
     "output_type": "stream",
     "text": [
      "Запрошены записи: 0 - 2418\n",
      "Всего найдено записей: 2418\n",
      "\n",
      "макс tvCompanyId ИД: 30000\n",
      "макс tvCompanyHoldingId ИД: 1000046\n",
      "макс tvNetId ИД: 573\n",
      "макс regionId ИД: 99\n",
      "макс tvCompanyMediaHoldingId ИД: 30\n",
      "макс tvThematicId ИД: 19\n",
      "макс tvCompanyGroupId ИД: 2\n",
      "макс tvCompanyCategoryId ИД: 3\n",
      "\n",
      "Макс длина строки Name: 61\n",
      "Макс длина строки tvCompanyMediaType: 1\n",
      "Макс длина строки information: 21\n"
     ]
    }
   ],
   "source": [
    "df = cats.get_tv_company()\n",
    "print(f\"макс tvCompanyId ИД: {df['id'].max()}\")\n",
    "print(f\"макс tvCompanyHoldingId ИД: {df['tvCompanyHoldingId'].max()}\")\n",
    "print(f\"макс tvNetId ИД: {df['tvNetId'].max()}\")\n",
    "print(f\"макс regionId ИД: {df['regionId'].max()}\")\n",
    "print(f\"макс tvCompanyMediaHoldingId ИД: {df['tvCompanyMediaHoldingId'].max()}\")\n",
    "print(f\"макс tvThematicId ИД: {df['tvThematicId'].max()}\")\n",
    "print(f\"макс tvCompanyGroupId ИД: {df['tvCompanyGroupId'].max()}\")\n",
    "print(f\"макс tvCompanyCategoryId ИД: {df['tvCompanyCategoryId'].max()}\")\n",
    "print()\n",
    "print(f\"Макс длина строки Name: {df['name'].str.len().max()}\")\n",
    "print(f\"Макс длина строки tvCompanyMediaType: {df['tvCompanyMediaType'].str.len().max()}\")\n",
    "print(f\"Макс длина строки information: {df['information'].str.len().max()}\")"
   ]
  },
  {
   "cell_type": "code",
   "execution_count": 142,
   "id": "7b005201-3dd3-48d3-b92b-ff09f53d6bc6",
   "metadata": {},
   "outputs": [
    {
     "name": "stdout",
     "output_type": "stream",
     "text": [
      "Запрошены записи: 0 - 3\n",
      "Всего найдено записей: 3\n",
      "\n"
     ]
    },
    {
     "data": {
      "text/html": [
       "<div>\n",
       "<style scoped>\n",
       "    .dataframe tbody tr th:only-of-type {\n",
       "        vertical-align: middle;\n",
       "    }\n",
       "\n",
       "    .dataframe tbody tr th {\n",
       "        vertical-align: top;\n",
       "    }\n",
       "\n",
       "    .dataframe thead th {\n",
       "        text-align: right;\n",
       "    }\n",
       "</style>\n",
       "<table border=\"1\" class=\"dataframe\">\n",
       "  <thead>\n",
       "    <tr style=\"text-align: right;\">\n",
       "      <th></th>\n",
       "      <th>adTypeId</th>\n",
       "      <th>adTypeName</th>\n",
       "      <th>adTypeEName</th>\n",
       "      <th>notes</th>\n",
       "      <th>accountingDurationType</th>\n",
       "      <th>isOverride</th>\n",
       "      <th>isPrice</th>\n",
       "      <th>positionType</th>\n",
       "    </tr>\n",
       "  </thead>\n",
       "  <tbody>\n",
       "    <tr>\n",
       "      <th>0</th>\n",
       "      <td>1</td>\n",
       "      <td>Ролик</td>\n",
       "      <td>Spot</td>\n",
       "      <td>Основной вид рекламы, имеет фиксированную длительность</td>\n",
       "      <td>A</td>\n",
       "      <td>N</td>\n",
       "      <td>Y</td>\n",
       "      <td>A</td>\n",
       "    </tr>\n",
       "    <tr>\n",
       "      <th>1</th>\n",
       "      <td>5</td>\n",
       "      <td>Спонсор</td>\n",
       "      <td>Sponsor</td>\n",
       "      <td>Представление или указание спонсора. Отмечается один раз в передаче</td>\n",
       "      <td>C</td>\n",
       "      <td>Y</td>\n",
       "      <td>N</td>\n",
       "      <td>B</td>\n",
       "    </tr>\n",
       "    <tr>\n",
       "      <th>2</th>\n",
       "      <td>10</td>\n",
       "      <td>Телемагазин</td>\n",
       "      <td>TV shop</td>\n",
       "      <td>Сюжеты телемагазинов типа TV-Shop</td>\n",
       "      <td>B</td>\n",
       "      <td>N</td>\n",
       "      <td>N</td>\n",
       "      <td>C</td>\n",
       "    </tr>\n",
       "  </tbody>\n",
       "</table>\n",
       "</div>"
      ],
      "text/plain": [
       "   adTypeId   adTypeName adTypeEName  \\\n",
       "0         1        Ролик        Spot   \n",
       "1         5      Спонсор     Sponsor   \n",
       "2        10  Телемагазин     TV shop   \n",
       "\n",
       "                                                                 notes  \\\n",
       "0               Основной вид рекламы, имеет фиксированную длительность   \n",
       "1  Представление или указание спонсора. Отмечается один раз в передаче   \n",
       "2                                    Сюжеты телемагазинов типа TV-Shop   \n",
       "\n",
       "  accountingDurationType isOverride isPrice positionType  \n",
       "0                      A          N       Y            A  \n",
       "1                      C          Y       N            B  \n",
       "2                      B          N       N            C  "
      ]
     },
     "execution_count": 142,
     "metadata": {},
     "output_type": "execute_result"
    }
   ],
   "source": [
    "# Получить список типов ролика - Ролик, Спонсор, Телемагазин и тд.\n",
    "# имеющие отношение к рекламному роику\n",
    "search_lst = ['1', '5', '10']\n",
    "df = cats.get_tv_ad_type(search_lst)\n",
    "df = df.rename(columns={'id': 'adTypeId', 'name': 'adTypeName', 'ename': 'adTypeEName'})\n",
    "\n",
    "df.head()"
   ]
  },
  {
   "cell_type": "code",
   "execution_count": 4,
   "id": "c5e2dfb0-66b1-4f0b-9e8d-841bd7edeea6",
   "metadata": {},
   "outputs": [
    {
     "name": "stdout",
     "output_type": "stream",
     "text": [
      "Запрошены записи: 0 - 24\n",
      "Всего найдено записей: 24\n",
      "\n",
      "макс ИД: 138\n",
      "Макс длина строки Name: 49\n",
      "Макс длина строки Notes: 100\n"
     ]
    }
   ],
   "source": [
    "df = cats.get_tv_ad_type()\n",
    "print(f\"макс ИД: {df['id'].max()}\")\n",
    "print(f\"Макс длина строки Name: {df['name'].str.len().max()}\")\n",
    "print(f\"Макс длина строки Notes: {df['notes'].str.len().max()}\")"
   ]
  },
  {
   "cell_type": "code",
   "execution_count": 143,
   "id": "a49467cb-62c9-419b-8f94-6a6c930e9b62",
   "metadata": {},
   "outputs": [
    {
     "name": "stdout",
     "output_type": "stream",
     "text": [
      "Запрошены записи: 0 - 6\n",
      "Всего найдено записей: 6\n",
      "\n",
      "макс ИД: 5\n",
      "Макс длина строки: 13\n"
     ]
    }
   ],
   "source": [
    "# Позиция выхода ролика\n",
    "df = cats.get_tv_ad_position()\n",
    "print(f\"макс ИД: {df['id'].max()}\")\n",
    "print(f\"Макс длина строки: {df['name'].str.len().max()}\")"
   ]
  },
  {
   "cell_type": "code",
   "execution_count": 144,
   "id": "fb3e77c0-b025-4976-995a-41dea27777db",
   "metadata": {},
   "outputs": [
    {
     "data": {
      "text/html": [
       "<div>\n",
       "<style scoped>\n",
       "    .dataframe tbody tr th:only-of-type {\n",
       "        vertical-align: middle;\n",
       "    }\n",
       "\n",
       "    .dataframe tbody tr th {\n",
       "        vertical-align: top;\n",
       "    }\n",
       "\n",
       "    .dataframe thead th {\n",
       "        text-align: right;\n",
       "    }\n",
       "</style>\n",
       "<table border=\"1\" class=\"dataframe\">\n",
       "  <thead>\n",
       "    <tr style=\"text-align: right;\">\n",
       "      <th></th>\n",
       "      <th>id</th>\n",
       "      <th>name</th>\n",
       "      <th>ename</th>\n",
       "    </tr>\n",
       "  </thead>\n",
       "  <tbody>\n",
       "    <tr>\n",
       "      <th>0</th>\n",
       "      <td>0</td>\n",
       "      <td>Вне блока</td>\n",
       "      <td>Out of block</td>\n",
       "    </tr>\n",
       "    <tr>\n",
       "      <th>1</th>\n",
       "      <td>1</td>\n",
       "      <td>Первый</td>\n",
       "      <td>First</td>\n",
       "    </tr>\n",
       "    <tr>\n",
       "      <th>2</th>\n",
       "      <td>2</td>\n",
       "      <td>Второй</td>\n",
       "      <td>Second</td>\n",
       "    </tr>\n",
       "    <tr>\n",
       "      <th>3</th>\n",
       "      <td>3</td>\n",
       "      <td>Средний</td>\n",
       "      <td>Middle</td>\n",
       "    </tr>\n",
       "    <tr>\n",
       "      <th>4</th>\n",
       "      <td>4</td>\n",
       "      <td>Предпоследний</td>\n",
       "      <td>Penultimate</td>\n",
       "    </tr>\n",
       "    <tr>\n",
       "      <th>5</th>\n",
       "      <td>5</td>\n",
       "      <td>Последний</td>\n",
       "      <td>Last</td>\n",
       "    </tr>\n",
       "  </tbody>\n",
       "</table>\n",
       "</div>"
      ],
      "text/plain": [
       "   id           name         ename\n",
       "0   0      Вне блока  Out of block\n",
       "1   1         Первый         First\n",
       "2   2         Второй        Second\n",
       "3   3        Средний        Middle\n",
       "4   4  Предпоследний   Penultimate\n",
       "5   5      Последний          Last"
      ]
     },
     "execution_count": 144,
     "metadata": {},
     "output_type": "execute_result"
    }
   ],
   "source": [
    "df"
   ]
  },
  {
   "cell_type": "code",
   "execution_count": 145,
   "id": "adf8da02-bf3d-4dc2-8c58-1347abf45f86",
   "metadata": {},
   "outputs": [
    {
     "name": "stdout",
     "output_type": "stream",
     "text": [
      "Запрошены записи: 0 - 3\n",
      "Всего найдено записей: 3\n",
      "\n",
      "макс ИД: 2\n",
      "Макс длина строки: 14\n"
     ]
    }
   ],
   "source": [
    "# Выход в прайм-тайм\n",
    "df = cats.get_tv_prime_time_status()\n",
    "print(f\"макс ИД: {df['id'].max()}\")\n",
    "print(f\"Макс длина строки: {df['name'].str.len().max()}\")"
   ]
  },
  {
   "cell_type": "code",
   "execution_count": 146,
   "id": "4bf82d05-cba7-45ba-95a4-dfc36b2e3cdd",
   "metadata": {},
   "outputs": [
    {
     "data": {
      "text/html": [
       "<div>\n",
       "<style scoped>\n",
       "    .dataframe tbody tr th:only-of-type {\n",
       "        vertical-align: middle;\n",
       "    }\n",
       "\n",
       "    .dataframe tbody tr th {\n",
       "        vertical-align: top;\n",
       "    }\n",
       "\n",
       "    .dataframe thead th {\n",
       "        text-align: right;\n",
       "    }\n",
       "</style>\n",
       "<table border=\"1\" class=\"dataframe\">\n",
       "  <thead>\n",
       "    <tr style=\"text-align: right;\">\n",
       "      <th></th>\n",
       "      <th>id</th>\n",
       "      <th>name</th>\n",
       "      <th>ename</th>\n",
       "    </tr>\n",
       "  </thead>\n",
       "  <tbody>\n",
       "    <tr>\n",
       "      <th>0</th>\n",
       "      <td>0</td>\n",
       "      <td>N/A</td>\n",
       "      <td>N/A</td>\n",
       "    </tr>\n",
       "    <tr>\n",
       "      <th>1</th>\n",
       "      <td>1</td>\n",
       "      <td>Прайм-тайм</td>\n",
       "      <td>Prime-time</td>\n",
       "    </tr>\n",
       "    <tr>\n",
       "      <th>2</th>\n",
       "      <td>2</td>\n",
       "      <td>Вне прайм-тайм</td>\n",
       "      <td>Off-prime</td>\n",
       "    </tr>\n",
       "  </tbody>\n",
       "</table>\n",
       "</div>"
      ],
      "text/plain": [
       "   id            name       ename\n",
       "0   0             N/A         N/A\n",
       "1   1      Прайм-тайм  Prime-time\n",
       "2   2  Вне прайм-тайм   Off-prime"
      ]
     },
     "execution_count": 146,
     "metadata": {},
     "output_type": "execute_result"
    }
   ],
   "source": [
    "df"
   ]
  },
  {
   "cell_type": "code",
   "execution_count": 4,
   "id": "e5ca3e7c-82c2-4b88-8de4-4d0fb6f8ea0f",
   "metadata": {},
   "outputs": [
    {
     "name": "stdout",
     "output_type": "stream",
     "text": [
      "Запрошены записи: 0 - 2\n",
      "Всего найдено записей: 2\n",
      "\n",
      "макс ИД: I\n",
      "Макс длина строки: 10\n"
     ]
    }
   ],
   "source": [
    "df = cats.get_tv_breaks_position()\n",
    "print(f\"макс ИД: {df['id'].max()}\")\n",
    "print(f\"Макс длина строки: {df['name'].str.len().max()}\")"
   ]
  },
  {
   "cell_type": "code",
   "execution_count": 5,
   "id": "1d70fe3c-7591-4881-8318-a53e824b5af9",
   "metadata": {},
   "outputs": [
    {
     "data": {
      "text/html": [
       "<div>\n",
       "<style scoped>\n",
       "    .dataframe tbody tr th:only-of-type {\n",
       "        vertical-align: middle;\n",
       "    }\n",
       "\n",
       "    .dataframe tbody tr th {\n",
       "        vertical-align: top;\n",
       "    }\n",
       "\n",
       "    .dataframe thead th {\n",
       "        text-align: right;\n",
       "    }\n",
       "</style>\n",
       "<table border=\"1\" class=\"dataframe\">\n",
       "  <thead>\n",
       "    <tr style=\"text-align: right;\">\n",
       "      <th></th>\n",
       "      <th>id</th>\n",
       "      <th>name</th>\n",
       "      <th>ename</th>\n",
       "    </tr>\n",
       "  </thead>\n",
       "  <tbody>\n",
       "    <tr>\n",
       "      <th>0</th>\n",
       "      <td>E</td>\n",
       "      <td>Внешний</td>\n",
       "      <td>External</td>\n",
       "    </tr>\n",
       "    <tr>\n",
       "      <th>1</th>\n",
       "      <td>I</td>\n",
       "      <td>Внутренний</td>\n",
       "      <td>Internal</td>\n",
       "    </tr>\n",
       "  </tbody>\n",
       "</table>\n",
       "</div>"
      ],
      "text/plain": [
       "  id        name     ename\n",
       "0  E    Внешний   External\n",
       "1  I  Внутренний  Internal"
      ]
     },
     "execution_count": 5,
     "metadata": {},
     "output_type": "execute_result"
    }
   ],
   "source": [
    "df"
   ]
  },
  {
   "cell_type": "code",
   "execution_count": 6,
   "id": "431c3b09-dd7c-48bf-9b21-6cda26370546",
   "metadata": {},
   "outputs": [
    {
     "name": "stdout",
     "output_type": "stream",
     "text": [
      "Запрошены записи: 0 - 6\n",
      "Всего найдено записей: 6\n",
      "\n",
      "макс ИД: 5\n",
      "Макс длина строки: 13\n"
     ]
    }
   ],
   "source": [
    "df = cats.get_tv_ad_position()\n",
    "print(f\"макс ИД: {df['id'].max()}\")\n",
    "print(f\"Макс длина строки: {df['name'].str.len().max()}\")"
   ]
  },
  {
   "cell_type": "code",
   "execution_count": 7,
   "id": "2fa04ee8-00e9-4237-ba79-7c718961cb7c",
   "metadata": {},
   "outputs": [
    {
     "data": {
      "text/html": [
       "<div>\n",
       "<style scoped>\n",
       "    .dataframe tbody tr th:only-of-type {\n",
       "        vertical-align: middle;\n",
       "    }\n",
       "\n",
       "    .dataframe tbody tr th {\n",
       "        vertical-align: top;\n",
       "    }\n",
       "\n",
       "    .dataframe thead th {\n",
       "        text-align: right;\n",
       "    }\n",
       "</style>\n",
       "<table border=\"1\" class=\"dataframe\">\n",
       "  <thead>\n",
       "    <tr style=\"text-align: right;\">\n",
       "      <th></th>\n",
       "      <th>id</th>\n",
       "      <th>name</th>\n",
       "      <th>ename</th>\n",
       "    </tr>\n",
       "  </thead>\n",
       "  <tbody>\n",
       "    <tr>\n",
       "      <th>0</th>\n",
       "      <td>0</td>\n",
       "      <td>Вне блока</td>\n",
       "      <td>Out of block</td>\n",
       "    </tr>\n",
       "    <tr>\n",
       "      <th>1</th>\n",
       "      <td>1</td>\n",
       "      <td>Первый</td>\n",
       "      <td>First</td>\n",
       "    </tr>\n",
       "    <tr>\n",
       "      <th>2</th>\n",
       "      <td>2</td>\n",
       "      <td>Второй</td>\n",
       "      <td>Second</td>\n",
       "    </tr>\n",
       "    <tr>\n",
       "      <th>3</th>\n",
       "      <td>3</td>\n",
       "      <td>Средний</td>\n",
       "      <td>Middle</td>\n",
       "    </tr>\n",
       "    <tr>\n",
       "      <th>4</th>\n",
       "      <td>4</td>\n",
       "      <td>Предпоследний</td>\n",
       "      <td>Penultimate</td>\n",
       "    </tr>\n",
       "    <tr>\n",
       "      <th>5</th>\n",
       "      <td>5</td>\n",
       "      <td>Последний</td>\n",
       "      <td>Last</td>\n",
       "    </tr>\n",
       "  </tbody>\n",
       "</table>\n",
       "</div>"
      ],
      "text/plain": [
       "   id           name         ename\n",
       "0   0      Вне блока  Out of block\n",
       "1   1         Первый         First\n",
       "2   2         Второй        Second\n",
       "3   3        Средний        Middle\n",
       "4   4  Предпоследний   Penultimate\n",
       "5   5      Последний          Last"
      ]
     },
     "execution_count": 7,
     "metadata": {},
     "output_type": "execute_result"
    }
   ],
   "source": [
    "df"
   ]
  },
  {
   "cell_type": "code",
   "execution_count": null,
   "id": "5ebd384e-54f1-4e21-a1b0-2e610403ef1d",
   "metadata": {},
   "outputs": [],
   "source": []
  },
  {
   "cell_type": "code",
   "execution_count": 42,
   "id": "e0509f73-4699-4ee7-8b65-bb272e284eaf",
   "metadata": {},
   "outputs": [
    {
     "name": "stdout",
     "output_type": "stream",
     "text": [
      "311419, 393963, 461753, 463018, 586043, 651039, 689003, 719137\n"
     ]
    }
   ],
   "source": [
    "search_filter"
   ]
  },
  {
   "cell_type": "code",
   "execution_count": null,
   "id": "327a2a16",
   "metadata": {
    "scrolled": true
   },
   "outputs": [],
   "source": []
  },
  {
   "cell_type": "code",
   "execution_count": null,
   "id": "caa40d26",
   "metadata": {},
   "outputs": [],
   "source": [
    "df_result =  test2\n",
    "df_result"
   ]
  },
  {
   "cell_type": "code",
   "execution_count": null,
   "id": "2cc82219",
   "metadata": {},
   "outputs": [],
   "source": [
    "import os\n",
    "path = r'C:\\Users\\powerbi\\Downloads'\n",
    "\n",
    "date = datetime.datetime.now().strftime('%d_%m_%Y_%H_%M_%S')\n",
    "\n",
    "file_name = f'search_result_for_{date}.xlsx'\n",
    "\n",
    "df_result.to_excel(os.path.join(path, file_name))\n",
    "\n",
    "print(f'Файл {file_name} успешно сохранен')"
   ]
  },
  {
   "cell_type": "code",
   "execution_count": 21,
   "id": "7b999445",
   "metadata": {},
   "outputs": [],
   "source": [
    "path = r'C:\\Users\\powerbi\\Desktop\\PBI_Рабочие_файлы\\20_img_machine_learning_files'\n",
    "file_name = 'creatives_table_yandex.xlsx'\n",
    "\n",
    "df_creatives = pd.read_excel(os.path.join(path, file_name))"
   ]
  },
  {
   "cell_type": "code",
   "execution_count": 22,
   "id": "bd49b707",
   "metadata": {},
   "outputs": [
    {
     "data": {
      "text/html": [
       "<div>\n",
       "<style scoped>\n",
       "    .dataframe tbody tr th:only-of-type {\n",
       "        vertical-align: middle;\n",
       "    }\n",
       "\n",
       "    .dataframe tbody tr th {\n",
       "        vertical-align: top;\n",
       "    }\n",
       "\n",
       "    .dataframe thead th {\n",
       "        text-align: right;\n",
       "    }\n",
       "</style>\n",
       "<table border=\"1\" class=\"dataframe\">\n",
       "  <thead>\n",
       "    <tr style=\"text-align: right;\">\n",
       "      <th></th>\n",
       "      <th>Unnamed: 0</th>\n",
       "      <th>first_level_folder</th>\n",
       "      <th>second_level_folder</th>\n",
       "      <th>name</th>\n",
       "      <th>download_link</th>\n",
       "      <th>type</th>\n",
       "      <th>only_name</th>\n",
       "      <th>ad_id</th>\n",
       "    </tr>\n",
       "  </thead>\n",
       "  <tbody>\n",
       "    <tr>\n",
       "      <th>0</th>\n",
       "      <td>0</td>\n",
       "      <td>МАРК всякие разные ролики</td>\n",
       "      <td>NaN</td>\n",
       "      <td>ИНТЕРНЕТ РЕШЕНИЯ_OZON_21092023_4511893.avi</td>\n",
       "      <td>https://downloader.disk.yandex.ru/disk/46832c954354752f6b3e8f6684304e64934547d3cbabc5637931bc46f908d592/65e845c0/ZDBSPHnhfjndn_xQkxWyAjMWe2Vf2J8T6LO89p5BgP5YrF1zKqATWiHJhn_GWOrniKW8la5zixdh0snJrUX5jw%3D%3D?uid=0&amp;filename=%D0%98%D0%9D%D0%A2%D0%95%D0%A0%D0%9D%D0%95%D0%A2%20%D0%A0%D0%95%D0%A8%D0%95%D0%9D%D0%98%D0%AF_OZON_21092023_4511893.avi&amp;disposition=attachment&amp;hash=&amp;limit=0&amp;content_type=video%2Fx-msvideo&amp;owner_uid=0&amp;fsize=943068&amp;hid=86eac0447bf9d7fd5329989bef06a4d6&amp;media_type=video&amp;tknv=v2&amp;etag=c4ae26e0db6807ab62e0b987cd47b232</td>\n",
       "      <td>video/x-msvideo</td>\n",
       "      <td>ИНТЕРНЕТ РЕШЕНИЯ_OZON_21092023_4511893</td>\n",
       "      <td>4511893</td>\n",
       "    </tr>\n",
       "    <tr>\n",
       "      <th>1</th>\n",
       "      <td>1</td>\n",
       "      <td>МАРК всякие разные ролики</td>\n",
       "      <td>NaN</td>\n",
       "      <td>ИНТЕРНЕТ РЕШЕНИЯ_OZON_19102023_4528825.avi</td>\n",
       "      <td>https://downloader.disk.yandex.ru/disk/030c97da14956f27336bd4ae2eb07e21b935a10942842d49dcf1ff78660aefbf/65e845c0/fKqInKw3d7bLFOeFnMGnhAzLt02nlI3Kg3x5at81Us3hCefcK2b7EIpJ3-C83D_Xgey-rUHasXHhVcTzy0vuZtb94Gskwoo305rwZON7I_ur8npumZHI4midPdWhecNq?uid=0&amp;filename=%D0%98%D0%9D%D0%A2%D0%95%D0%A0%D0%9D%D0%95%D0%A2%20%D0%A0%D0%95%D0%A8%D0%95%D0%9D%D0%98%D0%AF_OZON_19102023_4528825.avi&amp;disposition=attachment&amp;hash=&amp;limit=0&amp;content_type=video%2Fx-msvideo&amp;owner_uid=0&amp;fsize=960214&amp;hid=d70d588e8687baf454d31719758fd3cb&amp;media_type=video&amp;tknv=v2&amp;etag=007bc05a27f0c7d8280083dafdd7ac35</td>\n",
       "      <td>video/x-msvideo</td>\n",
       "      <td>ИНТЕРНЕТ РЕШЕНИЯ_OZON_19102023_4528825</td>\n",
       "      <td>4528825</td>\n",
       "    </tr>\n",
       "  </tbody>\n",
       "</table>\n",
       "</div>"
      ],
      "text/plain": [
       "   Unnamed: 0         first_level_folder second_level_folder  \\\n",
       "0           0  МАРК всякие разные ролики                 NaN   \n",
       "1           1  МАРК всякие разные ролики                 NaN   \n",
       "\n",
       "                                         name  \\\n",
       "0  ИНТЕРНЕТ РЕШЕНИЯ_OZON_21092023_4511893.avi   \n",
       "1  ИНТЕРНЕТ РЕШЕНИЯ_OZON_19102023_4528825.avi   \n",
       "\n",
       "                                                                                                                                                                                                                                                                                                                                                                                                                                                                                                                                                                               download_link  \\\n",
       "0                                      https://downloader.disk.yandex.ru/disk/46832c954354752f6b3e8f6684304e64934547d3cbabc5637931bc46f908d592/65e845c0/ZDBSPHnhfjndn_xQkxWyAjMWe2Vf2J8T6LO89p5BgP5YrF1zKqATWiHJhn_GWOrniKW8la5zixdh0snJrUX5jw%3D%3D?uid=0&filename=%D0%98%D0%9D%D0%A2%D0%95%D0%A0%D0%9D%D0%95%D0%A2%20%D0%A0%D0%95%D0%A8%D0%95%D0%9D%D0%98%D0%AF_OZON_21092023_4511893.avi&disposition=attachment&hash=&limit=0&content_type=video%2Fx-msvideo&owner_uid=0&fsize=943068&hid=86eac0447bf9d7fd5329989bef06a4d6&media_type=video&tknv=v2&etag=c4ae26e0db6807ab62e0b987cd47b232   \n",
       "1  https://downloader.disk.yandex.ru/disk/030c97da14956f27336bd4ae2eb07e21b935a10942842d49dcf1ff78660aefbf/65e845c0/fKqInKw3d7bLFOeFnMGnhAzLt02nlI3Kg3x5at81Us3hCefcK2b7EIpJ3-C83D_Xgey-rUHasXHhVcTzy0vuZtb94Gskwoo305rwZON7I_ur8npumZHI4midPdWhecNq?uid=0&filename=%D0%98%D0%9D%D0%A2%D0%95%D0%A0%D0%9D%D0%95%D0%A2%20%D0%A0%D0%95%D0%A8%D0%95%D0%9D%D0%98%D0%AF_OZON_19102023_4528825.avi&disposition=attachment&hash=&limit=0&content_type=video%2Fx-msvideo&owner_uid=0&fsize=960214&hid=d70d588e8687baf454d31719758fd3cb&media_type=video&tknv=v2&etag=007bc05a27f0c7d8280083dafdd7ac35   \n",
       "\n",
       "              type                               only_name    ad_id  \n",
       "0  video/x-msvideo  ИНТЕРНЕТ РЕШЕНИЯ_OZON_21092023_4511893  4511893  \n",
       "1  video/x-msvideo  ИНТЕРНЕТ РЕШЕНИЯ_OZON_19102023_4528825  4528825  "
      ]
     },
     "execution_count": 22,
     "metadata": {},
     "output_type": "execute_result"
    }
   ],
   "source": [
    "df_creatives.head(2)"
   ]
  },
  {
   "cell_type": "code",
   "execution_count": 23,
   "id": "2527b694",
   "metadata": {},
   "outputs": [
    {
     "data": {
      "text/plain": [
       "257"
      ]
     },
     "execution_count": 23,
     "metadata": {},
     "output_type": "execute_result"
    }
   ],
   "source": [
    "len(df_creatives)"
   ]
  },
  {
   "cell_type": "code",
   "execution_count": 24,
   "id": "f058578d",
   "metadata": {},
   "outputs": [
    {
     "ename": "KeyError",
     "evalue": "\"['name'] not in index\"",
     "output_type": "error",
     "traceback": [
      "\u001b[1;31m---------------------------------------------------------------------------\u001b[0m",
      "\u001b[1;31mKeyError\u001b[0m                                  Traceback (most recent call last)",
      "Cell \u001b[1;32mIn[24], line 1\u001b[0m\n\u001b[1;32m----> 1\u001b[0m test \u001b[38;5;241m=\u001b[39m \u001b[43mtest\u001b[49m\u001b[43m[\u001b[49m\u001b[43m[\u001b[49m\u001b[38;5;124;43m'\u001b[39;49m\u001b[38;5;124;43mid\u001b[39;49m\u001b[38;5;124;43m'\u001b[39;49m\u001b[43m,\u001b[49m\u001b[43m \u001b[49m\u001b[38;5;124;43m'\u001b[39;49m\u001b[38;5;124;43mname\u001b[39;49m\u001b[38;5;124;43m'\u001b[39;49m\u001b[43m,\u001b[49m\u001b[43m \u001b[49m\u001b[38;5;124;43m'\u001b[39;49m\u001b[38;5;124;43mfirstIssueDate\u001b[39;49m\u001b[38;5;124;43m'\u001b[39;49m\u001b[43m]\u001b[49m\u001b[43m]\u001b[49m\n",
      "File \u001b[1;32m~\\AppData\\Local\\Packages\\PythonSoftwareFoundation.Python.3.11_qbz5n2kfra8p0\\LocalCache\\local-packages\\Python311\\site-packages\\pandas\\core\\frame.py:3767\u001b[0m, in \u001b[0;36mDataFrame.__getitem__\u001b[1;34m(self, key)\u001b[0m\n\u001b[0;32m   3765\u001b[0m     \u001b[38;5;28;01mif\u001b[39;00m is_iterator(key):\n\u001b[0;32m   3766\u001b[0m         key \u001b[38;5;241m=\u001b[39m \u001b[38;5;28mlist\u001b[39m(key)\n\u001b[1;32m-> 3767\u001b[0m     indexer \u001b[38;5;241m=\u001b[39m \u001b[38;5;28;43mself\u001b[39;49m\u001b[38;5;241;43m.\u001b[39;49m\u001b[43mcolumns\u001b[49m\u001b[38;5;241;43m.\u001b[39;49m\u001b[43m_get_indexer_strict\u001b[49m\u001b[43m(\u001b[49m\u001b[43mkey\u001b[49m\u001b[43m,\u001b[49m\u001b[43m \u001b[49m\u001b[38;5;124;43m\"\u001b[39;49m\u001b[38;5;124;43mcolumns\u001b[39;49m\u001b[38;5;124;43m\"\u001b[39;49m\u001b[43m)\u001b[49m[\u001b[38;5;241m1\u001b[39m]\n\u001b[0;32m   3769\u001b[0m \u001b[38;5;66;03m# take() does not accept boolean indexers\u001b[39;00m\n\u001b[0;32m   3770\u001b[0m \u001b[38;5;28;01mif\u001b[39;00m \u001b[38;5;28mgetattr\u001b[39m(indexer, \u001b[38;5;124m\"\u001b[39m\u001b[38;5;124mdtype\u001b[39m\u001b[38;5;124m\"\u001b[39m, \u001b[38;5;28;01mNone\u001b[39;00m) \u001b[38;5;241m==\u001b[39m \u001b[38;5;28mbool\u001b[39m:\n",
      "File \u001b[1;32m~\\AppData\\Local\\Packages\\PythonSoftwareFoundation.Python.3.11_qbz5n2kfra8p0\\LocalCache\\local-packages\\Python311\\site-packages\\pandas\\core\\indexes\\base.py:5877\u001b[0m, in \u001b[0;36mIndex._get_indexer_strict\u001b[1;34m(self, key, axis_name)\u001b[0m\n\u001b[0;32m   5874\u001b[0m \u001b[38;5;28;01melse\u001b[39;00m:\n\u001b[0;32m   5875\u001b[0m     keyarr, indexer, new_indexer \u001b[38;5;241m=\u001b[39m \u001b[38;5;28mself\u001b[39m\u001b[38;5;241m.\u001b[39m_reindex_non_unique(keyarr)\n\u001b[1;32m-> 5877\u001b[0m \u001b[38;5;28;43mself\u001b[39;49m\u001b[38;5;241;43m.\u001b[39;49m\u001b[43m_raise_if_missing\u001b[49m\u001b[43m(\u001b[49m\u001b[43mkeyarr\u001b[49m\u001b[43m,\u001b[49m\u001b[43m \u001b[49m\u001b[43mindexer\u001b[49m\u001b[43m,\u001b[49m\u001b[43m \u001b[49m\u001b[43maxis_name\u001b[49m\u001b[43m)\u001b[49m\n\u001b[0;32m   5879\u001b[0m keyarr \u001b[38;5;241m=\u001b[39m \u001b[38;5;28mself\u001b[39m\u001b[38;5;241m.\u001b[39mtake(indexer)\n\u001b[0;32m   5880\u001b[0m \u001b[38;5;28;01mif\u001b[39;00m \u001b[38;5;28misinstance\u001b[39m(key, Index):\n\u001b[0;32m   5881\u001b[0m     \u001b[38;5;66;03m# GH 42790 - Preserve name from an Index\u001b[39;00m\n",
      "File \u001b[1;32m~\\AppData\\Local\\Packages\\PythonSoftwareFoundation.Python.3.11_qbz5n2kfra8p0\\LocalCache\\local-packages\\Python311\\site-packages\\pandas\\core\\indexes\\base.py:5941\u001b[0m, in \u001b[0;36mIndex._raise_if_missing\u001b[1;34m(self, key, indexer, axis_name)\u001b[0m\n\u001b[0;32m   5938\u001b[0m     \u001b[38;5;28;01mraise\u001b[39;00m \u001b[38;5;167;01mKeyError\u001b[39;00m(\u001b[38;5;124mf\u001b[39m\u001b[38;5;124m\"\u001b[39m\u001b[38;5;124mNone of [\u001b[39m\u001b[38;5;132;01m{\u001b[39;00mkey\u001b[38;5;132;01m}\u001b[39;00m\u001b[38;5;124m] are in the [\u001b[39m\u001b[38;5;132;01m{\u001b[39;00maxis_name\u001b[38;5;132;01m}\u001b[39;00m\u001b[38;5;124m]\u001b[39m\u001b[38;5;124m\"\u001b[39m)\n\u001b[0;32m   5940\u001b[0m not_found \u001b[38;5;241m=\u001b[39m \u001b[38;5;28mlist\u001b[39m(ensure_index(key)[missing_mask\u001b[38;5;241m.\u001b[39mnonzero()[\u001b[38;5;241m0\u001b[39m]]\u001b[38;5;241m.\u001b[39munique())\n\u001b[1;32m-> 5941\u001b[0m \u001b[38;5;28;01mraise\u001b[39;00m \u001b[38;5;167;01mKeyError\u001b[39;00m(\u001b[38;5;124mf\u001b[39m\u001b[38;5;124m\"\u001b[39m\u001b[38;5;132;01m{\u001b[39;00mnot_found\u001b[38;5;132;01m}\u001b[39;00m\u001b[38;5;124m not in index\u001b[39m\u001b[38;5;124m\"\u001b[39m)\n",
      "\u001b[1;31mKeyError\u001b[0m: \"['name'] not in index\""
     ]
    }
   ],
   "source": [
    "test = test[['id', 'name', 'firstIssueDate']]"
   ]
  },
  {
   "cell_type": "code",
   "execution_count": 25,
   "id": "e16c695c",
   "metadata": {},
   "outputs": [],
   "source": [
    "test = test.rename(columns={'brand': 'creative_name'})"
   ]
  },
  {
   "cell_type": "code",
   "execution_count": 26,
   "id": "9bdedc7a",
   "metadata": {},
   "outputs": [
    {
     "data": {
      "text/html": [
       "<div>\n",
       "<style scoped>\n",
       "    .dataframe tbody tr th:only-of-type {\n",
       "        vertical-align: middle;\n",
       "    }\n",
       "\n",
       "    .dataframe tbody tr th {\n",
       "        vertical-align: top;\n",
       "    }\n",
       "\n",
       "    .dataframe thead th {\n",
       "        text-align: right;\n",
       "    }\n",
       "</style>\n",
       "<table border=\"1\" class=\"dataframe\">\n",
       "  <thead>\n",
       "    <tr style=\"text-align: right;\">\n",
       "      <th></th>\n",
       "      <th>id</th>\n",
       "      <th>creative_name</th>\n",
       "      <th>firstIssueDate</th>\n",
       "    </tr>\n",
       "  </thead>\n",
       "  <tbody>\n",
       "    <tr>\n",
       "      <th>0</th>\n",
       "      <td>349</td>\n",
       "      <td>БАЛТИКА пивоваренный завод</td>\n",
       "      <td>1995-08-30</td>\n",
       "    </tr>\n",
       "    <tr>\n",
       "      <th>1</th>\n",
       "      <td>440</td>\n",
       "      <td>PEDIGREE</td>\n",
       "      <td>1995-08-05</td>\n",
       "    </tr>\n",
       "    <tr>\n",
       "      <th>2</th>\n",
       "      <td>524</td>\n",
       "      <td>ЕВРОПА ПЛЮС 106,2 FM радиостанция</td>\n",
       "      <td>1995-06-02</td>\n",
       "    </tr>\n",
       "    <tr>\n",
       "      <th>3</th>\n",
       "      <td>2020</td>\n",
       "      <td>SONY  фирма</td>\n",
       "      <td>1995-06-01</td>\n",
       "    </tr>\n",
       "    <tr>\n",
       "      <th>4</th>\n",
       "      <td>2179</td>\n",
       "      <td>АВТОРАДИО радиостанция</td>\n",
       "      <td>1995-06-04</td>\n",
       "    </tr>\n",
       "  </tbody>\n",
       "</table>\n",
       "</div>"
      ],
      "text/plain": [
       "     id                      creative_name firstIssueDate\n",
       "0   349         БАЛТИКА пивоваренный завод     1995-08-30\n",
       "1   440                           PEDIGREE     1995-08-05\n",
       "2   524  ЕВРОПА ПЛЮС 106,2 FM радиостанция     1995-06-02\n",
       "3  2020                        SONY  фирма     1995-06-01\n",
       "4  2179             АВТОРАДИО радиостанция     1995-06-04"
      ]
     },
     "execution_count": 26,
     "metadata": {},
     "output_type": "execute_result"
    }
   ],
   "source": [
    "test.head()"
   ]
  },
  {
   "cell_type": "code",
   "execution_count": 27,
   "id": "212adaf2",
   "metadata": {},
   "outputs": [],
   "source": [
    "df_creatives = df_creatives.merge(test, how='left', left_on=['ad_id'], right_on=['id'])"
   ]
  },
  {
   "cell_type": "code",
   "execution_count": 28,
   "id": "d90d20a9",
   "metadata": {},
   "outputs": [
    {
     "data": {
      "text/plain": [
       "257"
      ]
     },
     "execution_count": 28,
     "metadata": {},
     "output_type": "execute_result"
    }
   ],
   "source": [
    "len(df_creatives)"
   ]
  },
  {
   "cell_type": "code",
   "execution_count": 29,
   "id": "666bb1b9",
   "metadata": {},
   "outputs": [
    {
     "data": {
      "text/html": [
       "<div>\n",
       "<style scoped>\n",
       "    .dataframe tbody tr th:only-of-type {\n",
       "        vertical-align: middle;\n",
       "    }\n",
       "\n",
       "    .dataframe tbody tr th {\n",
       "        vertical-align: top;\n",
       "    }\n",
       "\n",
       "    .dataframe thead th {\n",
       "        text-align: right;\n",
       "    }\n",
       "</style>\n",
       "<table border=\"1\" class=\"dataframe\">\n",
       "  <thead>\n",
       "    <tr style=\"text-align: right;\">\n",
       "      <th></th>\n",
       "      <th>Unnamed: 0</th>\n",
       "      <th>first_level_folder</th>\n",
       "      <th>second_level_folder</th>\n",
       "      <th>name</th>\n",
       "      <th>download_link</th>\n",
       "      <th>type</th>\n",
       "      <th>only_name</th>\n",
       "      <th>ad_id</th>\n",
       "      <th>id</th>\n",
       "      <th>creative_name</th>\n",
       "      <th>firstIssueDate</th>\n",
       "    </tr>\n",
       "  </thead>\n",
       "  <tbody>\n",
       "    <tr>\n",
       "      <th>0</th>\n",
       "      <td>0</td>\n",
       "      <td>МАРК всякие разные ролики</td>\n",
       "      <td>NaN</td>\n",
       "      <td>ИНТЕРНЕТ РЕШЕНИЯ_OZON_21092023_4511893.avi</td>\n",
       "      <td>https://downloader.disk.yandex.ru/disk/46832c954354752f6b3e8f6684304e64934547d3cbabc5637931bc46f908d592/65e845c0/ZDBSPHnhfjndn_xQkxWyAjMWe2Vf2J8T6LO89p5BgP5YrF1zKqATWiHJhn_GWOrniKW8la5zixdh0snJrUX5jw%3D%3D?uid=0&amp;filename=%D0%98%D0%9D%D0%A2%D0%95%D0%A0%D0%9D%D0%95%D0%A2%20%D0%A0%D0%95%D0%A8%D0%95%D0%9D%D0%98%D0%AF_OZON_21092023_4511893.avi&amp;disposition=attachment&amp;hash=&amp;limit=0&amp;content_type=video%2Fx-msvideo&amp;owner_uid=0&amp;fsize=943068&amp;hid=86eac0447bf9d7fd5329989bef06a4d6&amp;media_type=video&amp;tknv=v2&amp;etag=c4ae26e0db6807ab62e0b987cd47b232</td>\n",
       "      <td>video/x-msvideo</td>\n",
       "      <td>ИНТЕРНЕТ РЕШЕНИЯ_OZON_21092023_4511893</td>\n",
       "      <td>4511893</td>\n",
       "      <td>4511893.0</td>\n",
       "      <td>OZON FRESH маркетплейс (Яблоки сезонные 79 руб.)</td>\n",
       "      <td>2023-09-21</td>\n",
       "    </tr>\n",
       "    <tr>\n",
       "      <th>1</th>\n",
       "      <td>1</td>\n",
       "      <td>МАРК всякие разные ролики</td>\n",
       "      <td>NaN</td>\n",
       "      <td>ИНТЕРНЕТ РЕШЕНИЯ_OZON_19102023_4528825.avi</td>\n",
       "      <td>https://downloader.disk.yandex.ru/disk/030c97da14956f27336bd4ae2eb07e21b935a10942842d49dcf1ff78660aefbf/65e845c0/fKqInKw3d7bLFOeFnMGnhAzLt02nlI3Kg3x5at81Us3hCefcK2b7EIpJ3-C83D_Xgey-rUHasXHhVcTzy0vuZtb94Gskwoo305rwZON7I_ur8npumZHI4midPdWhecNq?uid=0&amp;filename=%D0%98%D0%9D%D0%A2%D0%95%D0%A0%D0%9D%D0%95%D0%A2%20%D0%A0%D0%95%D0%A8%D0%95%D0%9D%D0%98%D0%AF_OZON_19102023_4528825.avi&amp;disposition=attachment&amp;hash=&amp;limit=0&amp;content_type=video%2Fx-msvideo&amp;owner_uid=0&amp;fsize=960214&amp;hid=d70d588e8687baf454d31719758fd3cb&amp;media_type=video&amp;tknv=v2&amp;etag=007bc05a27f0c7d8280083dafdd7ac35</td>\n",
       "      <td>video/x-msvideo</td>\n",
       "      <td>ИНТЕРНЕТ РЕШЕНИЯ_OZON_19102023_4528825</td>\n",
       "      <td>4528825</td>\n",
       "      <td>4528825.0</td>\n",
       "      <td>OZON FRESH маркетплейс (БЫЧЬЕ СЕРДЦЕ помидоры 279 р.) тит серые</td>\n",
       "      <td>2023-10-19</td>\n",
       "    </tr>\n",
       "  </tbody>\n",
       "</table>\n",
       "</div>"
      ],
      "text/plain": [
       "   Unnamed: 0         first_level_folder second_level_folder  \\\n",
       "0           0  МАРК всякие разные ролики                 NaN   \n",
       "1           1  МАРК всякие разные ролики                 NaN   \n",
       "\n",
       "                                         name  \\\n",
       "0  ИНТЕРНЕТ РЕШЕНИЯ_OZON_21092023_4511893.avi   \n",
       "1  ИНТЕРНЕТ РЕШЕНИЯ_OZON_19102023_4528825.avi   \n",
       "\n",
       "                                                                                                                                                                                                                                                                                                                                                                                                                                                                                                                                                                               download_link  \\\n",
       "0                                      https://downloader.disk.yandex.ru/disk/46832c954354752f6b3e8f6684304e64934547d3cbabc5637931bc46f908d592/65e845c0/ZDBSPHnhfjndn_xQkxWyAjMWe2Vf2J8T6LO89p5BgP5YrF1zKqATWiHJhn_GWOrniKW8la5zixdh0snJrUX5jw%3D%3D?uid=0&filename=%D0%98%D0%9D%D0%A2%D0%95%D0%A0%D0%9D%D0%95%D0%A2%20%D0%A0%D0%95%D0%A8%D0%95%D0%9D%D0%98%D0%AF_OZON_21092023_4511893.avi&disposition=attachment&hash=&limit=0&content_type=video%2Fx-msvideo&owner_uid=0&fsize=943068&hid=86eac0447bf9d7fd5329989bef06a4d6&media_type=video&tknv=v2&etag=c4ae26e0db6807ab62e0b987cd47b232   \n",
       "1  https://downloader.disk.yandex.ru/disk/030c97da14956f27336bd4ae2eb07e21b935a10942842d49dcf1ff78660aefbf/65e845c0/fKqInKw3d7bLFOeFnMGnhAzLt02nlI3Kg3x5at81Us3hCefcK2b7EIpJ3-C83D_Xgey-rUHasXHhVcTzy0vuZtb94Gskwoo305rwZON7I_ur8npumZHI4midPdWhecNq?uid=0&filename=%D0%98%D0%9D%D0%A2%D0%95%D0%A0%D0%9D%D0%95%D0%A2%20%D0%A0%D0%95%D0%A8%D0%95%D0%9D%D0%98%D0%AF_OZON_19102023_4528825.avi&disposition=attachment&hash=&limit=0&content_type=video%2Fx-msvideo&owner_uid=0&fsize=960214&hid=d70d588e8687baf454d31719758fd3cb&media_type=video&tknv=v2&etag=007bc05a27f0c7d8280083dafdd7ac35   \n",
       "\n",
       "              type                               only_name    ad_id  \\\n",
       "0  video/x-msvideo  ИНТЕРНЕТ РЕШЕНИЯ_OZON_21092023_4511893  4511893   \n",
       "1  video/x-msvideo  ИНТЕРНЕТ РЕШЕНИЯ_OZON_19102023_4528825  4528825   \n",
       "\n",
       "          id                                                    creative_name  \\\n",
       "0  4511893.0                 OZON FRESH маркетплейс (Яблоки сезонные 79 руб.)   \n",
       "1  4528825.0  OZON FRESH маркетплейс (БЫЧЬЕ СЕРДЦЕ помидоры 279 р.) тит серые   \n",
       "\n",
       "  firstIssueDate  \n",
       "0     2023-09-21  \n",
       "1     2023-10-19  "
      ]
     },
     "execution_count": 29,
     "metadata": {},
     "output_type": "execute_result"
    }
   ],
   "source": [
    "df_creatives.head(2)"
   ]
  },
  {
   "cell_type": "code",
   "execution_count": 31,
   "id": "b15143f8",
   "metadata": {},
   "outputs": [],
   "source": [
    "file_name = 'creatives_table_media.xlsx'\n",
    "\n",
    "df_creatives.to_excel(os.path.join(path, file_name))"
   ]
  }
 ],
 "metadata": {
  "kernelspec": {
   "display_name": "Python 3 (ipykernel)",
   "language": "python",
   "name": "python3"
  },
  "language_info": {
   "codemirror_mode": {
    "name": "ipython",
    "version": 3
   },
   "file_extension": ".py",
   "mimetype": "text/x-python",
   "name": "python",
   "nbconvert_exporter": "python",
   "pygments_lexer": "ipython3",
   "version": "3.11.7"
  }
 },
 "nbformat": 4,
 "nbformat_minor": 5
}
