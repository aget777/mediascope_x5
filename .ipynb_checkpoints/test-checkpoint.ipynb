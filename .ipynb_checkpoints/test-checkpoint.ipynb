{
 "cells": [
  {
   "cell_type": "code",
   "execution_count": 1,
   "id": "b8a78c4f-5230-4ff0-b3ea-aaff4beac49d",
   "metadata": {},
   "outputs": [
    {
     "name": "stdout",
     "output_type": "stream",
     "text": [
      "Все ок. Подключились!\n",
      "Загрузка завершена успешно\n"
     ]
    }
   ],
   "source": [
    "import requests\n",
    "import pandas as pd\n",
    "import numpy as np\n",
    "import os\n",
    "from datetime import datetime, date, timedelta\n",
    "from dateutil.relativedelta import relativedelta\n",
    "import time\n",
    "import pyarrow as pa\n",
    "from urllib.parse import quote_plus\n",
    "from pandas.api.types import is_string_dtype\n",
    "import gc\n",
    "import warnings\n",
    "\n",
    "import config\n",
    "import config_media_costs\n",
    "import config_reg_tv\n",
    "from normalize_funcs import normalize_columns_types, append_custom_columns, get_cleaning_dict\n",
    "from db_funcs import createDBTable, downloadTableToDB, get_mssql_table, removeRowsFromDB\n",
    "\n",
    "# from create_dicts_adex import get_adex_dicts\n",
    "\n",
    "db_name = config.db_name"
   ]
  },
  {
   "cell_type": "code",
   "execution_count": 2,
   "id": "af4a8676-b343-4660-8ad5-7e623f01ab3b",
   "metadata": {},
   "outputs": [],
   "source": [
    "# Включаем отображение всех колонок\n",
    "pd.set_option('display.max_columns', None)\n",
    "# Задаем ширину столбцов по контенту\n",
    "pd.set_option('display.max_colwidth', None)\n",
    "pd.set_option('display.max_rows', None)\n",
    "\n",
    "warnings.simplefilter(action='ignore', category=FutureWarning)\n",
    "# убираем лишние предупреждения\n",
    "pd.set_option('mode.chained_assignment', None)"
   ]
  },
  {
   "cell_type": "code",
   "execution_count": null,
   "id": "e707ca1f-2c65-45c1-9f82-8b16ff75562b",
   "metadata": {},
   "outputs": [],
   "source": [
    "media_type = 'tv'\n",
    "df_cleaning_dict = get_cleaning_dict(media_type)\n",
    "\n",
    "media_type_short = media_type.upper()\n",
    "# df_cleaning_dict['media_key_id'] = media_type + '_' + df_cleaning_dict['adId'].astype('str')\n",
    " # нормализуем типы данных\n",
    "df_cleaning_dict = normalize_columns_types(df_cleaning_dict, config.custom_ad_dict_int_lst) \n",
    "\n",
    "# создаем список из названий полей, которые нам нужны дальше для метчинга\n",
    "custom_cols_list = [col[:col.find(' ')] for col in config.custom_ad_dict_vars_list]\n",
    "custom_cols_list = list(set(custom_cols_list) - set(['adId', 'media_type', 'media_type_long']))\n",
    "# оставляем только нужные поля\n",
    "df_cleaning_dict = df_cleaning_dict[custom_cols_list]"
   ]
  },
  {
   "cell_type": "code",
   "execution_count": null,
   "id": "177f681d-c0d3-4053-bac1-1c050d70d20c",
   "metadata": {},
   "outputs": [],
   "source": [
    "df_cleaning_dict.shape"
   ]
  },
  {
   "cell_type": "code",
   "execution_count": null,
   "id": "cf70156c-8a5c-434c-b91b-0d50bd130c00",
   "metadata": {},
   "outputs": [],
   "source": [
    "tv_report='reg'\n",
    "if tv_report=='reg':\n",
    "    # забираем список полей, которые созданы в БД в таблице фактов Simple\n",
    "    table_name = config_reg_tv.reg_tv_ad_dict\n",
    "    vars_cols_lst = config_reg_tv.reg_tv_ad_dict_vars_list\n",
    "    int_lst = config_reg_tv.reg_tv_ad_dict_int_lst\n",
    "\n",
    "# формируем список названий полей, которые нам нужно забрать из БД\n",
    "# из справочника nat_tv_ad_dict\n",
    "df_ad_dict_short_cols = [col[:col.find(' ')] for col in vars_cols_lst]\n",
    "df_ad_dict_short_cols = list(set(df_ad_dict_short_cols) - set(custom_cols_list)) + ['media_key_id']\n",
    "# приводим список к строке\n",
    "df_ad_dict_short_cols = ', '.join(df_ad_dict_short_cols)\n",
    "\n",
    "# отправляем запрос в БД и забираем ВСЕ строки и нужные поля\n",
    "query = f\"select {df_ad_dict_short_cols}  from {table_name}\"\n",
    "df_ad_dict = get_mssql_table(db_name, query=query) "
   ]
  },
  {
   "cell_type": "code",
   "execution_count": null,
   "id": "8b58c665-10e4-4203-a3bd-ac24ee53eb61",
   "metadata": {},
   "outputs": [],
   "source": [
    "# объединяем справочник из БД с таблицей чистки\n",
    "df_ad_dict = df_ad_dict.merge(df_cleaning_dict, how='left', left_on=['media_key_id'], right_on=['media_key_id'])\n",
    "# ИД объявлений, которые НЕ нашли сопосталвения, мы считаем новыми и присваимаем им флаг=2\n",
    "df_ad_dict['cleaning_flag'] = df_ad_dict['cleaning_flag'].fillna(2)\n",
    "# остальные NaN заполняем пустотой\n",
    "df_ad_dict = df_ad_dict.fillna('')\n",
    "# создаем список полей, которые нужно оставить в этом датаФрейме\n",
    "df_ad_dict_cols = [col[:col.find(' ')] for col in vars_cols_lst]\n",
    "df_ad_dict = df_ad_dict[nat_tv_ad_dict_cols]\n",
    "# нормализуем типы данных\n",
    "df_ad_dict = normalize_columns_types(df_ad_dict, int_lst)"
   ]
  },
  {
   "cell_type": "code",
   "execution_count": null,
   "id": "7eae6c66-35fd-4002-9f40-23e10f500509",
   "metadata": {},
   "outputs": [],
   "source": [
    "df_ad_dict.shape"
   ]
  },
  {
   "cell_type": "code",
   "execution_count": null,
   "id": "55df5764-a4d5-44dc-af3a-a20de3685ed9",
   "metadata": {},
   "outputs": [],
   "source": [
    "# формируем список названий полей, которые нам нужно забрать из БД\n",
    "# из справочника nat_tv_ad_dict\n",
    "nat_tv_ad_dict_short_cols = [col[:col.find(' ')] for col in config_reg_tv.reg_tv_ad_dict_vars_list]\n",
    "nat_tv_ad_dict_short_cols = list(set(nat_tv_ad_dict_short_cols) - set(custom_cols_list)) + ['media_key_id']\n",
    "# приводим список к строке\n",
    "nat_tv_ad_dict_short_cols = ', '.join(nat_tv_ad_dict_short_cols)\n",
    "\n",
    "# отправляем запрос в БД и забираем ВСЕ строки и нужные поля\n",
    "query = f\"select {nat_tv_ad_dict_short_cols}  from {config_reg_tv.reg_tv_ad_dict}\"\n",
    "nat_tv_ad_dict_df = get_mssql_table(db_name, query=query)"
   ]
  },
  {
   "cell_type": "code",
   "execution_count": null,
   "id": "718568e7-a474-4e06-97fc-7e5547af9d98",
   "metadata": {},
   "outputs": [],
   "source": [
    "nat_tv_ad_dict_df.shape "
   ]
  },
  {
   "cell_type": "code",
   "execution_count": null,
   "id": "26435c2b-00c1-4292-9fa2-3b2485490dec",
   "metadata": {},
   "outputs": [],
   "source": [
    "nat_tv_ad_dict_df.head(1)"
   ]
  },
  {
   "cell_type": "code",
   "execution_count": null,
   "id": "92df64d1-2d22-4b0b-a7fd-1c40638e1192",
   "metadata": {},
   "outputs": [],
   "source": [
    "# объединяем справочник из БД с таблицей чистки\n",
    "nat_tv_ad_dict_df = nat_tv_ad_dict_df.merge(df_cleaning_dict, how='left', left_on=['media_key_id'], right_on=['media_key_id'])\n",
    "# ИД объявлений, которые НЕ нашли сопосталвения, мы считаем новыми и присваимаем им флаг=2\n",
    "nat_tv_ad_dict_df['cleaning_flag'] = nat_tv_ad_dict_df['cleaning_flag'].fillna(2)\n",
    "# остальные NaN заполняем пустотой\n",
    "nat_tv_ad_dict_df = nat_tv_ad_dict_df.fillna('')\n",
    "# создаем список полей, которые нужно оставить в этом датаФрейме\n",
    "nat_tv_ad_dict_cols = [col[:col.find(' ')] for col in config_reg_tv.reg_tv_ad_dict_vars_list]\n",
    "nat_tv_ad_dict_df = nat_tv_ad_dict_df[nat_tv_ad_dict_cols]\n",
    "# нормализуем типы данных\n",
    "nat_tv_ad_dict_df = normalize_columns_types(nat_tv_ad_dict_df, config_reg_tv.reg_tv_ad_dict_int_lst)"
   ]
  },
  {
   "cell_type": "code",
   "execution_count": null,
   "id": "89722db5-dd35-4a62-83fc-acd99ec77a43",
   "metadata": {},
   "outputs": [],
   "source": [
    "nat_tv_ad_dict_df.shape"
   ]
  },
  {
   "cell_type": "code",
   "execution_count": null,
   "id": "14dab868-4ca5-4295-8665-dc2f7c032fdf",
   "metadata": {},
   "outputs": [],
   "source": [
    "nat_tv_ad_dict_df.head(1)"
   ]
  },
  {
   "cell_type": "code",
   "execution_count": null,
   "id": "4915e7ab-bc11-447e-ab78-69166299fb0d",
   "metadata": {},
   "outputs": [],
   "source": [
    "nat_tv_ad_dict_df[nat_tv_ad_dict_df['cleaning_flag']==1].shape"
   ]
  },
  {
   "cell_type": "code",
   "execution_count": null,
   "id": "cb80fc53-88ad-4e7d-a569-d2c997e63bac",
   "metadata": {},
   "outputs": [],
   "source": [
    "\"\"\"\n",
    "функция для обонвления основного справочнка объявлений nat_tv_ad_dict\n",
    "ее запускаем в самую после заливки данных из ТВ индекс и обновления всех справочников\n",
    "НО ПЕРЕД заливкой новых объявлений в гугл докс\n",
    "\"\"\"\n",
    "\n",
    "def update_nat_tv_ad_dict(media_type='tv', tv_report='nat'):\n",
    "    # забираем гугл докс с чисткой\n",
    "    df_cleaning_dict = get_cleaning_dict(media_type)\n",
    "   \n",
    "    media_type_short = media_type.upper()\n",
    "    # df_cleaning_dict['media_key_id'] = media_type + '_' + df_cleaning_dict['adId'].astype('str')\n",
    "     # нормализуем типы данных\n",
    "    df_cleaning_dict = normalize_columns_types(df_cleaning_dict, config.custom_ad_dict_int_lst) \n",
    "    \n",
    "    # создаем список из названий полей, которые нам нужны дальше для метчинга\n",
    "    custom_cols_list = [col[:col.find(' ')] for col in config.custom_ad_dict_vars_list]\n",
    "    custom_cols_list = list(set(custom_cols_list) - set(['adId', 'media_type', 'media_type_long']))\n",
    "    # оставляем только нужные поля\n",
    "    df_cleaning_dict = df_cleaning_dict[custom_cols_list]\n",
    "    \n",
    "    if tv_report=='nat':\n",
    "        # забираем список полей, которые созданы в БД в таблице фактов Simple\n",
    "        table_name = config_tv_index.nat_tv_ad_dict\n",
    "        vars_cols_lst = config_tv_index.nat_tv_ad_dict_vars_list\n",
    "        int_lst = config_tv_index.nat_tv_ad_dict_int_lst\n",
    "\n",
    "    if tv_report=='reg':\n",
    "        # забираем список полей, которые созданы в БД в таблице фактов Simple\n",
    "        table_name = config_reg_tv.reg_tv_ad_dict\n",
    "        vars_cols_lst = config_reg_tv.reg_tv_ad_dict_vars_list\n",
    "        int_lst = config_reg_tv.reg_tv_ad_dict_int_lst\n",
    "\n",
    "    # формируем список названий полей, которые нам нужно забрать из БД\n",
    "    # из справочника nat_tv_ad_dict\n",
    "    df_ad_dict_short_cols = [col[:col.find(' ')] for col in vars_cols_lst]\n",
    "    df_ad_dict_short_cols = list(set(df_ad_dict_short_cols) - set(custom_cols_list)) + ['media_key_id']\n",
    "    # приводим список к строке\n",
    "    df_ad_dict_short_cols = ', '.join(df_ad_dict_short_cols)\n",
    "    \n",
    "    # отправляем запрос в БД и забираем ВСЕ строки и нужные поля\n",
    "    query = f\"select {df_ad_dict_short_cols}  from {table_name}\"\n",
    "    df_ad_dict = get_mssql_table(db_name, query=query) \n",
    "\n",
    "    # объединяем справочник из БД с таблицей чистки\n",
    "    df_ad_dict = df_ad_dict.merge(df_cleaning_dict, how='left', left_on=['media_key_id'], right_on=['media_key_id'])\n",
    "    # ИД объявлений, которые НЕ нашли сопосталвения, мы считаем новыми и присваимаем им флаг=2\n",
    "    df_ad_dict['cleaning_flag'] = df_ad_dict['cleaning_flag'].fillna(2)\n",
    "    # остальные NaN заполняем пустотой\n",
    "    df_ad_dict = df_ad_dict.fillna('')\n",
    "    # создаем список полей, которые нужно оставить в этом датаФрейме\n",
    "    df_ad_dict_cols = [col[:col.find(' ')] for col in vars_cols_lst]\n",
    "    df_ad_dict = df_ad_dict[nat_tv_ad_dict_cols]\n",
    "    # нормализуем типы данных\n",
    "    df_ad_dict = normalize_columns_types(df_ad_dict, int_lst)\n",
    "    \n",
    "    # удаляем все данные из справочника nat_tv_ad_dict в БД \n",
    "    createDBTable(db_name, table_name, vars_cols_lst, flag='drop')\n",
    "    \n",
    "    # записываем новые данные в справочник Объявлений\n",
    "    downloadTableToDB(db_name, table_name, df_ad_dict)\n",
    "    # return df_ad_dict"
   ]
  },
  {
   "cell_type": "code",
   "execution_count": null,
   "id": "eb9b91a0-d352-4f01-b4a4-4ac06cdb771b",
   "metadata": {},
   "outputs": [],
   "source": [
    "update_nat_tv_ad_dict(tv_report='reg')"
   ]
  },
  {
   "cell_type": "code",
   "execution_count": null,
   "id": "a6b63bdf-2920-41ae-8fcd-6e9cac9853c6",
   "metadata": {},
   "outputs": [],
   "source": [
    "df.shape"
   ]
  },
  {
   "cell_type": "code",
   "execution_count": null,
   "id": "61983bf0-6d4c-4731-80ba-03eaa157a657",
   "metadata": {},
   "outputs": [],
   "source": [
    "df.head(1)"
   ]
  },
  {
   "cell_type": "code",
   "execution_count": null,
   "id": "ad9bf406-ebb0-493d-a70c-6defe3d80718",
   "metadata": {},
   "outputs": [],
   "source": []
  },
  {
   "cell_type": "code",
   "execution_count": null,
   "id": "ff78faf3-fffd-4a43-aa2c-dd095190867a",
   "metadata": {},
   "outputs": [],
   "source": []
  },
  {
   "cell_type": "code",
   "execution_count": null,
   "id": "e422e562-090e-4df3-ba10-be115d7f5c63",
   "metadata": {},
   "outputs": [],
   "source": []
  },
  {
   "cell_type": "code",
   "execution_count": null,
   "id": "72b49394-aa2a-46aa-8f31-2699818a1d78",
   "metadata": {},
   "outputs": [],
   "source": []
  },
  {
   "cell_type": "code",
   "execution_count": null,
   "id": "5726610b-5bf5-4150-9734-087be84309fb",
   "metadata": {},
   "outputs": [],
   "source": []
  },
  {
   "cell_type": "code",
   "execution_count": null,
   "id": "b03a39ce-1a6f-4f3c-8942-eb3f6974dba0",
   "metadata": {},
   "outputs": [],
   "source": []
  },
  {
   "cell_type": "code",
   "execution_count": null,
   "id": "5f1e7387-9ed6-43f5-941f-eebe4c180284",
   "metadata": {},
   "outputs": [],
   "source": [
    "# создаем функцию, которая вернет номер месяца от начальной даты отсчета\n",
    "def get_mon_num_from_date(curr_date):\n",
    "    curr_date = datetime.strptime(str(curr_date), '%Y-%m-%d')\n",
    "    # с помощью метода relativedelta получаем кол-во лет и месяцев от даты начала до текущей даты\n",
    "    relative_date = relativedelta(curr_date, config_media_costs.start_of_the_time)\n",
    "    # теперь нужно получить номер текущего месяца от даты начала\n",
    "    months_count = relative_date.years * 12 + relative_date.months\n",
    "    \n",
    "    return months_count"
   ]
  },
  {
   "cell_type": "code",
   "execution_count": null,
   "id": "adec568f-492e-4ee2-a40f-0781097cad29",
   "metadata": {},
   "outputs": [],
   "source": [
    "start_date = '2020-01-01'\n",
    "mon_num = get_mon_num_from_date(start_date)\n",
    "print(mon_num)"
   ]
  },
  {
   "cell_type": "code",
   "execution_count": null,
   "id": "cd7a85cd-a494-4a74-b209-d028fb040725",
   "metadata": {},
   "outputs": [],
   "source": [
    "# создаем фильтр, который будем применять во воложенном запросе для фильтрации ВСЕХ ТАБЛИЦ по ВСЕМ ИСТОЧНИКАМ\n",
    "# этот фильтр используем в ТВ, Радио, ООН, Пресса\n",
    "# Префикс для фильтруемой таблицы задан с запасом = t10\n",
    "main_filter_str = f't10.sid2 in (2272,2277)'"
   ]
  },
  {
   "cell_type": "code",
   "execution_count": null,
   "id": "7b2e1033-21b0-40cb-8f93-4aa383c7ed00",
   "metadata": {},
   "outputs": [],
   "source": [
    "first_row_query_dict = {\n",
    "    'tv': 't1.vid, t1.cid, t1.distr, t1.mon, t1.from_mon, t1.estat, t1.cnd_cost_rub,  t1.vol, t1.cnt'\n",
    "}"
   ]
  },
  {
   "cell_type": "code",
   "execution_count": null,
   "id": "41f1509c-3e0b-4f01-9ebb-8d4fdf1c2b9b",
   "metadata": {},
   "outputs": [],
   "source": [
    "media_type = 'tv'\n",
    "query = f\"\"\"select \n",
    "distinct t3.sbid\n",
    "from {media_type}_Ad_month t1 left join {media_type}_Appendix t10 \n",
    "on t1.vid=t10.vid\n",
    "left join tv_Appendix t3\n",
    "on t1.vid=t3.vid\n",
    "where t1.mon>={str(mon_num)}  and \n",
    "({main_filter_str})\"\"\"\n",
    "# отправляем запрос в БД Медиа инвестиции\n",
    "\n",
    "df = get_mssql_table(config.investments_db_name, query=query, conn_lst=config.conn_lst)"
   ]
  },
  {
   "cell_type": "code",
   "execution_count": null,
   "id": "dc01cc10-0164-4c36-a5f4-de8976901039",
   "metadata": {},
   "outputs": [],
   "source": [
    "df.shape"
   ]
  },
  {
   "cell_type": "code",
   "execution_count": null,
   "id": "2462af38-0435-4829-855a-bfb25478bfb7",
   "metadata": {},
   "outputs": [],
   "source": [
    "file_path = r'C:\\Users\\o.bogomolov\\Downloads\\Telegram'\n",
    "file_name = 'subbrand_id.xlsx'\n",
    "df.to_excel(os.path.join(file_path, file_name))"
   ]
  },
  {
   "cell_type": "code",
   "execution_count": null,
   "id": "66541a6e-0f3b-4d98-b973-07ff87570e18",
   "metadata": {},
   "outputs": [],
   "source": [
    "import os\n",
    "import pandas as pd\n",
    "\n",
    "file_path = r'C:\\Users\\o.bogomolov\\Downloads\\Telegram'\n",
    "file_name = 'simple_02_01_2023.xlsx'\n",
    "df.to_excel(os.path.join(file_path, file_name))"
   ]
  },
  {
   "cell_type": "code",
   "execution_count": null,
   "id": "b07e09ed-a987-41b5-a670-89f37290d23e",
   "metadata": {},
   "outputs": [],
   "source": []
  },
  {
   "cell_type": "code",
   "execution_count": null,
   "id": "71b2e9b1-7ac3-4cbc-90ab-2ea3db5ddf87",
   "metadata": {},
   "outputs": [],
   "source": []
  },
  {
   "cell_type": "code",
   "execution_count": null,
   "id": "44459b43-4e7c-4a40-80b4-a2fcc7a782c6",
   "metadata": {},
   "outputs": [],
   "source": [
    "# добавляем библиотеки для работы с ТВ индексом\n",
    "\n",
    "%reload_ext autoreload\n",
    "%autoreload 2\n",
    "\n",
    "import sys\n",
    "import os\n",
    "import re\n",
    "import json\n",
    "import time\n",
    "import pandas as pd\n",
    "import numpy as np\n",
    "from IPython.display import JSON\n",
    "\n",
    "from mediascope_api.core import net as mscore\n",
    "from mediascope_api.mediavortex import tasks as cwt\n",
    "from mediascope_api.mediavortex import catalogs as cwc\n",
    "\n",
    "# Включаем отображение всех колонок\n",
    "pd.set_option('display.max_columns', None)\n",
    "\n",
    "# Cоздаем объекты для работы с TVI API\n",
    "mnet = mscore.MediascopeApiNetwork()\n",
    "mtask = cwt.MediaVortexTask()\n",
    "cats = cwc.MediaVortexCats()"
   ]
  },
  {
   "cell_type": "code",
   "execution_count": null,
   "id": "ca903cb1-e3ae-4a73-b527-1bb0fc4c158e",
   "metadata": {},
   "outputs": [],
   "source": [
    "# Статистики для отчета Buying\n",
    "nat_tv_bying_statistics = ['SalesRtgPer', 'StandSalesRtgPer', 'ConsolidatedCostRUB', 'Quantity']"
   ]
  },
  {
   "cell_type": "code",
   "execution_count": null,
   "id": "99499599-36e3-460d-a206-5050334ad795",
   "metadata": {},
   "outputs": [],
   "source": [
    "nat_tv_buying_slices = [\n",
    "    \n",
    "    #'articleLevel3Id', 'articleLevel4Id',\n",
    "    'advertiserListId', #Список рекламодателей id\n",
    "    'advertiserListName', \n",
    "    'brandListId', #Список брендов id\n",
    "    'brandListName', \n",
    "    # 'brandId', #Список брендов id\n",
    "    # 'brandName',\n",
    "    'subbrandListId', #Список суббрендов id\n",
    "    'subbrandListName', \n",
    "    # 'subbrandId', #Список суббрендов id\n",
    "    # 'subbrandName',\n",
    "    'modelListId', #Список продуктов id\n",
    "    # 'modelListName',\n",
    "    'articleList2Id', #Список товарных категорий 2 id\n",
    "    'articleList2Name',\n",
    "    # 'articleLevel2Id',\n",
    "    # 'articleLevel2Name',\n",
    "    'articleList3Id', #Список товарных категорий 3 id\n",
    "    'articleList3Name',\n",
    "    # 'articleList4Id', #Список товарных категорий 4 id\n",
    "    # 'articleList4Name', \n",
    "    'adId',\n",
    "    'adName',\n",
    "    # 'adNotes',\n",
    "    # 'adFirstIssueDate',\n",
    "    # 'adSloganAudioId', #Ролик аудио слоган id\n",
    "    # # 'adSloganAudioName',\n",
    "    # 'adSloganVideoId', #Ролик видео слоган id\n",
    "    # 'adSloganVideoName',\n",
    "    'researchDate',\n",
    "    # 'regionId', # ИД Региона или Сетевое вещание\n",
    "    # # 'regionName',\n",
    "    # 'adDistributionTypeName',\n",
    "    # # 'tvNetId', # id телесети\n",
    "    # # 'tvNetName',\n",
    "    'tvCompanyId',\n",
    "    # # 'tvCompanyName',\n",
    "    # 'adTypeId', #Ролик тип ID \n",
    "    # # 'adTypeName',\n",
    "    # 'adStandardDuration', \n",
    "    # # 'adPositionType', #Ролик позиционирование id \n",
    "    # 'adPositionTypeName',\n",
    "    # # 'adPrimeTimeStatusId', #Прайм/ОфПрайм роликов id\n",
    "    # 'adPrimeTimeStatusName',\n",
    "    # 'adStartTime',\n",
    "    'adSpotId'\n",
    "         ]"
   ]
  },
  {
   "cell_type": "code",
   "execution_count": null,
   "id": "a3a0ae9b-e2a4-4462-be21-1adc738dc98c",
   "metadata": {},
   "outputs": [],
   "source": [
    "ad_filter = 'adId in (4732136)' #config.nat_tv_ad_filter + ' and adId in (4721298)' # ad_filter\n",
    "print(ad_filter) "
   ]
  },
  {
   "cell_type": "code",
   "execution_count": null,
   "id": "c0b4b72f-d64f-4d97-af4d-0d3c7ca9397d",
   "metadata": {},
   "outputs": [],
   "source": [
    "from config_search_funcs import get_subbrand_id_str\n",
    "subbrand_id_str = get_subbrand_id_str(mon_num='360', media_type='tv')\n",
    "ad_filter = f'{base_filter} AND subbrandId IN ({subbrand_id_str})'\n",
    "print(ad_filter)"
   ]
  },
  {
   "cell_type": "code",
   "execution_count": null,
   "id": "c5296064-4c53-4a57-a27b-c2761040dd5f",
   "metadata": {},
   "outputs": [],
   "source": [
    "import config_tv_index\n",
    "# список срезов, по которым будет разбивка отчета\n",
    "slices = nat_tv_buying_slices#config.nat_tv_buying_slices\n",
    "# список метрик для отчета Simple\n",
    "statistics = nat_tv_bying_statistics\n",
    "# Здесь указаны логические условия ad_filter \n",
    "# Они применяются для получения статистики в отчетах Simple и Buying# условия фильтрации для запроса \n",
    "ad_filter = ad_filter  #config.nat_tv_ad_filter\n",
    "# Опции для расчета - вся рф и тд.\n",
    "options = config_tv_index.nat_tv_options"
   ]
  },
  {
   "cell_type": "code",
   "execution_count": null,
   "id": "27adc361-5e07-4c64-8c95-4af909c3b806",
   "metadata": {},
   "outputs": [],
   "source": [
    "weekday_filter = None\n",
    "# Задаем тип дня\n",
    "daytype_filter = None\n",
    "# Задаем временной интервал\n",
    "time_filter = None\n",
    "# Задаем ЦА\n",
    "basedemo_filter = None\n",
    "# Доп фильтр ЦА, нужен только в случае расчета отношения между ЦА, например, при расчете Affinity Index\n",
    "targetdemo_filter = None\n",
    "# Задаем место просмотра\n",
    "location_filter=None\n",
    "# Задаем каналы\n",
    "company_filter = None\n",
    "# Указываем фильтр программ: продолжительность от 5 минут (300 секунд) \n",
    "program_filter = None\n",
    "# Фильтр блоков\n",
    "break_filter = None\n",
    "sortings = None"
   ]
  },
  {
   "cell_type": "code",
   "execution_count": null,
   "id": "0c2aeaba-069b-4417-a881-9786475eca45",
   "metadata": {},
   "outputs": [],
   "source": [
    "start_date = '2025-01-01'\n",
    "start_date = datetime.strptime(start_date, '%Y-%m-%d').date()\n",
    "\n",
    "end_date = '2025-01-31'\n",
    "end_date = datetime.strptime(end_date, '%Y-%m-%d').date()\n",
    "\n",
    "print(f'start_date: {start_date} / end_date: {end_date}')"
   ]
  },
  {
   "cell_type": "code",
   "execution_count": null,
   "id": "32f6e77c-d04f-4229-ae5c-98ed855e2a2d",
   "metadata": {},
   "outputs": [],
   "source": [
    " date_filter = [(str(start_date), str(end_date))]"
   ]
  },
  {
   "cell_type": "code",
   "execution_count": null,
   "id": "093eae71-fb57-4645-a26f-51c1b4d390e9",
   "metadata": {},
   "outputs": [],
   "source": [
    "# Посчитаем задания в цикле\n",
    "tasks = []\n",
    "# Формируем задание для API TV Index в формате JSON\n",
    "task_json = mtask.build_simple_task(date_filter=date_filter, weekday_filter=weekday_filter, \n",
    "                                    daytype_filter=daytype_filter, company_filter=company_filter, \n",
    "                                    location_filter=location_filter, basedemo_filter=basedemo_filter, \n",
    "                                    targetdemo_filter=targetdemo_filter,program_filter=program_filter, \n",
    "                                    break_filter=break_filter, ad_filter=ad_filter, \n",
    "                                    slices=slices, statistics=statistics, sortings=sortings, options=options)\n",
    "\n",
    "\n",
    "# Отправляем задание на расчет и ждем выполнения\n",
    "task_timeband = mtask.wait_task(mtask.send_simple_task(task_json))\n",
    "# Получаем результат\n",
    "df = mtask.result2table(mtask.get_result(task_timeband))"
   ]
  },
  {
   "cell_type": "code",
   "execution_count": null,
   "id": "9948d475-8580-4ff4-aa4a-a13f177b0818",
   "metadata": {},
   "outputs": [],
   "source": [
    "df.shape"
   ]
  },
  {
   "cell_type": "code",
   "execution_count": null,
   "id": "6332044d-40c7-411f-a374-2fa6992f84c8",
   "metadata": {},
   "outputs": [],
   "source": [
    "df.head(1)"
   ]
  },
  {
   "cell_type": "code",
   "execution_count": null,
   "id": "e1155e96-336e-4b23-a1dc-8c9afb5236a8",
   "metadata": {},
   "outputs": [],
   "source": [
    "df[['subbrandId']].drop_duplicates()"
   ]
  },
  {
   "cell_type": "code",
   "execution_count": null,
   "id": "72731b8e-2ee9-4880-8e58-b9d0c5b4b7c2",
   "metadata": {},
   "outputs": [],
   "source": [
    "df['ConsolidatedCostRUB'].sum()"
   ]
  },
  {
   "cell_type": "code",
   "execution_count": null,
   "id": "f0c90693-73fe-4364-95f1-693142cb74f8",
   "metadata": {},
   "outputs": [],
   "source": [
    "import os\n",
    "import pandas as pd\n",
    "\n",
    "file_path = r'C:\\Users\\o.bogomolov\\Downloads\\Telegram'\n",
    "file_name = 'buying_id_4732136.xlsx'\n",
    "df.to_excel(os.path.join(file_path, file_name))"
   ]
  },
  {
   "cell_type": "code",
   "execution_count": null,
   "id": "824a27fe-607e-4e36-8a35-e1b2adc4ce19",
   "metadata": {},
   "outputs": [],
   "source": [
    "import datetime\n",
    "\n",
    "launch_date = datetime.date(day=10, month=2, year=2022)\n",
    "print(launch_date)"
   ]
  },
  {
   "cell_type": "code",
   "execution_count": null,
   "id": "e29820e2-e578-4d7c-803d-68cb999d2879",
   "metadata": {},
   "outputs": [],
   "source": [
    "some_future = launch_date + datetime.timedelta(days=42)\n",
    "print(some_future)"
   ]
  }
 ],
 "metadata": {
  "kernelspec": {
   "display_name": "Python 3 (ipykernel)",
   "language": "python",
   "name": "python3"
  },
  "language_info": {
   "codemirror_mode": {
    "name": "ipython",
    "version": 3
   },
   "file_extension": ".py",
   "mimetype": "text/x-python",
   "name": "python",
   "nbconvert_exporter": "python",
   "pygments_lexer": "ipython3",
   "version": "3.11.7"
  }
 },
 "nbformat": 4,
 "nbformat_minor": 5
}
