{
 "cells": [
  {
   "cell_type": "code",
   "execution_count": 1,
   "id": "fdc8e8b4-f23f-406a-b12e-6a39c53e30c0",
   "metadata": {},
   "outputs": [],
   "source": [
    "import os\n",
    "from datetime import datetime\n",
    "\n",
    "\n",
    "\n",
    "# моя БД, в которую сохраняем кастомные распарсенные данные\n",
    "host_mssql = 'REGRU-54856\\MSSQLSERVER01'\n",
    "port_mssql = '1433'\n",
    "\n",
    "# название БД  MSSQL\n",
    "db_name = 'test_test_Alfa' #'test_media_costs' #'mediascope_dbbs_alfa'\n",
    "\n",
    "# указываем параметры подключения к БД Медиаскоп - МедиаИнвестиции \n",
    "host_investments = 'ttk.igronik.ru'\n",
    "investments_db_name = 'Media'\n",
    "\n",
    "# гугл почта, на которой хранится файл с чисткой\n",
    "gmail = 'analytics.igronik@gmail.com'\n",
    "\n",
    "# указываем путь к основной папке с доступами\n",
    "cred_path = r'C:\\Users\\o.bogomolov\\Desktop\\Jupyter_notebook\\43_Проекты_Рейтинги_и_расходы\\03_version_3_X5\\cred'\n",
    "# токен гугл\n",
    "credentials_file = 'premium-ember-449909-c3-c3a505f0a5e7.json'\n",
    "service = os.path.join(cred_path, credentials_file)\n",
    "\n",
    "# КОПИЯ ссылка на словарь чистки в формате CSV\n",
    "full_cleaning_link = 'https://docs.google.com/spreadsheets/d/e/2PACX-1vQMVI6YUlU7cnfSrR2SuGoCNnN69rlFU6R9tMzxbWCPcdy883QeHZizD39bUEzx2sEBD_IqG6g5hZ95/pub?gid=1236648386&single=true&output=csv'\n",
    "# # КОПИЯ вот этот гугл докс \n",
    "google_docs_link = 'https://docs.google.com/spreadsheets/d/1tvJQmXs4KvIzLcw1eNyo4FnKJkIbXXV3ub2OYQrs1aU/edit?usp=sharing'\n",
    "\n",
    "\n",
    "# CSV ссылки на гугл докс, в котором определяем правила для ТВ нат / ТВ рег / ТВ Споносор и тд\n",
    "# словарь для применения этих правил создаем непосредственно в файлах config_media_costs\n",
    "# ссылка на сам гугл докс https://docs.google.com/spreadsheets/d/1HbXGzGvuxXerDULNctOsonlbosz9NNYHA8LJz0jHyyk/edit?usp=sharing\n",
    "# segments_main_link = ''\n",
    "# tv_net_group_link = ''\n",
    "media_type_detail_tv_link = 'https://docs.google.com/spreadsheets/d/e/2PACX-1vT6YTiFUEQ3AVY3nA5sFfxpTTV5oLab4edzOkQwCN2lR2YWjD6eiA5BTpr_81OLp9dPigHEtTrOVsLm/pub?gid=536314515&single=true&output=csv'\n",
    "media_type_detail_outdoor_link = 'https://docs.google.com/spreadsheets/d/e/2PACX-1vT6YTiFUEQ3AVY3nA5sFfxpTTV5oLab4edzOkQwCN2lR2YWjD6eiA5BTpr_81OLp9dPigHEtTrOVsLm/pub?gid=0&single=true&output=csv'\n",
    "\n",
    "\n",
    "\n",
    "# название листа, на котрый выгружаем новые объявления\n",
    "new_ads_nat_tv_sheet = 'new_ads_tv_index'\n",
    "new_ads_media_invest_sheet = 'new_ads_media_invest'\n",
    "# ссылка в формате CSV на общую таблицу дисконтов по всем типам медиа - одна для всех проектов\n",
    "discounts_link = 'https://docs.google.com/spreadsheets/d/e/2PACX-1vTeV7y_TRGzF1gZvlyz43hhtYq_v_-9URsPVT-TdoGLebYZcLHgH83EAzqCAj1OhN9wHfFLMu3_DSzz/pub?gid=0&single=true&output=csv'"
   ]
  },
  {
   "cell_type": "code",
   "execution_count": 2,
   "id": "e3a6feea-28e3-4cc4-8155-db9f0db99e45",
   "metadata": {},
   "outputs": [],
   "source": [
    "\"\"\"\n",
    "создаем функцию, чтобы забрать данные для подключения из текстового файла\n",
    "\"\"\"\n",
    "\n",
    "def get_cred_dict(file_path, file_name):\n",
    "    dict = {}\n",
    "    creds = open(os.path.join(file_path, file_name), encoding='utf-8').read()\n",
    "    for text in creds.split('\\n'):\n",
    "        content = text.split(': ')\n",
    "        dict[content[0]] = content[1]\n",
    "\n",
    "    return dict"
   ]
  },
  {
   "cell_type": "code",
   "execution_count": 3,
   "id": "2560d166-f28f-485e-8f20-47a277884b9f",
   "metadata": {},
   "outputs": [],
   "source": [
    "db_mssql_file = 'db_mssql_creds.txt'\n",
    "db_mssql_dict = get_cred_dict(cred_path, db_mssql_file)\n",
    "\n",
    "db_mssql_login = db_mssql_dict['login']\n",
    "db_mssql_pass = db_mssql_dict['pass']"
   ]
  },
  {
   "cell_type": "code",
   "execution_count": 4,
   "id": "b69ea5c2-1422-4abe-844a-a787d8e69d06",
   "metadata": {},
   "outputs": [],
   "source": [
    "db_investments_file = 'db_invetments_creds.txt'\n",
    "db_investments_dict = get_cred_dict(cred_path, db_investments_file)\n",
    "\n",
    "db_investments_login = db_investments_dict['login']\n",
    "db_investments_pass = db_investments_dict['pass']\n",
    "\n",
    "conn_lst = [host_investments, port_mssql, db_investments_login, db_investments_pass]"
   ]
  },
  {
   "cell_type": "code",
   "execution_count": 5,
   "id": "7a8cc490-7259-40a2-8036-14df6ae59a55",
   "metadata": {},
   "outputs": [],
   "source": [
    "\"\"\"\n",
    "Функция для того, чтобы объеденить все элементы списка в одну строку\n",
    "это нужно для условий фильтрации в условиях запроса TV_index\n",
    "\"\"\"\n",
    "\n",
    "def get_lst_to_str(lst):\n",
    "    return ', '.join(str(elem) for elem in lst)"
   ]
  },
  {
   "cell_type": "code",
   "execution_count": 6,
   "id": "ab045570-fe53-4e9c-b72f-db34215559e0",
   "metadata": {},
   "outputs": [],
   "source": [
    "\"\"\"\n",
    "Здесь передаем список ИД для фильтрации по ad_filter \n",
    "Услоия этого фильтра представлены в строке ниже\n",
    "\"\"\"\n",
    "\n",
    "article_lev_2_id_lst = [2277, 2272, 3972, -11, -126]\n",
    "article_lev_2_id_str = get_lst_to_str(article_lev_2_id_lst)"
   ]
  },
  {
   "cell_type": "code",
   "execution_count": null,
   "id": "a4fc0bdd-1b9e-43b5-b5e8-ad004ae0c3d1",
   "metadata": {},
   "outputs": [],
   "source": []
  },
  {
   "cell_type": "code",
   "execution_count": 7,
   "id": "2bfe4e55-59f4-4e90-aada-9005253ff1e0",
   "metadata": {},
   "outputs": [],
   "source": [
    "\"\"\"\n",
    "Медиа для загрузки - ТОЛЬКО медиа для получения статистики\n",
    "Словарь типов медиа, которые используем для загрузки статистики из Медиаскоп Инвестиции\n",
    "здесь указываем только те медиа, по которым НУЖНА статистика\n",
    "ключ - это короткое название медиа в БД медиаскоп (оно подставляется в таблицы справочники и факты)\n",
    "значение - это длинное название медиа - оно используется в нашей БД mssql \n",
    "- подставляется в название справочников и фактов\n",
    "- используется для связи с таблицей Дисконтов и Чистки\n",
    "# {'tv': 'tv', 'ra': 'radio', 'od': 'outdoor', 'pr': 'press'}\n",
    "\"\"\"\n",
    "\n",
    "media_type_dict = {'tv': 'tv', 'ra': 'radio', 'od': 'outdoor', 'pr': 'press'}"
   ]
  },
  {
   "cell_type": "code",
   "execution_count": 8,
   "id": "ec5b207e-4c43-4b0c-bcbf-9b9d5cb8f2f3",
   "metadata": {},
   "outputs": [],
   "source": [
    "\"\"\"\n",
    "Словарь типов ВСЕХ медиа из Медиаскоп Инвестиции\n",
    "здесь указываем все медиа для создания пустых таблиц в БД при создании нового проекта\n",
    "ключ - это короткое название медиа в БД медиаскоп (оно подставляется в таблицы справочники и факты)\n",
    "значение - это длинное название медиа - оно используется в нашей БД mssql \n",
    "- подставляется в название справочников и фактов\n",
    "- используется для связи с таблицей Дисконтов и Чистки\n",
    "\n",
    "\"\"\"\n",
    "\n",
    "media_type_full_dict = {'tv': 'tv', 'ra': 'radio', 'pr': 'press', 'od': 'outdoor'}"
   ]
  },
  {
   "cell_type": "code",
   "execution_count": 9,
   "id": "172a1d72-01c8-43c3-a7d9-766ff1149088",
   "metadata": {},
   "outputs": [],
   "source": [
    "\"\"\"\n",
    "Здесь прописываем логические условия ad_filter \n",
    "Они применяются для получения статистики в отчетах Simple и Buying\n",
    "\"\"\"\n",
    "\n",
    "nat_tv_ad_filter = f'articleLevel2Id IN ({article_lev_2_id_str}) and adIssueStatusId = R and adDistributionType IN (N,O)'"
   ]
  },
  {
   "cell_type": "code",
   "execution_count": 10,
   "id": "aad82b40-1d90-4067-81fb-885776691ec1",
   "metadata": {},
   "outputs": [],
   "source": [
    "\"\"\"\n",
    "создаем фильтр, который будем применять во воложенном запросе для фильтрации ВСЕХ ТАБЛИЦ по ВСЕМ ИСТОЧНИКАМ\n",
    "этот фильтр используем в ТВ, Радио, ООН, Пресса\n",
    "Префикс для фильтруемой таблицы задан с запасом = t10\n",
    "\"\"\"\n",
    "\n",
    "main_filter_str = f't10.sid2 in ({article_lev_2_id_str})'"
   ]
  },
  {
   "cell_type": "code",
   "execution_count": 11,
   "id": "4197a300-7cac-4ae7-b9d3-825d9ec9b96b",
   "metadata": {},
   "outputs": [],
   "source": [
    "# этот список используем, чтобы добавить единые кастомные ключи, котороые можно будет использовать для всех типов медиа\n",
    "# Наример tv_123\n",
    "\n",
    "custom_cols_dict = {'cid': 'cid_custom', 'netId': 'nid_custom', 'adTypeId': 'ad_type_custom', 'tvCompanyId': 'cid_custom'}   "
   ]
  },
  {
   "cell_type": "code",
   "execution_count": 12,
   "id": "f84ae838-fd4c-473a-8380-87fb9d5e10b2",
   "metadata": {},
   "outputs": [],
   "source": [
    "\"\"\"\n",
    "Справочник Объявлений с собственными названиями\n",
    "сотрудники ведут гугл докс с чисткой\n",
    "в этом же файле добавили новые поля с собственными группировками\n",
    "загружаем эту кастомную таблицу в БД, чтобы потом использовать в дашборде\n",
    "\"\"\"\n",
    "\n",
    "custom_ad_dict = 'custom_ad_dict'\n",
    "\n",
    "custom_ad_dict_vars_list = [\n",
    "            'media_key_id nvarchar(40)',\n",
    "            'media_type nvarchar(10)',\n",
    "    # 'media_type_long nvarchar(40)',\n",
    "     # 'media_type_detail nvarchar(20)',\n",
    "            # 'adId int',\n",
    "    #         'advertiserListName nvarchar(150)',\n",
    "    #         'brandListName nvarchar(300)',\n",
    "    #         'subbrandListName nvarchar(300)',\n",
    "    #         'modelListName nvarchar(500)',\n",
    "    #         'articleList2Name nvarchar(300)',\n",
    "    #         'articleList3Name nvarchar(400)',\n",
    "    #         'articleList4Name nvarchar(500)',\n",
    "    #         'adName nvarchar(200)',\n",
    "    #         'ad_description nvarchar(500)',\n",
    "    # 'audioSloganName nvarchar(100)',\n",
    "    # 'videoSloganName nvarchar(100)',\n",
    "    #         'adFirstIssueDate nvarchar(10)',\n",
    "    'tv_type_ooh_reg nvarchar(150)',\n",
    "    'ad_transcribtion nvarchar(500)',\n",
    "            'advertiser_type nvarchar(20)',\n",
    "            'advertiser_main nvarchar(100)',\n",
    "            'brand_main nvarchar(150)',\n",
    "            'include_exclude nvarchar(15)',\n",
    "            'cleaning_flag tinyint',\n",
    "    'category_1 nvarchar(100)',\n",
    "    'category_2 nvarchar(100)',\n",
    "    'category_4 nvarchar(100)',\n",
    "    'category_5 nvarchar(100)',\n",
    "    'category_6 nvarchar(100)',\n",
    "    'category_7 nvarchar(100)',\n",
    "    'category_8 nvarchar(100)',\n",
    "    'category_9 nvarchar(100)',\n",
    "    'category_10 nvarchar(100)',\n",
    "    'category_11 nvarchar(100)',\n",
    "    'category_12 nvarchar(100)',\n",
    "    'category_13 nvarchar(100)',\n",
    "    'category_14 nvarchar(100)',\n",
    "    'category_15 nvarchar(100)',\n",
    "    'category_16 nvarchar(100)',\n",
    "    'category_17 nvarchar(100)',\n",
    "    'category_18 nvarchar(100)',\n",
    "    'category_19 nvarchar(100)',\n",
    "    'category_20 nvarchar(100)',\n",
    "    'category_21 nvarchar(100)',\n",
    "    'category_22 nvarchar(100)',\n",
    "    'category_23 nvarchar(100)',\n",
    "    'category_24 nvarchar(100)',\n",
    "    'category_25 nvarchar(100)',\n",
    "]\n",
    "\n",
    "custom_ad_dict_int_lst = ['cleaning_flag']"
   ]
  },
  {
   "cell_type": "code",
   "execution_count": null,
   "id": "c9ee755e-ba46-42c6-b173-62f193316496",
   "metadata": {},
   "outputs": [],
   "source": []
  },
  {
   "cell_type": "code",
   "execution_count": null,
   "id": "aeed4606-3dc9-462b-a9a3-3095488414ce",
   "metadata": {},
   "outputs": [],
   "source": []
  },
  {
   "cell_type": "code",
   "execution_count": null,
   "id": "ae9e77b6-3dc6-4557-b9d4-5083450e6af8",
   "metadata": {},
   "outputs": [],
   "source": []
  },
  {
   "cell_type": "code",
   "execution_count": null,
   "id": "d433380a-e22c-482d-9848-961f48301ae7",
   "metadata": {},
   "outputs": [],
   "source": []
  },
  {
   "cell_type": "code",
   "execution_count": null,
   "id": "1d56329f-be5d-492f-9d3b-0b3520bd8857",
   "metadata": {},
   "outputs": [],
   "source": []
  }
 ],
 "metadata": {
  "kernelspec": {
   "display_name": "Python 3 (ipykernel)",
   "language": "python",
   "name": "python3"
  },
  "language_info": {
   "codemirror_mode": {
    "name": "ipython",
    "version": 3
   },
   "file_extension": ".py",
   "mimetype": "text/x-python",
   "name": "python",
   "nbconvert_exporter": "python",
   "pygments_lexer": "ipython3",
   "version": "3.11.7"
  }
 },
 "nbformat": 4,
 "nbformat_minor": 5
}
