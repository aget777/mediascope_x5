{
 "cells": [
  {
   "cell_type": "code",
   "execution_count": 1,
   "id": "be7ff7fa-59e6-4c80-ad6a-c59f24b82a0b",
   "metadata": {},
   "outputs": [],
   "source": [
    "import pandas as pd\n",
    "import numpy as np\n",
    "\n",
    "\n",
    "import config\n",
    "import config_tv_index"
   ]
  },
  {
   "cell_type": "code",
   "execution_count": 2,
   "id": "54ea3a0a-c77f-4736-acab-b0a23b354d7c",
   "metadata": {},
   "outputs": [],
   "source": [
    "\"\"\"\n",
    "Словарь регионов для загрузки статистики по городам РФ\n",
    "Взяли из справки ТВ Индекс\n",
    "https://github.com/MEDIASCOPE-JSC/mediascope-jupyter/blob/main/tv_index/simple_breaks_cities_01_all_breaks_one_day_one_channel.ipynb\n",
    "\"\"\"\n",
    "regions_dict = {\n",
    "    40: 'БАРНАУЛ',\n",
    "    18: 'ВЛАДИВОСТОК',\n",
    "    5: 'ВОЛГОГРАД',\n",
    "    8: 'ВОРОНЕЖ',\n",
    "    12: 'ЕКАТЕРИНБУРГ',\n",
    "    25: 'ИРКУТСК',\n",
    "    19: 'КАЗАНЬ',\n",
    "    45: 'КЕМЕРОВО',\n",
    "    23: 'КРАСНОДАР',\n",
    "    17: 'КРАСНОЯРСК',\n",
    "    1: 'МОСКВА',\n",
    "    4: 'НИЖНИЙ НОВГОРОД',\n",
    "    15: 'НОВОСИБИРСК',\n",
    "    21: 'ОМСК',\n",
    "    14: 'ПЕРМЬ',\n",
    "    9: 'РОСТОВ-НА-ДОНУ',\n",
    "    6: 'САМАРА',\n",
    "    2: 'САНКТ-ПЕТЕРБУРГ',\n",
    "    10: 'САРАТОВ',\n",
    "    39: 'СТАВРОПОЛЬ',\n",
    "    3: 'ТВЕРЬ',\n",
    "    55: 'ТОМСК',\n",
    "    16: 'ТЮМЕНЬ',\n",
    "    20: 'УФА',\n",
    "    26: 'ХАБАРОВСК',\n",
    "    13: 'ЧЕЛЯБИНСК',\n",
    "    7: 'ЯРОСЛАВЛЬ'\n",
    "}"
   ]
  },
  {
   "cell_type": "code",
   "execution_count": null,
   "id": "7a016316-c45a-4337-bd88-fb3ec9df2493",
   "metadata": {},
   "outputs": [],
   "source": []
  },
  {
   "cell_type": "code",
   "execution_count": 3,
   "id": "8c88c05a-8ec3-4e07-9ea6-655b015f87ef",
   "metadata": {},
   "outputs": [],
   "source": [
    "\"\"\"\n",
    "Здесь прописываем логические условия ad_filter \n",
    "Они применяются для получения статистики в отчетах Simple и Buying\n",
    "\"\"\"\n",
    "\n",
    "reg_tv_ad_filter = config.nat_tv_ad_filter"
   ]
  },
  {
   "cell_type": "code",
   "execution_count": 4,
   "id": "b3b58a85-a33d-4176-8bdc-283065bbc790",
   "metadata": {},
   "outputs": [],
   "source": [
    "\"\"\"\n",
    "Указываем список статистик для расчета\n",
    "\"\"\"\n",
    "\n",
    "# Статистики для отчета Simple\n",
    "reg_tv_simple_statistics = config_tv_index.nat_tv_simple_statistics \n",
    "\n",
    "# Статистики для отчета Buying\n",
    "reg_tv_bying_statistics = config_tv_index.nat_tv_bying_statistics"
   ]
  },
  {
   "cell_type": "code",
   "execution_count": 5,
   "id": "7b2ee29d-d2cc-4989-bc0b-5b2319bca299",
   "metadata": {},
   "outputs": [],
   "source": [
    "\"\"\"\n",
    "Срезы для отчета Simple и Buying по сути одинаковые\n",
    "Поэтому задаем их только 1 раз здесь\n",
    "ЗДЕСЬ НИЧЕГО НЕ МЕНЯЕМ \n",
    "эти срезы зашиты в таблицы БД, если их изменить\n",
    "Создаем список срезов по Nat_tv\n",
    "Указываем список срезов - в задаче не может быть больше 25 срезов\n",
    "\"\"\"\n",
    "\n",
    "reg_tv_slices = config_tv_index.nat_tv_slices\n",
    "reg_tv_buying_slices = config_tv_index.nat_tv_slices"
   ]
  },
  {
   "cell_type": "code",
   "execution_count": 6,
   "id": "00839763-c469-4c45-9ea1-f68d124c9e49",
   "metadata": {},
   "outputs": [],
   "source": [
    "\"\"\"\n",
    "Задаем опции расчета\n",
    "kitId - набора данных (1-Russia all, 2-Russia 100+, 3-Cities, # 4-TVI+ Russia all, 5-TVI+ Russia 100+, 6-Moscow)\n",
    "Перебираем правила из ТВ Индекс и меняем значение для kitId  - ставим 3\n",
    "\"\"\"\n",
    "\n",
    "reg_tv_options = {key: (3 if key=='kitId' else value) for key, value in config_tv_index.nat_tv_options.items()}"
   ]
  },
  {
   "cell_type": "code",
   "execution_count": 7,
   "id": "084eedf6-c468-4e85-92ef-952580d2fbc9",
   "metadata": {},
   "outputs": [],
   "source": [
    "\"\"\"\n",
    "Берем правила Таргетингов из ТВ индекс\n",
    "Меяем название группы доходов, чтобы оно соответсвовало названиям из Гродов России\n",
    "cats.get_tv_grp_type()\n",
    "\"\"\"\n",
    "\n",
    "reg_tv_targets = dict([(k, v.replace('incomeGroupRussia', 'incomeGroup')) for k, v in config_tv_index.nat_tv_targets.items()])"
   ]
  },
  {
   "cell_type": "code",
   "execution_count": 8,
   "id": "1976d793-cb93-45b2-98e9-b1931390d99c",
   "metadata": {},
   "outputs": [],
   "source": [
    "\"\"\"\n",
    "таблица фактов по отчету Simple\n",
    "\n",
    "При создании 2-х таблиц БД - отчет Simple / отчет Buying\n",
    "используем все, что указанов ТВ индекс, ничего не меняем\n",
    "\"\"\"\n",
    "\n",
    "reg_tv_simple = 'reg_tv_simple'\n",
    "\n",
    "reg_tv_simple_vars_list = config_tv_index.nat_tv_simple_vars_list\n",
    "reg_tv_simple_int_lst = config_tv_index.nat_tv_simple_int_lst\n",
    "reg_tv_simple_float_lst = config_tv_index.nat_tv_simple_float_lst"
   ]
  },
  {
   "cell_type": "code",
   "execution_count": 9,
   "id": "86435602-291b-4ca4-96e4-1d7a82589d75",
   "metadata": {},
   "outputs": [],
   "source": [
    "\"\"\"\n",
    "таблица фактов по отчету Buying\n",
    "используем все, что указанов ТВ индекс, ничего не меняем\n",
    "\"\"\"\n",
    "\n",
    "reg_tv_buying = 'reg_tv_buying'\n",
    "\n",
    "reg_tv_buying_vars_list = config_tv_index.nat_tv_buying_vars_list\n",
    "\n",
    "reg_tv_buying_int_lst = config_tv_index.nat_tv_buying_int_lst \n",
    "reg_tv_buying_float_lst = config_tv_index.nat_tv_buying_float_lst"
   ]
  },
  {
   "cell_type": "code",
   "execution_count": null,
   "id": "b2ae5744-afc2-48cd-b53f-e7961ea00217",
   "metadata": {},
   "outputs": [],
   "source": []
  },
  {
   "cell_type": "code",
   "execution_count": 10,
   "id": "77a120bc-1e1d-4af0-89a6-eec3062aed08",
   "metadata": {},
   "outputs": [],
   "source": [
    "\"\"\"\n",
    "для каждого тип Медиа отдельный ключ tv / ra / od / pr - это префикс из Медиаскопа\n",
    "Список параметров словарей ТВ Индекс для создания таблиц в БД и нормализации данных\n",
    "Название таблицы / Список названий полей  в БД и типы данных / Список целочисденных полей\n",
    "\"\"\"\n",
    "\n",
    "reg_tv_fact = {\n",
    "    'simple': [reg_tv_simple, reg_tv_simple_vars_list, reg_tv_simple_int_lst, reg_tv_simple_float_lst],\n",
    "    'buying': [reg_tv_buying, reg_tv_buying_vars_list, reg_tv_buying_int_lst, reg_tv_buying_float_lst],\n",
    "}"
   ]
  },
  {
   "cell_type": "code",
   "execution_count": 11,
   "id": "9d3c0c45-e72a-4787-8c94-e32b303b158a",
   "metadata": {},
   "outputs": [],
   "source": [
    "\"\"\"\n",
    "словарь с характеристиками Объявлений\n",
    "забираем через отчет Simple\n",
    "\n",
    "пересоздаем пустую таблицу Справочников в БД\n",
    "\"\"\"\n",
    "\n",
    "reg_tv_ad_dict = 'reg_tv_ad_dict'\n",
    "\n",
    "reg_tv_ad_dict_vars_list = config_tv_index.nat_tv_ad_dict_vars_list\n",
    "\n",
    "reg_tv_ad_dict_int_lst = config_tv_index.nat_tv_ad_dict_int_lst"
   ]
  }
 ],
 "metadata": {
  "kernelspec": {
   "display_name": "Python 3 (ipykernel)",
   "language": "python",
   "name": "python3"
  },
  "language_info": {
   "codemirror_mode": {
    "name": "ipython",
    "version": 3
   },
   "file_extension": ".py",
   "mimetype": "text/x-python",
   "name": "python",
   "nbconvert_exporter": "python",
   "pygments_lexer": "ipython3",
   "version": "3.11.7"
  }
 },
 "nbformat": 4,
 "nbformat_minor": 5
}
