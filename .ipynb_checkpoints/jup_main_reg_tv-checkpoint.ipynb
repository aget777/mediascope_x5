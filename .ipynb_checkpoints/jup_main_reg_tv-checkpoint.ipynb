{
 "cells": [
  {
   "cell_type": "code",
   "execution_count": 1,
   "id": "da4b3a34-0197-41e4-aaf5-bc3989893afa",
   "metadata": {},
   "outputs": [
    {
     "name": "stdout",
     "output_type": "stream",
     "text": [
      "Все ок. Подключились!\n",
      "Загрузка завершена успешно\n",
      "Запрошены записи: 0 - 314\n",
      "Всего найдено записей: 314\n",
      "\n",
      "Запрошены записи: 0 - 314\n",
      "Всего найдено записей: 314\n",
      "\n",
      "Запрошены записи: 0 - 314\n",
      "Всего найдено записей: 314\n",
      "\n",
      "Запрошены записи: 0 - 314\n",
      "Всего найдено записей: 314\n",
      "\n",
      "База данных для записи: mediascope_x5\n"
     ]
    }
   ],
   "source": [
    "import os\n",
    "\n",
    "from time import sleep\n",
    "import config\n",
    "import config_reg_tv\n",
    "\n",
    "from config_search_funcs import get_subbrand_id_str\n",
    "from reg_tv_ratings import get_reg_tv_reports\n",
    "from create_dicts_tv_index import update_nat_tv_ad_dict\n",
    "\n",
    "start_date = '2025-05-01' # если дата начала НЕ указана, то start_date = Сегодня минус 3 дня минус 17 дней\n",
    "end_date = '2025-05-01' #- ВКЛЮЧИТЕЛЬНО / если дата окончания НЕ указана, то end_date = Сегодня минус 3 дня\n",
    "\n",
    "flag='first' #first / regular\n",
    "\n",
    "\n",
    "print(f'База данных для записи: {config.db_name}')"
   ]
  },
  {
   "cell_type": "code",
   "execution_count": null,
   "id": "6d1a4d5a-7ca1-4981-8d3f-d0a85ce797b3",
   "metadata": {},
   "outputs": [],
   "source": [
    "#### Если флаг first - создаем набор пустых таблиц-справочников / \n",
    "# забираем статистику / заполняем таблицы фактов и справочник nat_tv_ad_dict\n",
    "# Если флаг regular - то грузим статистику и обновляем справочники\n",
    "# если start_date(дата начала) НЕ указана, то \n",
    "# удаляем из БД - последние 17(сегодня-14-3) дней\n",
    "# перезаисываем статистику за этот период\n",
    "# если НЕ указана end_date(дата окончания) - ВКЛЮЧИТЕЛЬНО, то грузим данные до сегодня-3 дня\n",
    "# получаем статистику по отчету Simple и Buying\n",
    "get_reg_tv_reports(start_date=start_date, end_date=end_date, flag=flag)"
   ]
  },
  {
   "cell_type": "code",
   "execution_count": 2,
   "id": "502f62fa-3693-4848-b392-cd424326afcb",
   "metadata": {},
   "outputs": [
    {
     "name": "stdout",
     "output_type": "stream",
     "text": [
      "Все ок. Подключились!\n",
      "Загрузка завершена успешно\n",
      "Все ок. Подключились!\n",
      "Таблица: reg_tv_ad_dict успешно удалена в БД: mediascope_x5\n",
      "##########\n",
      "Все ок. Подключились!\n",
      "Пустая таблица reg_tv_ad_dict успешно создана в БД mediascope_x5\n",
      "Все ок. Подключились!\n",
      "Скрипт запущен 2025-05-28 11:55:40.633625\n",
      "Данные добавлены в БД: mediascope_x5, таблица: reg_tv_ad_dict\n",
      "Скрипт отработал 2025-05-28 11:55:40.680557\n",
      "Время выполнения задачи: 0:00:00.046932\n",
      "Загрузка завершена. Данные успешно добавлены в БД: mediascope_x5\n",
      "##################################################\n",
      "\n"
     ]
    }
   ],
   "source": [
    "update_nat_tv_ad_dict(tv_report='reg')"
   ]
  }
 ],
 "metadata": {
  "kernelspec": {
   "display_name": "Python 3 (ipykernel)",
   "language": "python",
   "name": "python3"
  },
  "language_info": {
   "codemirror_mode": {
    "name": "ipython",
    "version": 3
   },
   "file_extension": ".py",
   "mimetype": "text/x-python",
   "name": "python",
   "nbconvert_exporter": "python",
   "pygments_lexer": "ipython3",
   "version": "3.11.7"
  }
 },
 "nbformat": 4,
 "nbformat_minor": 5
}
