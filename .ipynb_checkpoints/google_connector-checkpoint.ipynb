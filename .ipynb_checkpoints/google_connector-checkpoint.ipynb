{
 "cells": [
  {
   "cell_type": "code",
   "execution_count": 1,
   "id": "ccf48e16-1232-4d3a-bb65-138a9d79eac1",
   "metadata": {},
   "outputs": [],
   "source": [
    "import gspread\n",
    "from oauth2client.service_account import ServiceAccountCredentials\n",
    "import pandas as pd\n",
    "\n",
    "import config\n",
    "import config_tv_index\n",
    "import config_media_costs\n",
    "from db_funcs import get_mssql_table\n",
    "\n"
   ]
  },
  {
   "cell_type": "code",
   "execution_count": 2,
   "id": "45e80fc7-aebd-446f-aba1-f273844243b0",
   "metadata": {},
   "outputs": [],
   "source": [
    "\"\"\"\n",
    "функция для того, чтобы создать подключение к Гугл докс\n",
    "\"\"\"\n",
    "\n",
    "def create_connection(service_file):\n",
    "    client = None\n",
    "    scope = [\n",
    "        \"https://www.googleapis.com/auth/drive\",\n",
    "        \"https://www.googleapis.com/auth/drive.file\",\n",
    "    ]\n",
    "    try:\n",
    "        credentials = ServiceAccountCredentials.from_json_keyfile_name(\n",
    "            service_file, scope\n",
    "        )\n",
    "        client = gspread.authorize(credentials)\n",
    "        print(\"Connection established successfully...\")\n",
    "    except Exception as e:\n",
    "        print(e)\n",
    "    return client"
   ]
  },
  {
   "cell_type": "code",
   "execution_count": 3,
   "id": "18aa6f23-233b-47a9-8cbb-7f7fe97f7bb4",
   "metadata": {},
   "outputs": [],
   "source": [
    "\"\"\"\n",
    "функция для загрузки данных в гугл таблицу\n",
    "\"\"\"\n",
    "\n",
    "def export_dataframe_to_google_sheet(worksheet, df):\n",
    "    try:\n",
    "        worksheet.update(\n",
    "            [df.columns.values.tolist()] + df.values.tolist(),\n",
    "            \n",
    "        )\n",
    "        print(\"DataFrame exported successfully...\")\n",
    "    except Exception as e:\n",
    "        print(e)"
   ]
  },
  {
   "cell_type": "code",
   "execution_count": 4,
   "id": "05c5314f-ef1f-43dc-a1fc-942484a297f1",
   "metadata": {},
   "outputs": [],
   "source": [
    "\"\"\"\n",
    "с помощью этой функции делаем выгрузку новых объявлений на отдельный лист \n",
    "эту функцию запускаем в самом конце после обновлений всех таблиц\n",
    "она затирает все данные, которые были на листе и записывает заново только новые объявления\n",
    "\"\"\"\n",
    "\n",
    "def append_ads_to_google(query='', worksheet=''):\n",
    "    if query and worksheet:\n",
    "        # делаем запрос к БД, чтобы получить новые объявления\n",
    "        nat_tv_new_ad_dict_df = get_mssql_table(config.db_name, query=query)\n",
    "        # создаем подключение к гуглу\n",
    "        client = create_connection(config.service)\n",
    "        # прописываем доступы к документу, в который будем вносить запись\n",
    "        sh = client.open_by_url(config.google_docs_link)\n",
    "        sh.share(config.gmail, perm_type='user', role='writer')\n",
    "        google_sheet = sh.worksheet(worksheet)\n",
    "        # очищаем лист\n",
    "        google_sheet.clear()\n",
    "        # записываем новые данные\n",
    "        export_dataframe_to_google_sheet(google_sheet, nat_tv_new_ad_dict_df)\n",
    "    else:\n",
    "        print('Передайте параметры запроса / Название листа для сохранения данных')"
   ]
  },
  {
   "cell_type": "code",
   "execution_count": 5,
   "id": "fe4f77de-b11c-49e6-9799-3fd164981744",
   "metadata": {},
   "outputs": [],
   "source": [
    "# append_ads_to_google()"
   ]
  },
  {
   "cell_type": "code",
   "execution_count": 6,
   "id": "33becd91-4d7d-4b59-8671-2178fca28734",
   "metadata": {},
   "outputs": [],
   "source": [
    "# ratings / media\n",
    "def query_for_google(report='ratings'):\n",
    "    df = pd.read_csv(config.full_cleaning_link,  skiprows=[0], nrows=1)\n",
    "    df_cols = list(df.columns)\n",
    "    \n",
    "    if report=='ratings':\n",
    "        db_cols_dict = config_tv_index.google_new_ads_nat_tv['db_cols']\n",
    "        db_query = config_tv_index.google_new_ads_nat_tv['query']\n",
    "    if report=='media':\n",
    "        db_cols_dict = config_media_costs.google_new_ads_media_invest['db_cols']\n",
    "        db_query = config_media_costs.google_new_ads_media_invest['query']\n",
    "\n",
    "    tmp_lst = []\n",
    "    for key, value in db_cols_dict.items():\n",
    "        if key in df_cols:\n",
    "            tmp_lst.append(value)\n",
    "\n",
    "    query = 'select ' + ','.join(tmp_lst) + ' ' + db_query\n",
    "\n",
    "    return query"
   ]
  },
  {
   "cell_type": "code",
   "execution_count": null,
   "id": "4215e9c6-5d40-4764-9f51-4708caad0125",
   "metadata": {},
   "outputs": [],
   "source": []
  },
  {
   "cell_type": "code",
   "execution_count": null,
   "id": "47138c8f-d1a5-424e-bdf6-734016b9ca6d",
   "metadata": {},
   "outputs": [],
   "source": []
  },
  {
   "cell_type": "code",
   "execution_count": null,
   "id": "9bed3f8d-7f35-4bd8-9346-cd9951dd5a79",
   "metadata": {},
   "outputs": [],
   "source": []
  }
 ],
 "metadata": {
  "kernelspec": {
   "display_name": "Python 3 (ipykernel)",
   "language": "python",
   "name": "python3"
  },
  "language_info": {
   "codemirror_mode": {
    "name": "ipython",
    "version": 3
   },
   "file_extension": ".py",
   "mimetype": "text/x-python",
   "name": "python",
   "nbconvert_exporter": "python",
   "pygments_lexer": "ipython3",
   "version": "3.11.7"
  }
 },
 "nbformat": 4,
 "nbformat_minor": 5
}
